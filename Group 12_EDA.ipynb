{
  "nbformat": 4,
  "nbformat_minor": 0,
  "metadata": {
    "colab": {
      "name": "EDA .ipynb",
      "provenance": [],
      "collapsed_sections": [],
      "toc_visible": true
    },
    "kernelspec": {
      "name": "python3",
      "display_name": "Python 3"
    },
    "language_info": {
      "name": "python"
    }
  },
  "cells": [
    {
      "cell_type": "code",
      "metadata": {
        "id": "9Kec38u1Xufw"
      },
      "source": [
        "import numpy as np\n",
        "import pandas as pd\n",
        "import matplotlib\n",
        "import matplotlib.pyplot as plt\n",
        "import csv\n",
        "from pathlib import Path\n",
        "\n",
        "import seaborn as sns\n",
        "sns.set_context(\"talk\")\n",
        "%matplotlib inline\n",
        "\n",
        "from sklearn.model_selection import train_test_split\n",
        "from sklearn.model_selection import train_test_split\n",
        "from sklearn.linear_model import LinearRegression\n",
        "from sklearn.linear_model import Ridge\n",
        "from sklearn.linear_model import Lasso\n",
        "from sklearn.metrics import mean_squared_error\n",
        "from sklearn.preprocessing import StandardScaler\n",
        "from sklearn.model_selection import KFold\n",
        "\n",
        "import warnings\n",
        "warnings.filterwarnings('ignore')\n"
      ],
      "execution_count": 1,
      "outputs": []
    },
    {
      "cell_type": "code",
      "metadata": {
        "id": "ZyaCaXW3aLNN"
      },
      "source": [
        "!pip install -U -q PyDrive\n",
        "from pydrive.auth import GoogleAuth\n",
        "from pydrive.drive import GoogleDrive\n",
        "from google.colab import auth\n",
        "from oauth2client.client import GoogleCredentials\n",
        "\n",
        "auth.authenticate_user()\n",
        "gauth = GoogleAuth()\n",
        "gauth.credentials = GoogleCredentials.get_application_default()\n",
        "drive = GoogleDrive(gauth)\n"
      ],
      "execution_count": 2,
      "outputs": []
    },
    {
      "cell_type": "code",
      "metadata": {
        "id": "xO1j4vX7beYb"
      },
      "source": [
        "!pip install -q xlrd"
      ],
      "execution_count": 3,
      "outputs": []
    },
    {
      "cell_type": "markdown",
      "metadata": {
        "id": "yB7tLW_lKRu3"
      },
      "source": [
        "#1 Jobs\n",
        "\n",
        "---\n",
        "\n",
        "\n",
        "\n",
        "\n"
      ]
    },
    {
      "cell_type": "code",
      "metadata": {
        "id": "wwByuqcqanH_"
      },
      "source": [
        "file_id2012 = '1xRxZCcGD8ViCNJumDdX4w7C-g71yqG17'\n",
        "downloaded_2012 = drive.CreateFile({'id': file_id2012})\n",
        "\n",
        "file_id2013 = '1A47r6yhGAxYvHguO9an0GVb-veZcVlOv'\n",
        "downloaded_2013 = drive.CreateFile({'id': file_id2013})\n",
        "\n",
        "file_id2014 = '1u3MbxrASOzzAHvdqDWj6YsHgxjJo3N-1'\n",
        "downloaded_2014 = drive.CreateFile({'id': file_id2014})\n",
        "\n",
        "file_id2015 = '1FmhBGVr6sM_CC0zeED6yg2YBv6O-rAlm'\n",
        "downloaded_2015 = drive.CreateFile({'id': file_id2015})\n",
        "\n",
        "file_id2016 = '1jlvMppVC48WdyAn2yE1GL6lXSPiI_oBh'\n",
        "downloaded_2016 = drive.CreateFile({'id': file_id2016})\n",
        "\n",
        "file_id2017 = '1iGfiFxNj6iVq_3QObA7w2EXiERvAM4BN'\n",
        "downloaded_2017 = drive.CreateFile({'id': file_id2017})\n",
        "\n",
        "file_id2018 = '15yW7Go26MSkoKkhIRgiT85KMas9POgWB'\n",
        "downloaded_2018 = drive.CreateFile({'id': file_id2018})\n",
        "\n",
        "file_id2019 = '1HFPHPNXtS5_NsrGgvPPMwkttKNw_rOeQ'\n",
        "downloaded_2019 = drive.CreateFile({'id': file_id2019})\n",
        "\n",
        "file_id2020 = '1TrADW1hJcsjrtUCJRIhQVNPlcctiQrbK'\n",
        "downloaded_2020 = drive.CreateFile({'id': file_id2020})"
      ],
      "execution_count": 4,
      "outputs": []
    },
    {
      "cell_type": "code",
      "metadata": {
        "id": "k_OpNhuBa3On"
      },
      "source": [
        "# Download the file to a local disk as '2012.xlsx'.\n",
        "downloaded_2012.GetContentFile('2012.xlsx')\n",
        "downloaded_2013.GetContentFile('2013.xlsx')\n",
        "downloaded_2014.GetContentFile('2014.xlsx')\n",
        "downloaded_2015.GetContentFile('2015.xlsx')\n",
        "downloaded_2015.GetContentFile('2015.xlsx')\n",
        "downloaded_2016.GetContentFile('2016.xlsx')\n",
        "downloaded_2017.GetContentFile('2017.xlsx')\n",
        "downloaded_2018.GetContentFile('2018.xlsx')\n",
        "downloaded_2019.GetContentFile('2019.xlsx')\n",
        "downloaded_2020.GetContentFile('2020.xlsx')"
      ],
      "execution_count": 5,
      "outputs": []
    },
    {
      "cell_type": "code",
      "metadata": {
        "id": "z8qzk-wVV6as"
      },
      "source": [
        "df2012 = pd.read_excel('2012.xlsx')\n",
        "df2013 = pd.read_excel('2013.xlsx')\n",
        "df2014 = pd.read_excel('2014.xlsx')\n",
        "df2015 = pd.read_excel('2015.xlsx')\n",
        "df2016 = pd.read_excel('2016.xlsx')\n",
        "df2017 = pd.read_excel('2017.xlsx')\n",
        "df2018 = pd.read_excel('2018.xlsx')\n",
        "df2019 = pd.read_excel('2019.xlsx')\n",
        "df2020 = pd.read_excel('2020.xlsx')\n"
      ],
      "execution_count": 6,
      "outputs": []
    },
    {
      "cell_type": "code",
      "metadata": {
        "colab": {
          "base_uri": "https://localhost:8080/",
          "height": 184
        },
        "id": "bcuVPkJsdHR7",
        "outputId": "8a597e36-b702-4f67-f3d5-920681847aba"
      },
      "source": [
        "df2012.head(2)\n"
      ],
      "execution_count": 7,
      "outputs": [
        {
          "output_type": "execute_result",
          "data": {
            "text/html": [
              "<div>\n",
              "<style scoped>\n",
              "    .dataframe tbody tr th:only-of-type {\n",
              "        vertical-align: middle;\n",
              "    }\n",
              "\n",
              "    .dataframe tbody tr th {\n",
              "        vertical-align: top;\n",
              "    }\n",
              "\n",
              "    .dataframe thead th {\n",
              "        text-align: right;\n",
              "    }\n",
              "</style>\n",
              "<table border=\"1\" class=\"dataframe\">\n",
              "  <thead>\n",
              "    <tr style=\"text-align: right;\">\n",
              "      <th></th>\n",
              "      <th>area</th>\n",
              "      <th>area_title</th>\n",
              "      <th>naics</th>\n",
              "      <th>naics_title</th>\n",
              "      <th>own_code</th>\n",
              "      <th>occ code</th>\n",
              "      <th>occ title</th>\n",
              "      <th>group</th>\n",
              "      <th>tot_emp</th>\n",
              "      <th>emp_prse</th>\n",
              "      <th>pct_tot</th>\n",
              "      <th>h_mean</th>\n",
              "      <th>a_mean</th>\n",
              "      <th>mean_prse</th>\n",
              "      <th>h_pct10</th>\n",
              "      <th>h_pct25</th>\n",
              "      <th>h_median</th>\n",
              "      <th>h_pct75</th>\n",
              "      <th>h_pct90</th>\n",
              "      <th>a_pct10</th>\n",
              "      <th>a_pct25</th>\n",
              "      <th>a_median</th>\n",
              "      <th>a_pct75</th>\n",
              "      <th>a_pct90</th>\n",
              "      <th>annual</th>\n",
              "      <th>hourly</th>\n",
              "      <th>year</th>\n",
              "    </tr>\n",
              "  </thead>\n",
              "  <tbody>\n",
              "    <tr>\n",
              "      <th>0</th>\n",
              "      <td>1</td>\n",
              "      <td>Alabama</td>\n",
              "      <td>21</td>\n",
              "      <td>Sector 21 - Mining</td>\n",
              "      <td>5</td>\n",
              "      <td>00-0000</td>\n",
              "      <td>All Occupations</td>\n",
              "      <td>total</td>\n",
              "      <td>8520</td>\n",
              "      <td>3.9</td>\n",
              "      <td>100</td>\n",
              "      <td>25.82</td>\n",
              "      <td>53700</td>\n",
              "      <td>2.9</td>\n",
              "      <td>12.54</td>\n",
              "      <td>16.54</td>\n",
              "      <td>24.43</td>\n",
              "      <td>28.46</td>\n",
              "      <td>42.6</td>\n",
              "      <td>26080</td>\n",
              "      <td>34390</td>\n",
              "      <td>50810</td>\n",
              "      <td>59190</td>\n",
              "      <td>88610</td>\n",
              "      <td></td>\n",
              "      <td></td>\n",
              "      <td>2012</td>\n",
              "    </tr>\n",
              "    <tr>\n",
              "      <th>1</th>\n",
              "      <td>1</td>\n",
              "      <td>Alabama</td>\n",
              "      <td>21</td>\n",
              "      <td>Sector 21 - Mining</td>\n",
              "      <td>5</td>\n",
              "      <td>11-0000</td>\n",
              "      <td>Management Occupations</td>\n",
              "      <td>major</td>\n",
              "      <td>430</td>\n",
              "      <td>11.4</td>\n",
              "      <td>5.05</td>\n",
              "      <td>62.83</td>\n",
              "      <td>130690</td>\n",
              "      <td>4.2</td>\n",
              "      <td>31.55</td>\n",
              "      <td>39.9</td>\n",
              "      <td>55.26</td>\n",
              "      <td>79.59</td>\n",
              "      <td>#</td>\n",
              "      <td>65630</td>\n",
              "      <td>83000</td>\n",
              "      <td>114940</td>\n",
              "      <td>165550</td>\n",
              "      <td>#</td>\n",
              "      <td></td>\n",
              "      <td></td>\n",
              "      <td>2012</td>\n",
              "    </tr>\n",
              "  </tbody>\n",
              "</table>\n",
              "</div>"
            ],
            "text/plain": [
              "   area area_title  naics         naics_title  ...  a_pct90 annual hourly  year\n",
              "0     1    Alabama     21  Sector 21 - Mining  ...    88610                2012\n",
              "1     1    Alabama     21  Sector 21 - Mining  ...        #                2012\n",
              "\n",
              "[2 rows x 27 columns]"
            ]
          },
          "metadata": {},
          "execution_count": 7
        }
      ]
    },
    {
      "cell_type": "code",
      "metadata": {
        "colab": {
          "base_uri": "https://localhost:8080/",
          "height": 184
        },
        "id": "AEIwuK_6lO87",
        "outputId": "886f7ae9-199d-4440-9968-60e245ab1bf9"
      },
      "source": [
        "df2013.head(2)\n"
      ],
      "execution_count": 8,
      "outputs": [
        {
          "output_type": "execute_result",
          "data": {
            "text/html": [
              "<div>\n",
              "<style scoped>\n",
              "    .dataframe tbody tr th:only-of-type {\n",
              "        vertical-align: middle;\n",
              "    }\n",
              "\n",
              "    .dataframe tbody tr th {\n",
              "        vertical-align: top;\n",
              "    }\n",
              "\n",
              "    .dataframe thead th {\n",
              "        text-align: right;\n",
              "    }\n",
              "</style>\n",
              "<table border=\"1\" class=\"dataframe\">\n",
              "  <thead>\n",
              "    <tr style=\"text-align: right;\">\n",
              "      <th></th>\n",
              "      <th>area</th>\n",
              "      <th>area_title</th>\n",
              "      <th>naics</th>\n",
              "      <th>naics_title</th>\n",
              "      <th>own_code</th>\n",
              "      <th>occ code</th>\n",
              "      <th>occ title</th>\n",
              "      <th>group</th>\n",
              "      <th>tot_emp</th>\n",
              "      <th>emp_prse</th>\n",
              "      <th>pct_tot</th>\n",
              "      <th>h_mean</th>\n",
              "      <th>a_mean</th>\n",
              "      <th>mean_prse</th>\n",
              "      <th>h_pct10</th>\n",
              "      <th>h_pct25</th>\n",
              "      <th>h_median</th>\n",
              "      <th>h_pct75</th>\n",
              "      <th>h_pct90</th>\n",
              "      <th>a_pct10</th>\n",
              "      <th>a_pct25</th>\n",
              "      <th>a_median</th>\n",
              "      <th>a_pct75</th>\n",
              "      <th>a_pct90</th>\n",
              "      <th>annual</th>\n",
              "      <th>hourly</th>\n",
              "      <th>year</th>\n",
              "    </tr>\n",
              "  </thead>\n",
              "  <tbody>\n",
              "    <tr>\n",
              "      <th>0</th>\n",
              "      <td>1</td>\n",
              "      <td>Alabama</td>\n",
              "      <td>21</td>\n",
              "      <td>Sector 21 - Mining</td>\n",
              "      <td>5</td>\n",
              "      <td>00-0000</td>\n",
              "      <td>All Occupations</td>\n",
              "      <td>total</td>\n",
              "      <td>7830</td>\n",
              "      <td>2.7</td>\n",
              "      <td>100</td>\n",
              "      <td>27.01</td>\n",
              "      <td>56180</td>\n",
              "      <td>1.7</td>\n",
              "      <td>13.52</td>\n",
              "      <td>18.31</td>\n",
              "      <td>25.52</td>\n",
              "      <td>28.98</td>\n",
              "      <td>44.26</td>\n",
              "      <td>28130</td>\n",
              "      <td>38080</td>\n",
              "      <td>53090</td>\n",
              "      <td>60280</td>\n",
              "      <td>92060</td>\n",
              "      <td></td>\n",
              "      <td></td>\n",
              "      <td>2013</td>\n",
              "    </tr>\n",
              "    <tr>\n",
              "      <th>1</th>\n",
              "      <td>1</td>\n",
              "      <td>Alabama</td>\n",
              "      <td>21</td>\n",
              "      <td>Sector 21 - Mining</td>\n",
              "      <td>5</td>\n",
              "      <td>11-0000</td>\n",
              "      <td>Management Occupations</td>\n",
              "      <td>major</td>\n",
              "      <td>300</td>\n",
              "      <td>10.3</td>\n",
              "      <td>3.83</td>\n",
              "      <td>61.93</td>\n",
              "      <td>128820</td>\n",
              "      <td>3.6</td>\n",
              "      <td>31.89</td>\n",
              "      <td>41.09</td>\n",
              "      <td>56.62</td>\n",
              "      <td>76.92</td>\n",
              "      <td>#</td>\n",
              "      <td>66320</td>\n",
              "      <td>85460</td>\n",
              "      <td>117780</td>\n",
              "      <td>160000</td>\n",
              "      <td>#</td>\n",
              "      <td></td>\n",
              "      <td></td>\n",
              "      <td>2013</td>\n",
              "    </tr>\n",
              "  </tbody>\n",
              "</table>\n",
              "</div>"
            ],
            "text/plain": [
              "   area area_title  naics         naics_title  ...  a_pct90 annual hourly  year\n",
              "0     1    Alabama     21  Sector 21 - Mining  ...    92060                2013\n",
              "1     1    Alabama     21  Sector 21 - Mining  ...        #                2013\n",
              "\n",
              "[2 rows x 27 columns]"
            ]
          },
          "metadata": {},
          "execution_count": 8
        }
      ]
    },
    {
      "cell_type": "code",
      "metadata": {
        "colab": {
          "base_uri": "https://localhost:8080/",
          "height": 288
        },
        "id": "Au0xHTLrlT2e",
        "outputId": "9cf44b3a-f7b1-4e21-864a-fdaa3ac405a6"
      },
      "source": [
        "df2014.head(2)\n"
      ],
      "execution_count": 9,
      "outputs": [
        {
          "output_type": "execute_result",
          "data": {
            "text/html": [
              "<div>\n",
              "<style scoped>\n",
              "    .dataframe tbody tr th:only-of-type {\n",
              "        vertical-align: middle;\n",
              "    }\n",
              "\n",
              "    .dataframe tbody tr th {\n",
              "        vertical-align: top;\n",
              "    }\n",
              "\n",
              "    .dataframe thead th {\n",
              "        text-align: right;\n",
              "    }\n",
              "</style>\n",
              "<table border=\"1\" class=\"dataframe\">\n",
              "  <thead>\n",
              "    <tr style=\"text-align: right;\">\n",
              "      <th></th>\n",
              "      <th>area</th>\n",
              "      <th>area_title</th>\n",
              "      <th>naics</th>\n",
              "      <th>naics_title</th>\n",
              "      <th>occ code</th>\n",
              "      <th>occ title</th>\n",
              "      <th>group</th>\n",
              "      <th>i_group</th>\n",
              "      <th>tot_emp</th>\n",
              "      <th>emp_prse</th>\n",
              "      <th>pct_tot</th>\n",
              "      <th>h_mean</th>\n",
              "      <th>a_mean</th>\n",
              "      <th>mean_prse</th>\n",
              "      <th>h_pct10</th>\n",
              "      <th>h_pct25</th>\n",
              "      <th>h_median</th>\n",
              "      <th>h_pct75</th>\n",
              "      <th>h_pct90</th>\n",
              "      <th>a_pct10</th>\n",
              "      <th>a_pct25</th>\n",
              "      <th>a_median</th>\n",
              "      <th>a_pct75</th>\n",
              "      <th>a_pct90</th>\n",
              "      <th>annual</th>\n",
              "      <th>hourly</th>\n",
              "      <th>year</th>\n",
              "    </tr>\n",
              "  </thead>\n",
              "  <tbody>\n",
              "    <tr>\n",
              "      <th>0</th>\n",
              "      <td>1</td>\n",
              "      <td>Alabama</td>\n",
              "      <td>21</td>\n",
              "      <td>Sector 21 - Mining, Quarrying, and Oil and Gas...</td>\n",
              "      <td>00-0000</td>\n",
              "      <td>All Occupations</td>\n",
              "      <td>total</td>\n",
              "      <td>sector</td>\n",
              "      <td>7710</td>\n",
              "      <td>3.1</td>\n",
              "      <td>100</td>\n",
              "      <td>27.34</td>\n",
              "      <td>56870</td>\n",
              "      <td>2</td>\n",
              "      <td>13.1</td>\n",
              "      <td>17.98</td>\n",
              "      <td>25.88</td>\n",
              "      <td>29.68</td>\n",
              "      <td>45.31</td>\n",
              "      <td>27240</td>\n",
              "      <td>37390</td>\n",
              "      <td>53830</td>\n",
              "      <td>61740</td>\n",
              "      <td>94250</td>\n",
              "      <td>NaN</td>\n",
              "      <td>NaN</td>\n",
              "      <td>2014</td>\n",
              "    </tr>\n",
              "    <tr>\n",
              "      <th>1</th>\n",
              "      <td>1</td>\n",
              "      <td>Alabama</td>\n",
              "      <td>21</td>\n",
              "      <td>Sector 21 - Mining, Quarrying, and Oil and Gas...</td>\n",
              "      <td>11-0000</td>\n",
              "      <td>Management Occupations</td>\n",
              "      <td>major</td>\n",
              "      <td>sector</td>\n",
              "      <td>270</td>\n",
              "      <td>8.4</td>\n",
              "      <td>3.5</td>\n",
              "      <td>64.31</td>\n",
              "      <td>133760</td>\n",
              "      <td>3.7</td>\n",
              "      <td>34.27</td>\n",
              "      <td>45.58</td>\n",
              "      <td>59.6</td>\n",
              "      <td>78.04</td>\n",
              "      <td>#</td>\n",
              "      <td>71290</td>\n",
              "      <td>94810</td>\n",
              "      <td>123960</td>\n",
              "      <td>162320</td>\n",
              "      <td>#</td>\n",
              "      <td>NaN</td>\n",
              "      <td>NaN</td>\n",
              "      <td>2014</td>\n",
              "    </tr>\n",
              "  </tbody>\n",
              "</table>\n",
              "</div>"
            ],
            "text/plain": [
              "   area area_title  naics  ... annual hourly  year\n",
              "0     1    Alabama     21  ...    NaN    NaN  2014\n",
              "1     1    Alabama     21  ...    NaN    NaN  2014\n",
              "\n",
              "[2 rows x 27 columns]"
            ]
          },
          "metadata": {},
          "execution_count": 9
        }
      ]
    },
    {
      "cell_type": "code",
      "metadata": {
        "colab": {
          "base_uri": "https://localhost:8080/",
          "height": 288
        },
        "id": "JhxbvFTFlUCa",
        "outputId": "80936d63-109b-4485-e376-e6564d2ce8f2"
      },
      "source": [
        "df2015.head(2)\n"
      ],
      "execution_count": 10,
      "outputs": [
        {
          "output_type": "execute_result",
          "data": {
            "text/html": [
              "<div>\n",
              "<style scoped>\n",
              "    .dataframe tbody tr th:only-of-type {\n",
              "        vertical-align: middle;\n",
              "    }\n",
              "\n",
              "    .dataframe tbody tr th {\n",
              "        vertical-align: top;\n",
              "    }\n",
              "\n",
              "    .dataframe thead th {\n",
              "        text-align: right;\n",
              "    }\n",
              "</style>\n",
              "<table border=\"1\" class=\"dataframe\">\n",
              "  <thead>\n",
              "    <tr style=\"text-align: right;\">\n",
              "      <th></th>\n",
              "      <th>area</th>\n",
              "      <th>area_title</th>\n",
              "      <th>naics</th>\n",
              "      <th>naics_title</th>\n",
              "      <th>occ code</th>\n",
              "      <th>occ title</th>\n",
              "      <th>group</th>\n",
              "      <th>i_group</th>\n",
              "      <th>tot_emp</th>\n",
              "      <th>emp_prse</th>\n",
              "      <th>pct_tot</th>\n",
              "      <th>h_mean</th>\n",
              "      <th>a_mean</th>\n",
              "      <th>mean_prse</th>\n",
              "      <th>h_pct10</th>\n",
              "      <th>h_pct25</th>\n",
              "      <th>h_median</th>\n",
              "      <th>h_pct75</th>\n",
              "      <th>h_pct90</th>\n",
              "      <th>a_pct10</th>\n",
              "      <th>a_pct25</th>\n",
              "      <th>a_median</th>\n",
              "      <th>a_pct75</th>\n",
              "      <th>a_pct90</th>\n",
              "      <th>annual</th>\n",
              "      <th>hourly</th>\n",
              "      <th>year</th>\n",
              "    </tr>\n",
              "  </thead>\n",
              "  <tbody>\n",
              "    <tr>\n",
              "      <th>0</th>\n",
              "      <td>1</td>\n",
              "      <td>Alabama</td>\n",
              "      <td>21</td>\n",
              "      <td>Mining, Quarrying, and Oil and Gas Extraction</td>\n",
              "      <td>00-0000</td>\n",
              "      <td>All Occupations</td>\n",
              "      <td>total</td>\n",
              "      <td>sector</td>\n",
              "      <td>7220</td>\n",
              "      <td>3.6</td>\n",
              "      <td>100</td>\n",
              "      <td>27.53</td>\n",
              "      <td>57260</td>\n",
              "      <td>3.4</td>\n",
              "      <td>13.44</td>\n",
              "      <td>18.12</td>\n",
              "      <td>26.11</td>\n",
              "      <td>30.13</td>\n",
              "      <td>45.98</td>\n",
              "      <td>27950</td>\n",
              "      <td>37680</td>\n",
              "      <td>54300</td>\n",
              "      <td>62670</td>\n",
              "      <td>95630</td>\n",
              "      <td>NaN</td>\n",
              "      <td>NaN</td>\n",
              "      <td>2015</td>\n",
              "    </tr>\n",
              "    <tr>\n",
              "      <th>1</th>\n",
              "      <td>1</td>\n",
              "      <td>Alabama</td>\n",
              "      <td>21</td>\n",
              "      <td>Mining, Quarrying, and Oil and Gas Extraction</td>\n",
              "      <td>11-0000</td>\n",
              "      <td>Management Occupations</td>\n",
              "      <td>major</td>\n",
              "      <td>sector</td>\n",
              "      <td>240</td>\n",
              "      <td>9.7</td>\n",
              "      <td>3.32</td>\n",
              "      <td>61.47</td>\n",
              "      <td>127860</td>\n",
              "      <td>4.3</td>\n",
              "      <td>33.8</td>\n",
              "      <td>43.76</td>\n",
              "      <td>58.02</td>\n",
              "      <td>73.41</td>\n",
              "      <td>#</td>\n",
              "      <td>70310</td>\n",
              "      <td>91010</td>\n",
              "      <td>120680</td>\n",
              "      <td>152690</td>\n",
              "      <td>#</td>\n",
              "      <td>NaN</td>\n",
              "      <td>NaN</td>\n",
              "      <td>2015</td>\n",
              "    </tr>\n",
              "  </tbody>\n",
              "</table>\n",
              "</div>"
            ],
            "text/plain": [
              "   area area_title  naics  ... annual hourly  year\n",
              "0     1    Alabama     21  ...    NaN    NaN  2015\n",
              "1     1    Alabama     21  ...    NaN    NaN  2015\n",
              "\n",
              "[2 rows x 27 columns]"
            ]
          },
          "metadata": {},
          "execution_count": 10
        }
      ]
    },
    {
      "cell_type": "code",
      "metadata": {
        "colab": {
          "base_uri": "https://localhost:8080/",
          "height": 288
        },
        "id": "1VVUsV4wlUFe",
        "outputId": "f1214c27-4401-4a96-d691-bda251d65166"
      },
      "source": [
        "\n",
        "df2016.head(2)\n"
      ],
      "execution_count": 11,
      "outputs": [
        {
          "output_type": "execute_result",
          "data": {
            "text/html": [
              "<div>\n",
              "<style scoped>\n",
              "    .dataframe tbody tr th:only-of-type {\n",
              "        vertical-align: middle;\n",
              "    }\n",
              "\n",
              "    .dataframe tbody tr th {\n",
              "        vertical-align: top;\n",
              "    }\n",
              "\n",
              "    .dataframe thead th {\n",
              "        text-align: right;\n",
              "    }\n",
              "</style>\n",
              "<table border=\"1\" class=\"dataframe\">\n",
              "  <thead>\n",
              "    <tr style=\"text-align: right;\">\n",
              "      <th></th>\n",
              "      <th>area</th>\n",
              "      <th>area_title</th>\n",
              "      <th>naics</th>\n",
              "      <th>naics_title</th>\n",
              "      <th>occ code</th>\n",
              "      <th>occ title</th>\n",
              "      <th>group</th>\n",
              "      <th>i_group</th>\n",
              "      <th>tot_emp</th>\n",
              "      <th>emp_prse</th>\n",
              "      <th>pct_total</th>\n",
              "      <th>h_mean</th>\n",
              "      <th>a_mean</th>\n",
              "      <th>mean_prse</th>\n",
              "      <th>h_pct10</th>\n",
              "      <th>h_pct25</th>\n",
              "      <th>h_median</th>\n",
              "      <th>h_pct75</th>\n",
              "      <th>h_pct90</th>\n",
              "      <th>a_pct10</th>\n",
              "      <th>a_pct25</th>\n",
              "      <th>a_median</th>\n",
              "      <th>a_pct75</th>\n",
              "      <th>a_pct90</th>\n",
              "      <th>annual</th>\n",
              "      <th>hourly</th>\n",
              "      <th>year</th>\n",
              "    </tr>\n",
              "  </thead>\n",
              "  <tbody>\n",
              "    <tr>\n",
              "      <th>0</th>\n",
              "      <td>1</td>\n",
              "      <td>Alabama</td>\n",
              "      <td>21</td>\n",
              "      <td>Mining, Quarrying, and Oil and Gas Extraction</td>\n",
              "      <td>00-0000</td>\n",
              "      <td>All Occupations</td>\n",
              "      <td>total</td>\n",
              "      <td>sector</td>\n",
              "      <td>5570</td>\n",
              "      <td>4</td>\n",
              "      <td>100</td>\n",
              "      <td>27.11</td>\n",
              "      <td>56380</td>\n",
              "      <td>3.4</td>\n",
              "      <td>13.64</td>\n",
              "      <td>17.12</td>\n",
              "      <td>25.76</td>\n",
              "      <td>30.97</td>\n",
              "      <td>45.81</td>\n",
              "      <td>28370</td>\n",
              "      <td>35600</td>\n",
              "      <td>53570</td>\n",
              "      <td>64410</td>\n",
              "      <td>95280</td>\n",
              "      <td>NaN</td>\n",
              "      <td>NaN</td>\n",
              "      <td>2016</td>\n",
              "    </tr>\n",
              "    <tr>\n",
              "      <th>1</th>\n",
              "      <td>1</td>\n",
              "      <td>Alabama</td>\n",
              "      <td>21</td>\n",
              "      <td>Mining, Quarrying, and Oil and Gas Extraction</td>\n",
              "      <td>11-0000</td>\n",
              "      <td>Management Occupations</td>\n",
              "      <td>major</td>\n",
              "      <td>sector</td>\n",
              "      <td>240</td>\n",
              "      <td>13.3</td>\n",
              "      <td>4.34</td>\n",
              "      <td>60.81</td>\n",
              "      <td>126480</td>\n",
              "      <td>4</td>\n",
              "      <td>33.41</td>\n",
              "      <td>43.8</td>\n",
              "      <td>57.64</td>\n",
              "      <td>73.97</td>\n",
              "      <td>93.2</td>\n",
              "      <td>69500</td>\n",
              "      <td>91100</td>\n",
              "      <td>119890</td>\n",
              "      <td>153850</td>\n",
              "      <td>193850</td>\n",
              "      <td>NaN</td>\n",
              "      <td>NaN</td>\n",
              "      <td>2016</td>\n",
              "    </tr>\n",
              "  </tbody>\n",
              "</table>\n",
              "</div>"
            ],
            "text/plain": [
              "   area area_title  naics  ... annual hourly  year\n",
              "0     1    Alabama     21  ...    NaN    NaN  2016\n",
              "1     1    Alabama     21  ...    NaN    NaN  2016\n",
              "\n",
              "[2 rows x 27 columns]"
            ]
          },
          "metadata": {},
          "execution_count": 11
        }
      ]
    },
    {
      "cell_type": "code",
      "metadata": {
        "colab": {
          "base_uri": "https://localhost:8080/",
          "height": 288
        },
        "id": "ea2SAooOlUH9",
        "outputId": "c7031d50-c21c-425c-f000-5dae69e979ac"
      },
      "source": [
        "df2017.head(2)\n"
      ],
      "execution_count": 12,
      "outputs": [
        {
          "output_type": "execute_result",
          "data": {
            "text/html": [
              "<div>\n",
              "<style scoped>\n",
              "    .dataframe tbody tr th:only-of-type {\n",
              "        vertical-align: middle;\n",
              "    }\n",
              "\n",
              "    .dataframe tbody tr th {\n",
              "        vertical-align: top;\n",
              "    }\n",
              "\n",
              "    .dataframe thead th {\n",
              "        text-align: right;\n",
              "    }\n",
              "</style>\n",
              "<table border=\"1\" class=\"dataframe\">\n",
              "  <thead>\n",
              "    <tr style=\"text-align: right;\">\n",
              "      <th></th>\n",
              "      <th>area</th>\n",
              "      <th>area_title</th>\n",
              "      <th>naics</th>\n",
              "      <th>naics_title</th>\n",
              "      <th>occ code</th>\n",
              "      <th>occ title</th>\n",
              "      <th>group</th>\n",
              "      <th>i_group</th>\n",
              "      <th>tot_emp</th>\n",
              "      <th>emp_prse</th>\n",
              "      <th>pct_total</th>\n",
              "      <th>h_mean</th>\n",
              "      <th>a_mean</th>\n",
              "      <th>mean_prse</th>\n",
              "      <th>h_pct10</th>\n",
              "      <th>h_pct25</th>\n",
              "      <th>h_median</th>\n",
              "      <th>h_pct75</th>\n",
              "      <th>h_pct90</th>\n",
              "      <th>a_pct10</th>\n",
              "      <th>a_pct25</th>\n",
              "      <th>a_median</th>\n",
              "      <th>a_pct75</th>\n",
              "      <th>a_pct90</th>\n",
              "      <th>annual</th>\n",
              "      <th>hourly</th>\n",
              "      <th>year</th>\n",
              "    </tr>\n",
              "  </thead>\n",
              "  <tbody>\n",
              "    <tr>\n",
              "      <th>0</th>\n",
              "      <td>1</td>\n",
              "      <td>Alabama</td>\n",
              "      <td>21</td>\n",
              "      <td>Mining, Quarrying, and Oil and Gas Extraction</td>\n",
              "      <td>00-0000</td>\n",
              "      <td>All Occupations</td>\n",
              "      <td>total</td>\n",
              "      <td>sector</td>\n",
              "      <td>5800</td>\n",
              "      <td>10.4</td>\n",
              "      <td>100</td>\n",
              "      <td>26.07</td>\n",
              "      <td>54230</td>\n",
              "      <td>4.2</td>\n",
              "      <td>13.27</td>\n",
              "      <td>16.41</td>\n",
              "      <td>21.67</td>\n",
              "      <td>30.47</td>\n",
              "      <td>44.77</td>\n",
              "      <td>27600</td>\n",
              "      <td>34120</td>\n",
              "      <td>45070</td>\n",
              "      <td>63380</td>\n",
              "      <td>93130</td>\n",
              "      <td>NaN</td>\n",
              "      <td>NaN</td>\n",
              "      <td>2017</td>\n",
              "    </tr>\n",
              "    <tr>\n",
              "      <th>1</th>\n",
              "      <td>1</td>\n",
              "      <td>Alabama</td>\n",
              "      <td>21</td>\n",
              "      <td>Mining, Quarrying, and Oil and Gas Extraction</td>\n",
              "      <td>11-0000</td>\n",
              "      <td>Management Occupations</td>\n",
              "      <td>major</td>\n",
              "      <td>sector</td>\n",
              "      <td>340</td>\n",
              "      <td>14.7</td>\n",
              "      <td>5.8</td>\n",
              "      <td>61.85</td>\n",
              "      <td>128640</td>\n",
              "      <td>7.8</td>\n",
              "      <td>32</td>\n",
              "      <td>39.5</td>\n",
              "      <td>55.45</td>\n",
              "      <td>73.48</td>\n",
              "      <td>#</td>\n",
              "      <td>66560</td>\n",
              "      <td>82170</td>\n",
              "      <td>115330</td>\n",
              "      <td>152830</td>\n",
              "      <td>#</td>\n",
              "      <td>NaN</td>\n",
              "      <td>NaN</td>\n",
              "      <td>2017</td>\n",
              "    </tr>\n",
              "  </tbody>\n",
              "</table>\n",
              "</div>"
            ],
            "text/plain": [
              "   area area_title  naics  ... annual hourly  year\n",
              "0     1    Alabama     21  ...    NaN    NaN  2017\n",
              "1     1    Alabama     21  ...    NaN    NaN  2017\n",
              "\n",
              "[2 rows x 27 columns]"
            ]
          },
          "metadata": {},
          "execution_count": 12
        }
      ]
    },
    {
      "cell_type": "code",
      "metadata": {
        "colab": {
          "base_uri": "https://localhost:8080/",
          "height": 288
        },
        "id": "lZtDmKV6lUM3",
        "outputId": "1cbb3aac-333c-4375-cdd8-00916e61a2d0"
      },
      "source": [
        "\n",
        "df2018.head(2)\n"
      ],
      "execution_count": 13,
      "outputs": [
        {
          "output_type": "execute_result",
          "data": {
            "text/html": [
              "<div>\n",
              "<style scoped>\n",
              "    .dataframe tbody tr th:only-of-type {\n",
              "        vertical-align: middle;\n",
              "    }\n",
              "\n",
              "    .dataframe tbody tr th {\n",
              "        vertical-align: top;\n",
              "    }\n",
              "\n",
              "    .dataframe thead th {\n",
              "        text-align: right;\n",
              "    }\n",
              "</style>\n",
              "<table border=\"1\" class=\"dataframe\">\n",
              "  <thead>\n",
              "    <tr style=\"text-align: right;\">\n",
              "      <th></th>\n",
              "      <th>area</th>\n",
              "      <th>area_title</th>\n",
              "      <th>naics</th>\n",
              "      <th>naics_title</th>\n",
              "      <th>occ code</th>\n",
              "      <th>occ title</th>\n",
              "      <th>o_group</th>\n",
              "      <th>i_group</th>\n",
              "      <th>tot_emp</th>\n",
              "      <th>emp_prse</th>\n",
              "      <th>pct_total</th>\n",
              "      <th>h_mean</th>\n",
              "      <th>a_mean</th>\n",
              "      <th>mean_prse</th>\n",
              "      <th>h_pct10</th>\n",
              "      <th>h_pct25</th>\n",
              "      <th>h_median</th>\n",
              "      <th>h_pct75</th>\n",
              "      <th>h_pct90</th>\n",
              "      <th>a_pct10</th>\n",
              "      <th>a_pct25</th>\n",
              "      <th>a_median</th>\n",
              "      <th>a_pct75</th>\n",
              "      <th>a_pct90</th>\n",
              "      <th>annual</th>\n",
              "      <th>hourly</th>\n",
              "      <th>year</th>\n",
              "    </tr>\n",
              "  </thead>\n",
              "  <tbody>\n",
              "    <tr>\n",
              "      <th>0</th>\n",
              "      <td>1</td>\n",
              "      <td>Alabama</td>\n",
              "      <td>21</td>\n",
              "      <td>Mining, Quarrying, and Oil and Gas Extraction</td>\n",
              "      <td>00-0000</td>\n",
              "      <td>All Occupations</td>\n",
              "      <td>total</td>\n",
              "      <td>sector</td>\n",
              "      <td>6530</td>\n",
              "      <td>7.3</td>\n",
              "      <td>100</td>\n",
              "      <td>27.4</td>\n",
              "      <td>56990</td>\n",
              "      <td>3.4</td>\n",
              "      <td>14.02</td>\n",
              "      <td>17.57</td>\n",
              "      <td>23.86</td>\n",
              "      <td>30.95</td>\n",
              "      <td>46.15</td>\n",
              "      <td>29160</td>\n",
              "      <td>36540</td>\n",
              "      <td>49620</td>\n",
              "      <td>64370</td>\n",
              "      <td>95990</td>\n",
              "      <td>NaN</td>\n",
              "      <td>NaN</td>\n",
              "      <td>2018</td>\n",
              "    </tr>\n",
              "    <tr>\n",
              "      <th>1</th>\n",
              "      <td>1</td>\n",
              "      <td>Alabama</td>\n",
              "      <td>21</td>\n",
              "      <td>Mining, Quarrying, and Oil and Gas Extraction</td>\n",
              "      <td>11-0000</td>\n",
              "      <td>Management Occupations</td>\n",
              "      <td>major</td>\n",
              "      <td>sector</td>\n",
              "      <td>310</td>\n",
              "      <td>12.1</td>\n",
              "      <td>4.8</td>\n",
              "      <td>66.56</td>\n",
              "      <td>138450</td>\n",
              "      <td>7.8</td>\n",
              "      <td>33.51</td>\n",
              "      <td>42.63</td>\n",
              "      <td>58.27</td>\n",
              "      <td>79.05</td>\n",
              "      <td>#</td>\n",
              "      <td>69690</td>\n",
              "      <td>88670</td>\n",
              "      <td>121200</td>\n",
              "      <td>164430</td>\n",
              "      <td>#</td>\n",
              "      <td>NaN</td>\n",
              "      <td>NaN</td>\n",
              "      <td>2018</td>\n",
              "    </tr>\n",
              "  </tbody>\n",
              "</table>\n",
              "</div>"
            ],
            "text/plain": [
              "   area area_title  naics  ... annual hourly  year\n",
              "0     1    Alabama     21  ...    NaN    NaN  2018\n",
              "1     1    Alabama     21  ...    NaN    NaN  2018\n",
              "\n",
              "[2 rows x 27 columns]"
            ]
          },
          "metadata": {},
          "execution_count": 13
        }
      ]
    },
    {
      "cell_type": "code",
      "metadata": {
        "colab": {
          "base_uri": "https://localhost:8080/",
          "height": 288
        },
        "id": "FowwMjTGlUTK",
        "outputId": "7153c507-f485-4ef2-d2fb-bb486378bd2c"
      },
      "source": [
        "df2019.head(2)\n"
      ],
      "execution_count": 14,
      "outputs": [
        {
          "output_type": "execute_result",
          "data": {
            "text/html": [
              "<div>\n",
              "<style scoped>\n",
              "    .dataframe tbody tr th:only-of-type {\n",
              "        vertical-align: middle;\n",
              "    }\n",
              "\n",
              "    .dataframe tbody tr th {\n",
              "        vertical-align: top;\n",
              "    }\n",
              "\n",
              "    .dataframe thead th {\n",
              "        text-align: right;\n",
              "    }\n",
              "</style>\n",
              "<table border=\"1\" class=\"dataframe\">\n",
              "  <thead>\n",
              "    <tr style=\"text-align: right;\">\n",
              "      <th></th>\n",
              "      <th>area</th>\n",
              "      <th>area_title</th>\n",
              "      <th>naics</th>\n",
              "      <th>naics_title</th>\n",
              "      <th>occ code</th>\n",
              "      <th>occ title</th>\n",
              "      <th>o_group</th>\n",
              "      <th>i_group</th>\n",
              "      <th>tot_emp</th>\n",
              "      <th>emp_prse</th>\n",
              "      <th>pct_total</th>\n",
              "      <th>h_mean</th>\n",
              "      <th>a_mean</th>\n",
              "      <th>mean_prse</th>\n",
              "      <th>h_pct10</th>\n",
              "      <th>h_pct25</th>\n",
              "      <th>h_median</th>\n",
              "      <th>h_pct75</th>\n",
              "      <th>h_pct90</th>\n",
              "      <th>a_pct10</th>\n",
              "      <th>a_pct25</th>\n",
              "      <th>a_median</th>\n",
              "      <th>a_pct75</th>\n",
              "      <th>a_pct90</th>\n",
              "      <th>annual</th>\n",
              "      <th>hourly</th>\n",
              "      <th>year</th>\n",
              "    </tr>\n",
              "  </thead>\n",
              "  <tbody>\n",
              "    <tr>\n",
              "      <th>0</th>\n",
              "      <td>1</td>\n",
              "      <td>Alabama</td>\n",
              "      <td>21</td>\n",
              "      <td>Mining, Quarrying, and Oil and Gas Extraction</td>\n",
              "      <td>00-0000</td>\n",
              "      <td>All Occupations</td>\n",
              "      <td>total</td>\n",
              "      <td>sector</td>\n",
              "      <td>6420</td>\n",
              "      <td>6.1</td>\n",
              "      <td>100</td>\n",
              "      <td>27.05</td>\n",
              "      <td>56260</td>\n",
              "      <td>3.7</td>\n",
              "      <td>13.63</td>\n",
              "      <td>17.21</td>\n",
              "      <td>23.6</td>\n",
              "      <td>30.57</td>\n",
              "      <td>46.43</td>\n",
              "      <td>28350</td>\n",
              "      <td>35790</td>\n",
              "      <td>49080</td>\n",
              "      <td>63580</td>\n",
              "      <td>96580</td>\n",
              "      <td>NaN</td>\n",
              "      <td>NaN</td>\n",
              "      <td>2019</td>\n",
              "    </tr>\n",
              "    <tr>\n",
              "      <th>1</th>\n",
              "      <td>1</td>\n",
              "      <td>Alabama</td>\n",
              "      <td>21</td>\n",
              "      <td>Mining, Quarrying, and Oil and Gas Extraction</td>\n",
              "      <td>11-0000</td>\n",
              "      <td>Management Occupations</td>\n",
              "      <td>major</td>\n",
              "      <td>sector</td>\n",
              "      <td>260</td>\n",
              "      <td>11.4</td>\n",
              "      <td>4.06</td>\n",
              "      <td>65.66</td>\n",
              "      <td>136570</td>\n",
              "      <td>6.2</td>\n",
              "      <td>32.98</td>\n",
              "      <td>41.74</td>\n",
              "      <td>56.64</td>\n",
              "      <td>79.52</td>\n",
              "      <td>#</td>\n",
              "      <td>68590</td>\n",
              "      <td>86820</td>\n",
              "      <td>117820</td>\n",
              "      <td>165410</td>\n",
              "      <td>#</td>\n",
              "      <td>NaN</td>\n",
              "      <td>NaN</td>\n",
              "      <td>2019</td>\n",
              "    </tr>\n",
              "  </tbody>\n",
              "</table>\n",
              "</div>"
            ],
            "text/plain": [
              "   area area_title  naics  ... annual hourly  year\n",
              "0     1    Alabama     21  ...    NaN    NaN  2019\n",
              "1     1    Alabama     21  ...    NaN    NaN  2019\n",
              "\n",
              "[2 rows x 27 columns]"
            ]
          },
          "metadata": {},
          "execution_count": 14
        }
      ]
    },
    {
      "cell_type": "code",
      "metadata": {
        "colab": {
          "base_uri": "https://localhost:8080/",
          "height": 271
        },
        "id": "PBGvy00olUWO",
        "outputId": "c34e837f-fb24-4dbb-e1cc-4c053e9999c4"
      },
      "source": [
        "df2020.head(2)"
      ],
      "execution_count": 15,
      "outputs": [
        {
          "output_type": "execute_result",
          "data": {
            "text/html": [
              "<div>\n",
              "<style scoped>\n",
              "    .dataframe tbody tr th:only-of-type {\n",
              "        vertical-align: middle;\n",
              "    }\n",
              "\n",
              "    .dataframe tbody tr th {\n",
              "        vertical-align: top;\n",
              "    }\n",
              "\n",
              "    .dataframe thead th {\n",
              "        text-align: right;\n",
              "    }\n",
              "</style>\n",
              "<table border=\"1\" class=\"dataframe\">\n",
              "  <thead>\n",
              "    <tr style=\"text-align: right;\">\n",
              "      <th></th>\n",
              "      <th>AREA</th>\n",
              "      <th>AREA_TITLE</th>\n",
              "      <th>NAICS</th>\n",
              "      <th>NAICS_TITLE</th>\n",
              "      <th>I_GROUP</th>\n",
              "      <th>OCC_CODE</th>\n",
              "      <th>OCC_TITLE</th>\n",
              "      <th>O_GROUP</th>\n",
              "      <th>TOT_EMP</th>\n",
              "      <th>EMP_PRSE</th>\n",
              "      <th>PCT_TOTAL</th>\n",
              "      <th>H_MEAN</th>\n",
              "      <th>A_MEAN</th>\n",
              "      <th>MEAN_PRSE</th>\n",
              "      <th>H_PCT10</th>\n",
              "      <th>H_PCT25</th>\n",
              "      <th>H_MEDIAN</th>\n",
              "      <th>H_PCT75</th>\n",
              "      <th>H_PCT90</th>\n",
              "      <th>A_PCT10</th>\n",
              "      <th>A_PCT25</th>\n",
              "      <th>A_MEDIAN</th>\n",
              "      <th>A_PCT75</th>\n",
              "      <th>A_PCT90</th>\n",
              "      <th>ANNUAL</th>\n",
              "      <th>HOURLY</th>\n",
              "      <th>year</th>\n",
              "    </tr>\n",
              "  </thead>\n",
              "  <tbody>\n",
              "    <tr>\n",
              "      <th>0</th>\n",
              "      <td>1</td>\n",
              "      <td>Alabama</td>\n",
              "      <td>21</td>\n",
              "      <td>Mining, Quarrying, and Oil and Gas Extraction</td>\n",
              "      <td>sector</td>\n",
              "      <td>00-0000</td>\n",
              "      <td>All Occupations</td>\n",
              "      <td>total</td>\n",
              "      <td>6190</td>\n",
              "      <td>7.8</td>\n",
              "      <td>100</td>\n",
              "      <td>27.18</td>\n",
              "      <td>56530</td>\n",
              "      <td>2.9</td>\n",
              "      <td>14.28</td>\n",
              "      <td>17.76</td>\n",
              "      <td>23.31</td>\n",
              "      <td>30.64</td>\n",
              "      <td>47.19</td>\n",
              "      <td>29700</td>\n",
              "      <td>36940</td>\n",
              "      <td>48490</td>\n",
              "      <td>63720</td>\n",
              "      <td>98150</td>\n",
              "      <td>NaN</td>\n",
              "      <td>NaN</td>\n",
              "      <td>2020</td>\n",
              "    </tr>\n",
              "    <tr>\n",
              "      <th>1</th>\n",
              "      <td>1</td>\n",
              "      <td>Alabama</td>\n",
              "      <td>21</td>\n",
              "      <td>Mining, Quarrying, and Oil and Gas Extraction</td>\n",
              "      <td>sector</td>\n",
              "      <td>11-0000</td>\n",
              "      <td>Management Occupations</td>\n",
              "      <td>major</td>\n",
              "      <td>240</td>\n",
              "      <td>13</td>\n",
              "      <td>3.92</td>\n",
              "      <td>64.4</td>\n",
              "      <td>133960</td>\n",
              "      <td>5.6</td>\n",
              "      <td>32.81</td>\n",
              "      <td>42.94</td>\n",
              "      <td>51.9</td>\n",
              "      <td>77.39</td>\n",
              "      <td>#</td>\n",
              "      <td>68240</td>\n",
              "      <td>89310</td>\n",
              "      <td>107950</td>\n",
              "      <td>160980</td>\n",
              "      <td>#</td>\n",
              "      <td>NaN</td>\n",
              "      <td>NaN</td>\n",
              "      <td>2020</td>\n",
              "    </tr>\n",
              "  </tbody>\n",
              "</table>\n",
              "</div>"
            ],
            "text/plain": [
              "   AREA AREA_TITLE  NAICS  ... ANNUAL HOURLY  year\n",
              "0     1    Alabama     21  ...    NaN    NaN  2020\n",
              "1     1    Alabama     21  ...    NaN    NaN  2020\n",
              "\n",
              "[2 rows x 27 columns]"
            ]
          },
          "metadata": {},
          "execution_count": 15
        }
      ]
    },
    {
      "cell_type": "markdown",
      "metadata": {
        "id": "DfiVrIV-JQG6"
      },
      "source": [
        "\"PREDICTION YEAR\" is the year where our \"y\" variable was observed (numbers of jobs)\n"
      ]
    },
    {
      "cell_type": "code",
      "metadata": {
        "id": "t5Bha_ARlUew"
      },
      "source": [
        "# ordering the columms so they all match(even though some of it, like 2012, 2013 and 2020 have different columns name). The important part here is to have in the same columns the same values for each year. \n",
        "df_2012 = df2012[['area',\t'area_title',\t'tot_emp', 'naics',\t'naics_title',\t'occ code',\t'occ title',\t'group',\t'own_code',\t 'year']]\n",
        "df_2013 = df2013[['area',\t'area_title', 'tot_emp', 'naics',\t'naics_title',\t'occ code',\t'occ title',\t'group',\t'own_code',\t 'year']]\n",
        "df_2014 = df2014[['area',\t'area_title',\t'tot_emp', 'naics',\t'naics_title',\t'occ code',\t'occ title',\t'group', 'i_group',\t 'year']]                    \n",
        "df_2015 = df2015[['area',\t'area_title',\t'tot_emp', 'naics',\t'naics_title',\t'occ code',\t'occ title',\t'group', 'i_group',\t 'year']] \n",
        "df_2016 = df2016[['area',\t'area_title',\t'tot_emp', 'naics',\t'naics_title',\t'occ code',\t'occ title',\t'group', 'i_group',\t 'year']]\n",
        "df_2017 = df2017[['area',\t'area_title', 'tot_emp', 'naics',\t'naics_title',\t'occ code',\t'occ title',\t'group', 'i_group',\t 'year']]\n",
        "df_2018 = df2018[['area',\t'area_title',\t'tot_emp', 'naics',\t'naics_title',\t'occ code',\t'occ title',\t'o_group', 'i_group',\t 'year']]\n",
        "df_2019 = df2019[['area',\t'area_title', 'tot_emp', 'naics',\t'naics_title',\t'occ code',\t'occ title',\t'o_group', 'i_group',\t 'year']]\n",
        "df_2020 = df2020[['AREA','AREA_TITLE',\t'TOT_EMP', 'NAICS',\t'NAICS_TITLE', 'OCC_CODE',\t'OCC_TITLE',\t'O_GROUP','I_GROUP',\t 'year']]"
      ],
      "execution_count": 16,
      "outputs": []
    },
    {
      "cell_type": "code",
      "metadata": {
        "id": "uXfPS0C6tLIf"
      },
      "source": [
        "# changing columns name (we don't care about occ code, own code, occ title, group, o_group, i_group) the colums that we are going to use are: STATE, INDUSTRY, OCCUPATION, TOT_EMP and YEAR.\n",
        "df_2012.columns = ['AREA','STATE', 'TOT_EMP',\t'NAICS',\t'INDUSTRY', 'OCC_CODE',\t'OCCUPATION',\t'O_GROUP','I_GROUP',\t'PREDICTION YEAR']\n",
        "df_2013.columns = ['AREA','STATE', 'TOT_EMP',\t'NAICS',\t'INDUSTRY', 'OCC_CODE',\t'OCCUPATION',\t'O_GROUP','I_GROUP',\t'PREDICTION YEAR']\n",
        "df_2014.columns = ['AREA','STATE', 'TOT_EMP',\t'NAICS',\t'INDUSTRY', 'OCC_CODE',\t'OCCUPATION',\t'O_GROUP','I_GROUP',\t'PREDICTION YEAR']\n",
        "df_2015.columns = ['AREA','STATE', 'TOT_EMP',\t'NAICS',\t'INDUSTRY', 'OCC_CODE',\t'OCCUPATION',\t'O_GROUP','I_GROUP',\t'PREDICTION YEAR']\n",
        "df_2016.columns = ['AREA','STATE', 'TOT_EMP',\t'NAICS',\t'INDUSTRY', 'OCC_CODE',\t'OCCUPATION',\t'O_GROUP','I_GROUP',\t'PREDICTION YEAR']\n",
        "df_2017.columns = ['AREA','STATE', 'TOT_EMP',\t'NAICS',\t'INDUSTRY', 'OCC_CODE',\t'OCCUPATION',\t'O_GROUP','I_GROUP',\t'PREDICTION YEAR']\n",
        "df_2018.columns = ['AREA','STATE', 'TOT_EMP',\t'NAICS',\t'INDUSTRY', 'OCC_CODE',\t'OCCUPATION',\t'O_GROUP','I_GROUP',\t'PREDICTION YEAR']\n",
        "df_2019.columns = ['AREA','STATE', 'TOT_EMP',\t'NAICS',\t'INDUSTRY', 'OCC_CODE',\t'OCCUPATION',\t'O_GROUP','I_GROUP',\t'PREDICTION YEAR']\n",
        "df_2020.columns = ['AREA','STATE', 'TOT_EMP',\t'NAICS',\t'INDUSTRY', 'OCC_CODE',\t'OCCUPATION',\t'O_GROUP','I_GROUP',\t'PREDICTION YEAR']"
      ],
      "execution_count": 17,
      "outputs": []
    },
    {
      "cell_type": "code",
      "metadata": {
        "id": "Chn0dBR9obQq"
      },
      "source": [
        "\n",
        "df_total = pd.concat([df_2012, df_2013, df_2014, df_2015, df_2016, df_2017, df_2018, df_2019, df_2020])"
      ],
      "execution_count": 18,
      "outputs": []
    },
    {
      "cell_type": "code",
      "metadata": {
        "colab": {
          "base_uri": "https://localhost:8080/",
          "height": 753
        },
        "id": "6niFD4QOqOtL",
        "outputId": "f3d08431-bd47-467f-bbe1-2a7b99e54078"
      },
      "source": [
        "df_total.head(100)"
      ],
      "execution_count": 19,
      "outputs": [
        {
          "output_type": "execute_result",
          "data": {
            "text/html": [
              "<div>\n",
              "<style scoped>\n",
              "    .dataframe tbody tr th:only-of-type {\n",
              "        vertical-align: middle;\n",
              "    }\n",
              "\n",
              "    .dataframe tbody tr th {\n",
              "        vertical-align: top;\n",
              "    }\n",
              "\n",
              "    .dataframe thead th {\n",
              "        text-align: right;\n",
              "    }\n",
              "</style>\n",
              "<table border=\"1\" class=\"dataframe\">\n",
              "  <thead>\n",
              "    <tr style=\"text-align: right;\">\n",
              "      <th></th>\n",
              "      <th>AREA</th>\n",
              "      <th>STATE</th>\n",
              "      <th>TOT_EMP</th>\n",
              "      <th>NAICS</th>\n",
              "      <th>INDUSTRY</th>\n",
              "      <th>OCC_CODE</th>\n",
              "      <th>OCCUPATION</th>\n",
              "      <th>O_GROUP</th>\n",
              "      <th>I_GROUP</th>\n",
              "      <th>PREDICTION YEAR</th>\n",
              "    </tr>\n",
              "  </thead>\n",
              "  <tbody>\n",
              "    <tr>\n",
              "      <th>0</th>\n",
              "      <td>1</td>\n",
              "      <td>Alabama</td>\n",
              "      <td>8520</td>\n",
              "      <td>21</td>\n",
              "      <td>Sector 21 - Mining</td>\n",
              "      <td>00-0000</td>\n",
              "      <td>All Occupations</td>\n",
              "      <td>total</td>\n",
              "      <td>5</td>\n",
              "      <td>2012</td>\n",
              "    </tr>\n",
              "    <tr>\n",
              "      <th>1</th>\n",
              "      <td>1</td>\n",
              "      <td>Alabama</td>\n",
              "      <td>430</td>\n",
              "      <td>21</td>\n",
              "      <td>Sector 21 - Mining</td>\n",
              "      <td>11-0000</td>\n",
              "      <td>Management Occupations</td>\n",
              "      <td>major</td>\n",
              "      <td>5</td>\n",
              "      <td>2012</td>\n",
              "    </tr>\n",
              "    <tr>\n",
              "      <th>2</th>\n",
              "      <td>1</td>\n",
              "      <td>Alabama</td>\n",
              "      <td>180</td>\n",
              "      <td>21</td>\n",
              "      <td>Sector 21 - Mining</td>\n",
              "      <td>11-1021</td>\n",
              "      <td>General and Operations Managers</td>\n",
              "      <td>NaN</td>\n",
              "      <td>5</td>\n",
              "      <td>2012</td>\n",
              "    </tr>\n",
              "    <tr>\n",
              "      <th>3</th>\n",
              "      <td>1</td>\n",
              "      <td>Alabama</td>\n",
              "      <td>40</td>\n",
              "      <td>21</td>\n",
              "      <td>Sector 21 - Mining</td>\n",
              "      <td>11-2022</td>\n",
              "      <td>Sales Managers</td>\n",
              "      <td>NaN</td>\n",
              "      <td>5</td>\n",
              "      <td>2012</td>\n",
              "    </tr>\n",
              "    <tr>\n",
              "      <th>4</th>\n",
              "      <td>1</td>\n",
              "      <td>Alabama</td>\n",
              "      <td>30</td>\n",
              "      <td>21</td>\n",
              "      <td>Sector 21 - Mining</td>\n",
              "      <td>11-3031</td>\n",
              "      <td>Financial Managers</td>\n",
              "      <td>NaN</td>\n",
              "      <td>5</td>\n",
              "      <td>2012</td>\n",
              "    </tr>\n",
              "    <tr>\n",
              "      <th>...</th>\n",
              "      <td>...</td>\n",
              "      <td>...</td>\n",
              "      <td>...</td>\n",
              "      <td>...</td>\n",
              "      <td>...</td>\n",
              "      <td>...</td>\n",
              "      <td>...</td>\n",
              "      <td>...</td>\n",
              "      <td>...</td>\n",
              "      <td>...</td>\n",
              "    </tr>\n",
              "    <tr>\n",
              "      <th>95</th>\n",
              "      <td>2</td>\n",
              "      <td>Alaska</td>\n",
              "      <td>30</td>\n",
              "      <td>21</td>\n",
              "      <td>Sector 21 - Mining</td>\n",
              "      <td>33-0000</td>\n",
              "      <td>Protective Service Occupations</td>\n",
              "      <td>major</td>\n",
              "      <td>5</td>\n",
              "      <td>2012</td>\n",
              "    </tr>\n",
              "    <tr>\n",
              "      <th>96</th>\n",
              "      <td>2</td>\n",
              "      <td>Alaska</td>\n",
              "      <td>40</td>\n",
              "      <td>21</td>\n",
              "      <td>Sector 21 - Mining</td>\n",
              "      <td>37-0000</td>\n",
              "      <td>Building and Grounds Cleaning and Maintenance ...</td>\n",
              "      <td>major</td>\n",
              "      <td>5</td>\n",
              "      <td>2012</td>\n",
              "    </tr>\n",
              "    <tr>\n",
              "      <th>97</th>\n",
              "      <td>2</td>\n",
              "      <td>Alaska</td>\n",
              "      <td>30</td>\n",
              "      <td>21</td>\n",
              "      <td>Sector 21 - Mining</td>\n",
              "      <td>37-2011</td>\n",
              "      <td>Janitors and Cleaners, Except Maids and Housek...</td>\n",
              "      <td>NaN</td>\n",
              "      <td>5</td>\n",
              "      <td>2012</td>\n",
              "    </tr>\n",
              "    <tr>\n",
              "      <th>98</th>\n",
              "      <td>2</td>\n",
              "      <td>Alaska</td>\n",
              "      <td>50</td>\n",
              "      <td>21</td>\n",
              "      <td>Sector 21 - Mining</td>\n",
              "      <td>41-0000</td>\n",
              "      <td>Sales and Related Occupations</td>\n",
              "      <td>major</td>\n",
              "      <td>5</td>\n",
              "      <td>2012</td>\n",
              "    </tr>\n",
              "    <tr>\n",
              "      <th>99</th>\n",
              "      <td>2</td>\n",
              "      <td>Alaska</td>\n",
              "      <td>1030</td>\n",
              "      <td>21</td>\n",
              "      <td>Sector 21 - Mining</td>\n",
              "      <td>43-0000</td>\n",
              "      <td>Office and Administrative Support Occupations</td>\n",
              "      <td>major</td>\n",
              "      <td>5</td>\n",
              "      <td>2012</td>\n",
              "    </tr>\n",
              "  </tbody>\n",
              "</table>\n",
              "<p>100 rows × 10 columns</p>\n",
              "</div>"
            ],
            "text/plain": [
              "    AREA    STATE TOT_EMP  ...  O_GROUP I_GROUP PREDICTION YEAR\n",
              "0      1  Alabama    8520  ...    total       5            2012\n",
              "1      1  Alabama     430  ...    major       5            2012\n",
              "2      1  Alabama     180  ...      NaN       5            2012\n",
              "3      1  Alabama      40  ...      NaN       5            2012\n",
              "4      1  Alabama      30  ...      NaN       5            2012\n",
              "..   ...      ...     ...  ...      ...     ...             ...\n",
              "95     2   Alaska      30  ...    major       5            2012\n",
              "96     2   Alaska      40  ...    major       5            2012\n",
              "97     2   Alaska      30  ...      NaN       5            2012\n",
              "98     2   Alaska      50  ...    major       5            2012\n",
              "99     2   Alaska    1030  ...    major       5            2012\n",
              "\n",
              "[100 rows x 10 columns]"
            ]
          },
          "metadata": {},
          "execution_count": 19
        }
      ]
    },
    {
      "cell_type": "code",
      "metadata": {
        "id": "i2SCYyNuqKtP"
      },
      "source": [
        "df_total.fillna(0, inplace=True)"
      ],
      "execution_count": 20,
      "outputs": []
    },
    {
      "cell_type": "code",
      "metadata": {
        "colab": {
          "base_uri": "https://localhost:8080/"
        },
        "id": "CqzGmEUeRBM8",
        "outputId": "7045f374-f362-46d4-d1e9-10f29b74c30d"
      },
      "source": [
        "df_total['STATE'].unique()"
      ],
      "execution_count": 21,
      "outputs": [
        {
          "output_type": "execute_result",
          "data": {
            "text/plain": [
              "array(['Alabama', 'Alaska', 'Arizona', 'Arkansas', 'California',\n",
              "       'Colorado', 'Connecticut', 'Florida', 'Georgia', 'Hawaii', 'Idaho',\n",
              "       'Illinois', 'Indiana', 'Iowa', 'Kansas', 'Kentucky', 'Louisiana',\n",
              "       'Maine', 'Maryland', 'Massachusetts', 'Michigan', 'Minnesota',\n",
              "       'Mississippi', 'Missouri', 'Montana', 'Nebraska', 'Nevada',\n",
              "       'New Hampshire', 'New Jersey', 'New Mexico', 'New York',\n",
              "       'North Carolina', 'North Dakota', 'Ohio', 'Oklahoma', 'Oregon',\n",
              "       'Pennsylvania', 'Rhode Island', 'South Carolina', 'South Dakota',\n",
              "       'Tennessee', 'Texas', 'Utah', 'Vermont', 'Virginia', 'Washington',\n",
              "       'West Virginia', 'Wisconsin', 'Wyoming', 'Puerto Rico', 'Delaware',\n",
              "       'District of Columbia', 'Virgin Islands', 'Guam'], dtype=object)"
            ]
          },
          "metadata": {},
          "execution_count": 21
        }
      ]
    },
    {
      "cell_type": "code",
      "metadata": {
        "colab": {
          "base_uri": "https://localhost:8080/"
        },
        "id": "YBYTZjxCtCL4",
        "outputId": "2449a393-c026-4191-db1e-f67a79e85c21"
      },
      "source": [
        "df_total['INDUSTRY'].unique()"
      ],
      "execution_count": 22,
      "outputs": [
        {
          "output_type": "execute_result",
          "data": {
            "text/plain": [
              "array(['Sector 21 - Mining', 'Oil and Gas Extraction',\n",
              "       'Mining (except Oil and Gas)', 'Coal Mining', 'Metal Ore Mining',\n",
              "       'Nonmetallic Mineral Mining and Quarrying',\n",
              "       'Support Activities for Mining', 'Sector 22 - Utilities',\n",
              "       'Utilities',\n",
              "       'Electric Power Generation, Transmission and Distribution',\n",
              "       'Natural Gas Distribution', 'Water, Sewage and Other Systems',\n",
              "       'Sector 23 - Construction', 'Construction of Buildings',\n",
              "       'Residential Building Construction',\n",
              "       'Nonresidential Building Construction',\n",
              "       'Heavy and Civil Engineering Construction',\n",
              "       'Utility System Construction',\n",
              "       'Power and Communication Line and Related Structures Construction',\n",
              "       'Land Subdivision', 'Highway, Street, and Bridge Construction',\n",
              "       'Other Heavy and Civil Engineering Construction',\n",
              "       'Specialty Trade Contractors',\n",
              "       'Foundation, Structure, and Building Exterior Contractors',\n",
              "       'Poured Concrete Foundation and Structure Contractors',\n",
              "       'Masonry Contractors', 'Roofing Contractors',\n",
              "       'Building Equipment Contractors',\n",
              "       'Electrical Contractors and Other Wiring Installation Contractors',\n",
              "       'Plumbing, Heating, and Air-Conditioning Contractors',\n",
              "       'Other Building Equipment Contractors',\n",
              "       'Building Finishing Contractors',\n",
              "       'Drywall and Insulation Contractors',\n",
              "       'Painting and Wall Covering Contractors',\n",
              "       'Other Specialty Trade Contractors',\n",
              "       'Sector 21 - Mining, Quarrying, and Oil and Gas Extraction',\n",
              "       'Electric Power Transmission, Control, and Distribution',\n",
              "       'Mining, Quarrying, and Oil and Gas Extraction',\n",
              "       'Hydroelectric Power Generation',\n",
              "       'Fossil Fuel Electric Power Generation',\n",
              "       'Nuclear Electric Power Generation',\n",
              "       'Solar Electric Power Generation',\n",
              "       'Wind Electric Power Generation',\n",
              "       'Geothermal Electric Power Generation',\n",
              "       'Biomass Electric Power Generation',\n",
              "       'Other Electric Power Generation', 'Construction',\n",
              "       'Electric Power Generation'], dtype=object)"
            ]
          },
          "metadata": {},
          "execution_count": 22
        }
      ]
    },
    {
      "cell_type": "markdown",
      "metadata": {
        "id": "S9xsyGfHxtQY"
      },
      "source": [
        "Fitering 'INDUSTRY'"
      ]
    },
    {
      "cell_type": "code",
      "metadata": {
        "id": "9OueGKQZ6spc"
      },
      "source": [
        "df_solar_jobs = df_total.loc[(df_total['INDUSTRY']== 'Sector 22 - Utilities') | \n",
        "                       (df_total['INDUSTRY']== 'Utilities') |\n",
        "                       (df_total['INDUSTRY']== 'Electric Power Generation, Transmission and Distribution') |\n",
        "                       (df_total['INDUSTRY']== 'Utility System Construction') |\n",
        "                       (df_total['INDUSTRY']== 'Electric Power Transmission, Control, and Distribution') |\n",
        "                       (df_total['INDUSTRY']== 'Solar Electric Power Generation') |\n",
        "                       (df_total['INDUSTRY']== 'Construction') |\n",
        "                       (df_total['INDUSTRY']== 'Heavy and Civil Engineering Construction')|\n",
        "                       (df_total['INDUSTRY']== 'Power and Communication Line and Related Structures Construction')|\n",
        "                       (df_total['INDUSTRY']== 'Specialty Trade Contractors')|\n",
        "                       (df_total['INDUSTRY']== 'Building Equipment Contractors')|\n",
        "                       (df_total['INDUSTRY']== 'Electrical Contractors and Other Wiring Installation Contractors')|\n",
        "                       (df_total['INDUSTRY']== 'Plumbing, Heating, and Air-Conditioning Contractors')]\n"
      ],
      "execution_count": 23,
      "outputs": []
    },
    {
      "cell_type": "code",
      "metadata": {
        "colab": {
          "base_uri": "https://localhost:8080/",
          "height": 999
        },
        "id": "Rq3NULotuV_0",
        "outputId": "11ec6b28-20a6-4345-9191-a30e47f10123"
      },
      "source": [
        "df_CA_jobs = df_solar_jobs.loc[(df_solar_jobs['STATE']== 'California') & (df_solar_jobs['INDUSTRY'] =='Solar Electric Power Generation')]\n",
        "df_CA_jobs"
      ],
      "execution_count": 25,
      "outputs": [
        {
          "output_type": "execute_result",
          "data": {
            "text/html": [
              "<div>\n",
              "<style scoped>\n",
              "    .dataframe tbody tr th:only-of-type {\n",
              "        vertical-align: middle;\n",
              "    }\n",
              "\n",
              "    .dataframe tbody tr th {\n",
              "        vertical-align: top;\n",
              "    }\n",
              "\n",
              "    .dataframe thead th {\n",
              "        text-align: right;\n",
              "    }\n",
              "</style>\n",
              "<table border=\"1\" class=\"dataframe\">\n",
              "  <thead>\n",
              "    <tr style=\"text-align: right;\">\n",
              "      <th></th>\n",
              "      <th>AREA</th>\n",
              "      <th>STATE</th>\n",
              "      <th>TOT_EMP</th>\n",
              "      <th>NAICS</th>\n",
              "      <th>INDUSTRY</th>\n",
              "      <th>OCC_CODE</th>\n",
              "      <th>OCCUPATION</th>\n",
              "      <th>O_GROUP</th>\n",
              "      <th>I_GROUP</th>\n",
              "      <th>PREDICTION YEAR</th>\n",
              "    </tr>\n",
              "  </thead>\n",
              "  <tbody>\n",
              "    <tr>\n",
              "      <th>20004</th>\n",
              "      <td>6</td>\n",
              "      <td>California</td>\n",
              "      <td>900</td>\n",
              "      <td>221114</td>\n",
              "      <td>Solar Electric Power Generation</td>\n",
              "      <td>00-0000</td>\n",
              "      <td>All Occupations</td>\n",
              "      <td>total</td>\n",
              "      <td>6-digit</td>\n",
              "      <td>2015</td>\n",
              "    </tr>\n",
              "    <tr>\n",
              "      <th>20005</th>\n",
              "      <td>6</td>\n",
              "      <td>California</td>\n",
              "      <td>190</td>\n",
              "      <td>221114</td>\n",
              "      <td>Solar Electric Power Generation</td>\n",
              "      <td>11-0000</td>\n",
              "      <td>Management Occupations</td>\n",
              "      <td>major</td>\n",
              "      <td>6-digit</td>\n",
              "      <td>2015</td>\n",
              "    </tr>\n",
              "    <tr>\n",
              "      <th>20006</th>\n",
              "      <td>6</td>\n",
              "      <td>California</td>\n",
              "      <td>50</td>\n",
              "      <td>221114</td>\n",
              "      <td>Solar Electric Power Generation</td>\n",
              "      <td>11-1021</td>\n",
              "      <td>General and Operations Managers</td>\n",
              "      <td>0</td>\n",
              "      <td>6-digit</td>\n",
              "      <td>2015</td>\n",
              "    </tr>\n",
              "    <tr>\n",
              "      <th>20007</th>\n",
              "      <td>6</td>\n",
              "      <td>California</td>\n",
              "      <td>120</td>\n",
              "      <td>221114</td>\n",
              "      <td>Solar Electric Power Generation</td>\n",
              "      <td>13-0000</td>\n",
              "      <td>Business and Financial Operations Occupations</td>\n",
              "      <td>major</td>\n",
              "      <td>6-digit</td>\n",
              "      <td>2015</td>\n",
              "    </tr>\n",
              "    <tr>\n",
              "      <th>20008</th>\n",
              "      <td>6</td>\n",
              "      <td>California</td>\n",
              "      <td>40</td>\n",
              "      <td>221114</td>\n",
              "      <td>Solar Electric Power Generation</td>\n",
              "      <td>13-1161</td>\n",
              "      <td>Market Research Analysts and Marketing Special...</td>\n",
              "      <td>0</td>\n",
              "      <td>6-digit</td>\n",
              "      <td>2015</td>\n",
              "    </tr>\n",
              "    <tr>\n",
              "      <th>...</th>\n",
              "      <td>...</td>\n",
              "      <td>...</td>\n",
              "      <td>...</td>\n",
              "      <td>...</td>\n",
              "      <td>...</td>\n",
              "      <td>...</td>\n",
              "      <td>...</td>\n",
              "      <td>...</td>\n",
              "      <td>...</td>\n",
              "      <td>...</td>\n",
              "    </tr>\n",
              "    <tr>\n",
              "      <th>24000</th>\n",
              "      <td>6</td>\n",
              "      <td>California</td>\n",
              "      <td>90</td>\n",
              "      <td>221114</td>\n",
              "      <td>Solar Electric Power Generation</td>\n",
              "      <td>17-0000</td>\n",
              "      <td>Architecture and Engineering Occupations</td>\n",
              "      <td>major</td>\n",
              "      <td>6-digit</td>\n",
              "      <td>2020</td>\n",
              "    </tr>\n",
              "    <tr>\n",
              "      <th>24001</th>\n",
              "      <td>6</td>\n",
              "      <td>California</td>\n",
              "      <td>90</td>\n",
              "      <td>221114</td>\n",
              "      <td>Solar Electric Power Generation</td>\n",
              "      <td>17-2071</td>\n",
              "      <td>Electrical Engineers</td>\n",
              "      <td>detailed</td>\n",
              "      <td>6-digit</td>\n",
              "      <td>2020</td>\n",
              "    </tr>\n",
              "    <tr>\n",
              "      <th>24002</th>\n",
              "      <td>6</td>\n",
              "      <td>California</td>\n",
              "      <td>50</td>\n",
              "      <td>221114</td>\n",
              "      <td>Solar Electric Power Generation</td>\n",
              "      <td>41-0000</td>\n",
              "      <td>Sales and Related Occupations</td>\n",
              "      <td>major</td>\n",
              "      <td>6-digit</td>\n",
              "      <td>2020</td>\n",
              "    </tr>\n",
              "    <tr>\n",
              "      <th>24003</th>\n",
              "      <td>6</td>\n",
              "      <td>California</td>\n",
              "      <td>50</td>\n",
              "      <td>221114</td>\n",
              "      <td>Solar Electric Power Generation</td>\n",
              "      <td>41-3091</td>\n",
              "      <td>Sales Representatives of Services, Except Adve...</td>\n",
              "      <td>detailed</td>\n",
              "      <td>6-digit</td>\n",
              "      <td>2020</td>\n",
              "    </tr>\n",
              "    <tr>\n",
              "      <th>24004</th>\n",
              "      <td>6</td>\n",
              "      <td>California</td>\n",
              "      <td>50</td>\n",
              "      <td>221114</td>\n",
              "      <td>Solar Electric Power Generation</td>\n",
              "      <td>43-0000</td>\n",
              "      <td>Office and Administrative Support Occupations</td>\n",
              "      <td>major</td>\n",
              "      <td>6-digit</td>\n",
              "      <td>2020</td>\n",
              "    </tr>\n",
              "  </tbody>\n",
              "</table>\n",
              "<p>66 rows × 10 columns</p>\n",
              "</div>"
            ],
            "text/plain": [
              "       AREA       STATE TOT_EMP  ...   O_GROUP  I_GROUP PREDICTION YEAR\n",
              "20004     6  California     900  ...     total  6-digit            2015\n",
              "20005     6  California     190  ...     major  6-digit            2015\n",
              "20006     6  California      50  ...         0  6-digit            2015\n",
              "20007     6  California     120  ...     major  6-digit            2015\n",
              "20008     6  California      40  ...         0  6-digit            2015\n",
              "...     ...         ...     ...  ...       ...      ...             ...\n",
              "24000     6  California      90  ...     major  6-digit            2020\n",
              "24001     6  California      90  ...  detailed  6-digit            2020\n",
              "24002     6  California      50  ...     major  6-digit            2020\n",
              "24003     6  California      50  ...  detailed  6-digit            2020\n",
              "24004     6  California      50  ...     major  6-digit            2020\n",
              "\n",
              "[66 rows x 10 columns]"
            ]
          },
          "metadata": {},
          "execution_count": 25
        }
      ]
    },
    {
      "cell_type": "code",
      "metadata": {
        "id": "DtEap224kZkK"
      },
      "source": [
        "df_coal_jobs = df_total.loc[ (df_total['INDUSTRY']== 'Coal Mining') ]\n",
        "                         "
      ],
      "execution_count": 26,
      "outputs": []
    },
    {
      "cell_type": "code",
      "metadata": {
        "colab": {
          "base_uri": "https://localhost:8080/",
          "height": 230
        },
        "id": "XC9UevWlnTS1",
        "outputId": "c9af521c-23ae-4401-957e-1e5b2d1a9f83"
      },
      "source": [
        "df_coal_jobs.head(3)"
      ],
      "execution_count": 27,
      "outputs": [
        {
          "output_type": "execute_result",
          "data": {
            "text/html": [
              "<div>\n",
              "<style scoped>\n",
              "    .dataframe tbody tr th:only-of-type {\n",
              "        vertical-align: middle;\n",
              "    }\n",
              "\n",
              "    .dataframe tbody tr th {\n",
              "        vertical-align: top;\n",
              "    }\n",
              "\n",
              "    .dataframe thead th {\n",
              "        text-align: right;\n",
              "    }\n",
              "</style>\n",
              "<table border=\"1\" class=\"dataframe\">\n",
              "  <thead>\n",
              "    <tr style=\"text-align: right;\">\n",
              "      <th></th>\n",
              "      <th>AREA</th>\n",
              "      <th>STATE</th>\n",
              "      <th>TOT_EMP</th>\n",
              "      <th>NAICS</th>\n",
              "      <th>INDUSTRY</th>\n",
              "      <th>OCC_CODE</th>\n",
              "      <th>OCCUPATION</th>\n",
              "      <th>O_GROUP</th>\n",
              "      <th>I_GROUP</th>\n",
              "      <th>PREDICTION YEAR</th>\n",
              "    </tr>\n",
              "  </thead>\n",
              "  <tbody>\n",
              "    <tr>\n",
              "      <th>5566</th>\n",
              "      <td>1</td>\n",
              "      <td>Alabama</td>\n",
              "      <td>4820</td>\n",
              "      <td>212100</td>\n",
              "      <td>Coal Mining</td>\n",
              "      <td>00-0000</td>\n",
              "      <td>All Occupations</td>\n",
              "      <td>total</td>\n",
              "      <td>5</td>\n",
              "      <td>2012</td>\n",
              "    </tr>\n",
              "    <tr>\n",
              "      <th>5567</th>\n",
              "      <td>1</td>\n",
              "      <td>Alabama</td>\n",
              "      <td>200</td>\n",
              "      <td>212100</td>\n",
              "      <td>Coal Mining</td>\n",
              "      <td>11-0000</td>\n",
              "      <td>Management Occupations</td>\n",
              "      <td>major</td>\n",
              "      <td>5</td>\n",
              "      <td>2012</td>\n",
              "    </tr>\n",
              "    <tr>\n",
              "      <th>5568</th>\n",
              "      <td>1</td>\n",
              "      <td>Alabama</td>\n",
              "      <td>70</td>\n",
              "      <td>212100</td>\n",
              "      <td>Coal Mining</td>\n",
              "      <td>11-1021</td>\n",
              "      <td>General and Operations Managers</td>\n",
              "      <td>0</td>\n",
              "      <td>5</td>\n",
              "      <td>2012</td>\n",
              "    </tr>\n",
              "  </tbody>\n",
              "</table>\n",
              "</div>"
            ],
            "text/plain": [
              "      AREA    STATE TOT_EMP  ...  O_GROUP I_GROUP PREDICTION YEAR\n",
              "5566     1  Alabama    4820  ...    total       5            2012\n",
              "5567     1  Alabama     200  ...    major       5            2012\n",
              "5568     1  Alabama      70  ...        0       5            2012\n",
              "\n",
              "[3 rows x 10 columns]"
            ]
          },
          "metadata": {},
          "execution_count": 27
        }
      ]
    },
    {
      "cell_type": "markdown",
      "source": [
        "Exporting Data\n"
      ],
      "metadata": {
        "id": "qbBUeXSEJB6F"
      }
    },
    {
      "cell_type": "code",
      "source": [
        "# Exporting Solar\n",
        "from google.colab import drive\n",
        "drive.mount('drive', force_remount=True)\n",
        "\n",
        "df_solar_jobs.to_excel('/content/drive/My Drive/df_colar_jobs.xlsx', encoding='utf-8', index=False)\n"
      ],
      "metadata": {
        "colab": {
          "base_uri": "https://localhost:8080/"
        },
        "id": "C6WGYa8fJBTO",
        "outputId": "c6d3bcb7-2a85-4942-e9b8-d95e0ae91681"
      },
      "execution_count": 28,
      "outputs": [
        {
          "output_type": "stream",
          "name": "stdout",
          "text": [
            "Mounted at drive\n"
          ]
        }
      ]
    },
    {
      "cell_type": "code",
      "source": [
        "# Exporting coal\n",
        "from google.colab import drive\n",
        "drive.mount('drive', force_remount=True)\n",
        "\n",
        "df_coal_jobs.to_excel('/content/drive/My Drive/df_coal_jobs.xlsx', encoding='utf-8', index=False)"
      ],
      "metadata": {
        "colab": {
          "base_uri": "https://localhost:8080/"
        },
        "id": "8y3MiBinJ22p",
        "outputId": "0683928a-92f4-4510-dfcd-9160ebbaecda"
      },
      "execution_count": 30,
      "outputs": [
        {
          "output_type": "stream",
          "name": "stdout",
          "text": [
            "Mounted at drive\n"
          ]
        }
      ]
    },
    {
      "cell_type": "code",
      "source": [
        ""
      ],
      "metadata": {
        "id": "7BCj-R_0zdy2"
      },
      "execution_count": null,
      "outputs": []
    },
    {
      "cell_type": "markdown",
      "source": [
        "# 2 Nameplate capacity "
      ],
      "metadata": {
        "id": "GABEglGAS9zf"
      }
    },
    {
      "cell_type": "code",
      "source": [
        "auth.authenticate_user()\n",
        "gauth = GoogleAuth()\n",
        "gauth.credentials = GoogleCredentials.get_application_default()\n",
        "drive = GoogleDrive(gauth)"
      ],
      "metadata": {
        "id": "yKr3qwGDsY3-"
      },
      "execution_count": 32,
      "outputs": []
    },
    {
      "cell_type": "code",
      "source": [
        "# importing nameplate capacity for coal\n",
        "file_id_nameplate = '1BIUjgoSgL3xm3or1XO2FuZs5oowvQEiR'\n",
        "nameplatecoal= drive.CreateFile({'id': file_id_nameplate})\n",
        "nameplatecoal.GetContentFile('nameplatecoal.xlsx')\n",
        "coal_nameplate = pd.read_excel('nameplatecoal.xlsx')"
      ],
      "metadata": {
        "id": "OL0nhGZvKiPb"
      },
      "execution_count": 33,
      "outputs": []
    },
    {
      "cell_type": "code",
      "source": [
        "# Coal filling with 0 all  NA/NaN values\n",
        "coal_nameplate.fillna(0, inplace=True)\n",
        "coal_nameplate.head(3)"
      ],
      "metadata": {
        "colab": {
          "base_uri": "https://localhost:8080/",
          "height": 143
        },
        "id": "wW_Fv_aQKs4f",
        "outputId": "0c700e2c-9821-48e2-b54e-134e03e825e6"
      },
      "execution_count": 34,
      "outputs": [
        {
          "output_type": "execute_result",
          "data": {
            "text/html": [
              "<div>\n",
              "<style scoped>\n",
              "    .dataframe tbody tr th:only-of-type {\n",
              "        vertical-align: middle;\n",
              "    }\n",
              "\n",
              "    .dataframe tbody tr th {\n",
              "        vertical-align: top;\n",
              "    }\n",
              "\n",
              "    .dataframe thead th {\n",
              "        text-align: right;\n",
              "    }\n",
              "</style>\n",
              "<table border=\"1\" class=\"dataframe\">\n",
              "  <thead>\n",
              "    <tr style=\"text-align: right;\">\n",
              "      <th></th>\n",
              "      <th>YEAR</th>\n",
              "      <th>STATE</th>\n",
              "      <th>COAL NAMEPLATE CAPACITY</th>\n",
              "      <th>PREDICTION YEAR</th>\n",
              "    </tr>\n",
              "  </thead>\n",
              "  <tbody>\n",
              "    <tr>\n",
              "      <th>0</th>\n",
              "      <td>2012</td>\n",
              "      <td>AK</td>\n",
              "      <td>232.0</td>\n",
              "      <td>2013</td>\n",
              "    </tr>\n",
              "    <tr>\n",
              "      <th>1</th>\n",
              "      <td>2012</td>\n",
              "      <td>AL</td>\n",
              "      <td>25195.4</td>\n",
              "      <td>2013</td>\n",
              "    </tr>\n",
              "    <tr>\n",
              "      <th>2</th>\n",
              "      <td>2012</td>\n",
              "      <td>AR</td>\n",
              "      <td>10974.0</td>\n",
              "      <td>2013</td>\n",
              "    </tr>\n",
              "  </tbody>\n",
              "</table>\n",
              "</div>"
            ],
            "text/plain": [
              "   YEAR STATE  COAL NAMEPLATE CAPACITY  PREDICTION YEAR\n",
              "0  2012    AK                    232.0             2013\n",
              "1  2012    AL                  25195.4             2013\n",
              "2  2012    AR                  10974.0             2013"
            ]
          },
          "metadata": {},
          "execution_count": 34
        }
      ]
    },
    {
      "cell_type": "code",
      "source": [
        "coal_nameplate['STATE'].replace({'AZ':'Arizona', 'CA':'California', 'CO':'Colorado', 'DE':'Delaware', 'FL':'Florida', 'GA':'Georgia', 'HI':'Hawaii', \n",
        "        'IL':'Illinois', 'IN':'Indiana', 'MA':'Massachusetts', 'MD':'Maryland',\n",
        "       'NC':'North Carolina', 'NJ':'New Jersey', 'NM':'New Mexico', 'NV':'Nevada', 'NY':'New York', 'OH':'Ohio',\n",
        "        'OR': 'Oregon' , 'PA':'Pennsylvania', 'TN':'Tennessee', 'TX':'Texas',\n",
        "       'UT':'Utah', 'VT':'Vermont', 'WA':'Washington', 'CT': 'Connecticut', 'MN':'Minnesota',\n",
        "        'RI':'Rhode Island', 'SC': 'South Carolina', 'MO':'Missouri', 'WI':'Wisconsin', 'AR':'Arkansas', 'KS':'Kansas',\n",
        "       'MI':'Michigan', 'OK':'Oklahoma', 'AL':'Alabama', 'IA':'Iowa', 'ID':'Idaho', 'KY':'Kentucky', 'MS':'Mississippi',\n",
        "        'NE':'Nebraska', 'SD':'South Dakota', 'ND':'North Dakota', 'AK':'Alaska', 'WV':'West Virginia',\n",
        "        'VA':'Virginia', 'LA':'Louisiana','ME':'Maine', 'MT':'Montana', 'WY':'Wyoming', 'DC':'District of Columbia', 'NH':'New Hampshire'}, inplace=True)\n",
        "\n"
      ],
      "metadata": {
        "id": "jIwXPu8OLDfp"
      },
      "execution_count": 35,
      "outputs": []
    },
    {
      "cell_type": "code",
      "source": [
        "#importing nameplate capacity for solar\n",
        "file_id_nameplate = '1fzIkuRTQQL6gnm2GoCjwSTiT5mRHWCuW'\n",
        "nameplatesolar= drive.CreateFile({'id': file_id_nameplate})\n",
        "nameplatesolar.GetContentFile('nameplatesolar.xlsx')\n",
        "solar_nameplate = pd.read_excel('nameplatesolar.xlsx')"
      ],
      "metadata": {
        "id": "Qxr7kvOsKwjZ"
      },
      "execution_count": 36,
      "outputs": []
    },
    {
      "cell_type": "code",
      "source": [
        "#Solar filling with 0 all  NA/NaN values\n",
        "solar_nameplate.fillna(0, inplace=True)\n",
        "solar_nameplate.head(3)"
      ],
      "metadata": {
        "colab": {
          "base_uri": "https://localhost:8080/",
          "height": 143
        },
        "id": "vOx9XHCmK0Ds",
        "outputId": "6045a734-e9e7-4beb-eb6e-988167e5e54f"
      },
      "execution_count": 37,
      "outputs": [
        {
          "output_type": "execute_result",
          "data": {
            "text/html": [
              "<div>\n",
              "<style scoped>\n",
              "    .dataframe tbody tr th:only-of-type {\n",
              "        vertical-align: middle;\n",
              "    }\n",
              "\n",
              "    .dataframe tbody tr th {\n",
              "        vertical-align: top;\n",
              "    }\n",
              "\n",
              "    .dataframe thead th {\n",
              "        text-align: right;\n",
              "    }\n",
              "</style>\n",
              "<table border=\"1\" class=\"dataframe\">\n",
              "  <thead>\n",
              "    <tr style=\"text-align: right;\">\n",
              "      <th></th>\n",
              "      <th>YEAR</th>\n",
              "      <th>STATE</th>\n",
              "      <th>SOLAR NAMEPLATE CAPACITY</th>\n",
              "      <th>PREDICTION YEAR</th>\n",
              "    </tr>\n",
              "  </thead>\n",
              "  <tbody>\n",
              "    <tr>\n",
              "      <th>0</th>\n",
              "      <td>2012</td>\n",
              "      <td>AZ</td>\n",
              "      <td>1297.6</td>\n",
              "      <td>2013</td>\n",
              "    </tr>\n",
              "    <tr>\n",
              "      <th>1</th>\n",
              "      <td>2012</td>\n",
              "      <td>CA</td>\n",
              "      <td>2371.2</td>\n",
              "      <td>2013</td>\n",
              "    </tr>\n",
              "    <tr>\n",
              "      <th>2</th>\n",
              "      <td>2012</td>\n",
              "      <td>CO</td>\n",
              "      <td>233.6</td>\n",
              "      <td>2013</td>\n",
              "    </tr>\n",
              "  </tbody>\n",
              "</table>\n",
              "</div>"
            ],
            "text/plain": [
              "   YEAR STATE  SOLAR NAMEPLATE CAPACITY  PREDICTION YEAR\n",
              "0  2012    AZ                    1297.6             2013\n",
              "1  2012    CA                    2371.2             2013\n",
              "2  2012    CO                     233.6             2013"
            ]
          },
          "metadata": {},
          "execution_count": 37
        }
      ]
    },
    {
      "cell_type": "code",
      "source": [
        "solar_nameplate['STATE'].replace({'AZ':'Arizona', 'CA':'California', 'CO':'Colorado', 'DE':'Delaware', 'FL':'Florida', 'GA':'Georgia', 'HI':'Hawaii', \n",
        "        'IL':'Illinois', 'IN':'Indiana', 'MA':'Massachusetts', 'MD':'Maryland',\n",
        "       'NC':'North Carolina', 'NJ':'New Jersey', 'NM':'New Mexico', 'NV':'Nevada', 'NY':'New York', 'OH':'Ohio',\n",
        "        'OR': 'Oregon' , 'PA':'Pennsylvania', 'TN':'Tennessee', 'TX':'Texas',\n",
        "       'UT':'Utah', 'VT':'Vermont', 'WA':'Washington', 'CT': 'Connecticut', 'MN':'Minnesota',\n",
        "        'RI':'Rhode Island', 'SC': 'South Carolina', 'MO':'Missouri', 'WI':'Wisconsin', 'AR':'Arkansas', 'KS':'Kansas',\n",
        "       'MI':'Michigan', 'OK':'Oklahoma', 'AL':'Alabama', 'IA':'Iowa', 'ID':'Idaho', 'KY':'Kentucky', 'MS':'Mississippi',\n",
        "        'NE':'Nebraska', 'SD':'South Dakota', 'ND':'North Dakota', 'AK':'Alaska', 'WV':'West Virginia',\n",
        "        'VA':'Virginia', 'LA':'Louisiana','ME':'Maine', 'MT':'Montana', 'WY':'Wyoming', 'DC':'District of Columbia', 'NH':'New Hampshire'}, inplace=True)\n"
      ],
      "metadata": {
        "id": "380u_XQSLOGh"
      },
      "execution_count": 38,
      "outputs": []
    },
    {
      "cell_type": "markdown",
      "source": [
        "Demographic"
      ],
      "metadata": {
        "id": "TfONvKGqLes9"
      }
    },
    {
      "cell_type": "code",
      "source": [
        "file_id_demo = '1eiSVK53ro25GrN7Gx7iA4_Q9iSR4hsWD'\n",
        "demo= drive.CreateFile({'id': file_id_demo})\n",
        "demo.GetContentFile('demo.xlsx')\n",
        "demographics = pd.read_excel('demo.xlsx')"
      ],
      "metadata": {
        "id": "SY9GH9IDLgw_"
      },
      "execution_count": 41,
      "outputs": []
    },
    {
      "cell_type": "markdown",
      "source": [
        "Importing jobs "
      ],
      "metadata": {
        "id": "dYmmedqVL7a9"
      }
    },
    {
      "cell_type": "code",
      "source": [
        "auth.authenticate_user()\n",
        "gauth = GoogleAuth()\n",
        "gauth.credentials = GoogleCredentials.get_application_default()\n",
        "drive = GoogleDrive(gauth)"
      ],
      "metadata": {
        "id": "w-sUR-0xfmYP"
      },
      "execution_count": 63,
      "outputs": []
    },
    {
      "cell_type": "code",
      "source": [
        "#coal (df_coal_jobs)\n",
        "file_id_coal = '1-9IXYXdbloiAQq6t4uu8uRjpYusoDECl'\n",
        "coaljob= drive.CreateFile({'id': file_id_coal})\n",
        "coaljob.GetContentFile('coaljob.xlsx')\n",
        "coal_jobs = pd.read_excel('coaljob.xlsx')"
      ],
      "metadata": {
        "id": "YNIbKwFvL9mF"
      },
      "execution_count": 64,
      "outputs": []
    },
    {
      "cell_type": "code",
      "source": [
        "coal_jobs.head()"
      ],
      "metadata": {
        "colab": {
          "base_uri": "https://localhost:8080/",
          "height": 206
        },
        "id": "petbEm_mfoyr",
        "outputId": "9282150b-2b5c-4cc8-d1fb-284196cd3751"
      },
      "execution_count": 65,
      "outputs": [
        {
          "output_type": "execute_result",
          "data": {
            "text/html": [
              "<div>\n",
              "<style scoped>\n",
              "    .dataframe tbody tr th:only-of-type {\n",
              "        vertical-align: middle;\n",
              "    }\n",
              "\n",
              "    .dataframe tbody tr th {\n",
              "        vertical-align: top;\n",
              "    }\n",
              "\n",
              "    .dataframe thead th {\n",
              "        text-align: right;\n",
              "    }\n",
              "</style>\n",
              "<table border=\"1\" class=\"dataframe\">\n",
              "  <thead>\n",
              "    <tr style=\"text-align: right;\">\n",
              "      <th></th>\n",
              "      <th>STATE</th>\n",
              "      <th>PREDICTION YEAR</th>\n",
              "      <th>TOTAL EMPLOYMENT</th>\n",
              "    </tr>\n",
              "  </thead>\n",
              "  <tbody>\n",
              "    <tr>\n",
              "      <th>0</th>\n",
              "      <td>Alabama</td>\n",
              "      <td>2012</td>\n",
              "      <td>4820</td>\n",
              "    </tr>\n",
              "    <tr>\n",
              "      <th>1</th>\n",
              "      <td>Alabama</td>\n",
              "      <td>2013</td>\n",
              "      <td>4680</td>\n",
              "    </tr>\n",
              "    <tr>\n",
              "      <th>2</th>\n",
              "      <td>Alabama</td>\n",
              "      <td>2014</td>\n",
              "      <td>4010</td>\n",
              "    </tr>\n",
              "    <tr>\n",
              "      <th>3</th>\n",
              "      <td>Alabama</td>\n",
              "      <td>2015</td>\n",
              "      <td>3690</td>\n",
              "    </tr>\n",
              "    <tr>\n",
              "      <th>4</th>\n",
              "      <td>Alabama</td>\n",
              "      <td>2017</td>\n",
              "      <td>2440</td>\n",
              "    </tr>\n",
              "  </tbody>\n",
              "</table>\n",
              "</div>"
            ],
            "text/plain": [
              "     STATE  PREDICTION YEAR  TOTAL EMPLOYMENT\n",
              "0  Alabama             2012              4820\n",
              "1  Alabama             2013              4680\n",
              "2  Alabama             2014              4010\n",
              "3  Alabama             2015              3690\n",
              "4  Alabama             2017              2440"
            ]
          },
          "metadata": {},
          "execution_count": 65
        }
      ]
    },
    {
      "cell_type": "code",
      "source": [
        "#Solar\n",
        "file_id_solar = '1xbqkwpAA3ckZjc0ij3qWHE4zmXz2Dmaf'\n",
        "solarjob= drive.CreateFile({'id': file_id_solar})\n",
        "solarjob.GetContentFile('solarjob.xlsx')\n",
        "solar_jobs = pd.read_excel('solarjob.xlsx')"
      ],
      "metadata": {
        "id": "6H7H6D5YMRBb"
      },
      "execution_count": 47,
      "outputs": []
    },
    {
      "cell_type": "code",
      "source": [
        "solar_jobs['STATE'].replace({'AZ':'Arizona', 'CA':'California', 'CO':'Colorado', 'DE':'Delaware', 'FL':'Florida', 'GA':'Georgia', 'HI':'Hawaii', \n",
        "        'IL':'Illinois', 'IN':'Indiana', 'MA':'Massachusetts', 'MD':'Maryland',\n",
        "       'NC':'North Carolina', 'NJ':'New Jersey', 'NM':'New Mexico', 'NV':'Nevada', 'NY':'New York', 'OH':'Ohio',\n",
        "        'OR': 'Oregon' , 'PA':'Pennsylvania', 'TN':'Tennessee', 'TX':'Texas',\n",
        "       'UT':'Utah', 'VT':'Vermont', 'WA':'Washington', 'CT': 'Connecticut', 'MN':'Minnesota',\n",
        "        'RI':'Rhode Island', 'SC': 'South Carolina', 'MO':'Missouri', 'WI':'Wisconsin', 'AR':'Arkansas', 'KS':'Kansas',\n",
        "       'MI':'Michigan', 'OK':'Oklahoma', 'AL':'Alabama', 'IA':'Iowa', 'ID':'Idaho', 'KY':'Kentucky', 'MS':'Mississippi',\n",
        "        'NE':'Nebraska', 'SD':'South Dakota', 'ND':'North Dakota', 'AK':'Alaska', 'WV':'West Virginia',\n",
        "        'VA':'Virginia', 'LA':'Louisiana','ME':'Maine', 'MT':'Montana', 'WY':'Wyoming', 'DC':'District of Columbia', 'NH':'New Hampshire'}, inplace=True)"
      ],
      "metadata": {
        "id": "NEDlwCF9qv7c"
      },
      "execution_count": 48,
      "outputs": []
    },
    {
      "cell_type": "code",
      "source": [
        "solar_jobs.head()"
      ],
      "metadata": {
        "colab": {
          "base_uri": "https://localhost:8080/",
          "height": 206
        },
        "id": "2m8kVaEWmOxs",
        "outputId": "f0d21d36-d7e2-4f7d-a486-f043970c9502"
      },
      "execution_count": 50,
      "outputs": [
        {
          "output_type": "execute_result",
          "data": {
            "text/html": [
              "<div>\n",
              "<style scoped>\n",
              "    .dataframe tbody tr th:only-of-type {\n",
              "        vertical-align: middle;\n",
              "    }\n",
              "\n",
              "    .dataframe tbody tr th {\n",
              "        vertical-align: top;\n",
              "    }\n",
              "\n",
              "    .dataframe thead th {\n",
              "        text-align: right;\n",
              "    }\n",
              "</style>\n",
              "<table border=\"1\" class=\"dataframe\">\n",
              "  <thead>\n",
              "    <tr style=\"text-align: right;\">\n",
              "      <th></th>\n",
              "      <th>STATE</th>\n",
              "      <th>JOBS</th>\n",
              "      <th>PREDICTION YEAR</th>\n",
              "    </tr>\n",
              "  </thead>\n",
              "  <tbody>\n",
              "    <tr>\n",
              "      <th>0</th>\n",
              "      <td>Alabama</td>\n",
              "      <td>210.0</td>\n",
              "      <td>2012</td>\n",
              "    </tr>\n",
              "    <tr>\n",
              "      <th>1</th>\n",
              "      <td>Alaska</td>\n",
              "      <td>80.0</td>\n",
              "      <td>2012</td>\n",
              "    </tr>\n",
              "    <tr>\n",
              "      <th>2</th>\n",
              "      <td>Arizona</td>\n",
              "      <td>9800.0</td>\n",
              "      <td>2012</td>\n",
              "    </tr>\n",
              "    <tr>\n",
              "      <th>3</th>\n",
              "      <td>Arkansas</td>\n",
              "      <td>130.0</td>\n",
              "      <td>2012</td>\n",
              "    </tr>\n",
              "    <tr>\n",
              "      <th>4</th>\n",
              "      <td>California</td>\n",
              "      <td>43700.0</td>\n",
              "      <td>2012</td>\n",
              "    </tr>\n",
              "  </tbody>\n",
              "</table>\n",
              "</div>"
            ],
            "text/plain": [
              "        STATE     JOBS  PREDICTION YEAR\n",
              "0     Alabama    210.0             2012\n",
              "1      Alaska     80.0             2012\n",
              "2     Arizona   9800.0             2012\n",
              "3    Arkansas    130.0             2012\n",
              "4  California  43700.0             2012"
            ]
          },
          "metadata": {},
          "execution_count": 50
        }
      ]
    },
    {
      "cell_type": "code",
      "source": [
        ""
      ],
      "metadata": {
        "id": "-CdmpJx90Vu2"
      },
      "execution_count": 50,
      "outputs": []
    },
    {
      "cell_type": "markdown",
      "source": [
        "# 3 Merging jobs and nameplate capacity "
      ],
      "metadata": {
        "id": "pexiFrKVViut"
      }
    },
    {
      "cell_type": "markdown",
      "source": [
        "Aggregating jobs and nameplate capacity data per each techonology (coal, solar)"
      ],
      "metadata": {
        "id": "aOCKG7ZDNWx4"
      }
    },
    {
      "cell_type": "code",
      "source": [
        "#coal\n",
        "coal_jobs_nameplate= pd.merge(coal_jobs, coal_nameplate, how=\"outer\", on=[\"STATE\", \"PREDICTION YEAR\"])\n",
        "# filling with 0 all  NA/NaN values\n",
        "coal_jobs_nameplate.fillna(0, inplace=True)"
      ],
      "metadata": {
        "id": "4YVAqih6RckT"
      },
      "execution_count": 51,
      "outputs": []
    },
    {
      "cell_type": "code",
      "source": [
        "# Exporting coal_jobs_nameplate (just so see how the DF is looking)\n",
        "from google.colab import drive\n",
        "drive.mount('drive', force_remount=True)\n",
        "\n",
        "coal_jobs_nameplate.to_excel('/content/drive/My Drive/coal_jobs_nameplate.xlsx', encoding='utf-8', index=False)"
      ],
      "metadata": {
        "colab": {
          "base_uri": "https://localhost:8080/"
        },
        "id": "IsVn2QA1g0R9",
        "outputId": "135b13cd-a923-4fb4-d32a-9d2e1d85692e"
      },
      "execution_count": 52,
      "outputs": [
        {
          "output_type": "stream",
          "name": "stdout",
          "text": [
            "Mounted at drive\n"
          ]
        }
      ]
    },
    {
      "cell_type": "code",
      "source": [
        "#solar\n",
        "solar_jobs_nameplate= pd.merge(solar_jobs, solar_nameplate, how=\"outer\", on=[\"STATE\", \"PREDICTION YEAR\"])\n",
        "# filling with 0 all  NA/NaN values\n",
        "solar_jobs_nameplate.fillna(0, inplace=True)"
      ],
      "metadata": {
        "id": "2qxacZEkqRMe"
      },
      "execution_count": 53,
      "outputs": []
    },
    {
      "cell_type": "code",
      "source": [
        "# Exporting solar_jobs_nameplate (just so see how the DF is looking)\n",
        "from google.colab import drive\n",
        "drive.mount('drive', force_remount=True)\n",
        "\n",
        "solar_jobs_nameplate.to_excel('/content/drive/My Drive/solar_jobs_nameplate.xlsx', encoding='utf-8', index=False)"
      ],
      "metadata": {
        "colab": {
          "base_uri": "https://localhost:8080/"
        },
        "id": "RKa8gPyvqbO1",
        "outputId": "cc887194-1de3-4825-879c-12310f725bdf"
      },
      "execution_count": 54,
      "outputs": [
        {
          "output_type": "stream",
          "name": "stdout",
          "text": [
            "Mounted at drive\n"
          ]
        }
      ]
    },
    {
      "cell_type": "markdown",
      "source": [
        "# 4 Merging jobs, nameplate capacity and demographic\n"
      ],
      "metadata": {
        "id": "MA8cZTeLSfra"
      }
    },
    {
      "cell_type": "markdown",
      "source": [
        "Aggregating demographic capacity data per each techonology (coal, solar)"
      ],
      "metadata": {
        "id": "WG9OQu9_t6m4"
      }
    },
    {
      "cell_type": "code",
      "source": [
        "#coal\n",
        "coal_jobs_nameplate_demo= pd.merge(coal_jobs_nameplate, demographics, how=\"outer\", on=[\"STATE\", \"PREDICTION YEAR\"])\n",
        "# filling with 0 all  NA/NaN values\n",
        "coal_jobs_nameplate_demo.fillna(0, inplace=True)"
      ],
      "metadata": {
        "id": "exfEECsguOWg"
      },
      "execution_count": 57,
      "outputs": []
    },
    {
      "cell_type": "code",
      "source": [
        "# Exporting coal_jobs_nameplate_demo\n",
        "from google.colab import drive\n",
        "drive.mount('drive', force_remount=True)\n",
        "\n",
        "coal_jobs_nameplate_demo.to_excel('/content/drive/My Drive/coal_jobs_nameplate_demo.xlsx', encoding='utf-8', index=False)"
      ],
      "metadata": {
        "colab": {
          "base_uri": "https://localhost:8080/"
        },
        "id": "oH8oG5zJucH9",
        "outputId": "c22fb1da-b99a-45ca-b746-76c5c439a02f"
      },
      "execution_count": 58,
      "outputs": [
        {
          "output_type": "stream",
          "name": "stdout",
          "text": [
            "Mounted at drive\n"
          ]
        }
      ]
    },
    {
      "cell_type": "code",
      "source": [
        "#solar\n",
        "solar_jobs_nameplate_demo= pd.merge(solar_jobs_nameplate, demographics, how=\"outer\", on=[\"STATE\", \"PREDICTION YEAR\"])\n",
        "# filling with 0 all  NA/NaN values\n",
        "solar_jobs_nameplate_demo.fillna(0, inplace=True)"
      ],
      "metadata": {
        "id": "4S_DrlrVuiqx"
      },
      "execution_count": 59,
      "outputs": []
    },
    {
      "cell_type": "code",
      "source": [
        "# Exporting solar_jobs_nameplate_demo\n",
        "from google.colab import drive\n",
        "drive.mount('drive', force_remount=True)\n",
        "\n",
        "solar_jobs_nameplate_demo.to_excel('/content/drive/My Drive/solar_jobs_nameplate_demo.xlsx', encoding='utf-8', index=False)"
      ],
      "metadata": {
        "colab": {
          "base_uri": "https://localhost:8080/"
        },
        "id": "gfDU8Cm9unFG",
        "outputId": "a1bcf6c7-e0b6-40c0-ed41-782da3d1d69a"
      },
      "execution_count": 60,
      "outputs": [
        {
          "output_type": "stream",
          "name": "stdout",
          "text": [
            "Mounted at drive\n"
          ]
        }
      ]
    },
    {
      "cell_type": "code",
      "source": [
        ""
      ],
      "metadata": {
        "id": "_R2_5CV3uxWX"
      },
      "execution_count": null,
      "outputs": []
    },
    {
      "cell_type": "markdown",
      "source": [
        "#5 Coal retirements and additions "
      ],
      "metadata": {
        "id": "XLyjsmm-1zfD"
      }
    },
    {
      "cell_type": "code",
      "source": [
        "auth.authenticate_user()\n",
        "gauth = GoogleAuth()\n",
        "gauth.credentials = GoogleCredentials.get_application_default()\n",
        "drive = GoogleDrive(gauth)"
      ],
      "metadata": {
        "id": "7ZjgN1z_F7fb"
      },
      "execution_count": 66,
      "outputs": []
    },
    {
      "cell_type": "code",
      "metadata": {
        "colab": {
          "base_uri": "https://localhost:8080/",
          "height": 219
        },
        "id": "G9ihASCcDfPx",
        "outputId": "9d6b3bdc-1227-4437-e7f9-7500483e5e94"
      },
      "source": [
        "#Importing the big coal dataframe (coal_jobs_nameplate_demo)\n",
        "file_id = '1-okMUdobKXMbfWcwHb3J68aH_J0hy2sg'\n",
        "coal_all= drive.CreateFile({'id': file_id})\n",
        "coal_all.GetContentFile('coal_all.xlsx')\n",
        "coal_jobs_nameplate_demo = pd.read_excel('coal_all.xlsx')\n",
        "\n",
        "coal_jobs_nameplate_demo.head(2)"
      ],
      "execution_count": 67,
      "outputs": [
        {
          "output_type": "execute_result",
          "data": {
            "text/html": [
              "<div>\n",
              "<style scoped>\n",
              "    .dataframe tbody tr th:only-of-type {\n",
              "        vertical-align: middle;\n",
              "    }\n",
              "\n",
              "    .dataframe tbody tr th {\n",
              "        vertical-align: top;\n",
              "    }\n",
              "\n",
              "    .dataframe thead th {\n",
              "        text-align: right;\n",
              "    }\n",
              "</style>\n",
              "<table border=\"1\" class=\"dataframe\">\n",
              "  <thead>\n",
              "    <tr style=\"text-align: right;\">\n",
              "      <th></th>\n",
              "      <th>STATE</th>\n",
              "      <th>PREDICTION YEAR</th>\n",
              "      <th>TOTAL EMPLOYMENT</th>\n",
              "      <th>YEAR_x</th>\n",
              "      <th>COAL NAMEPLATE CAPACITY</th>\n",
              "      <th>YEAR_y</th>\n",
              "      <th>MEDIAN HOUSEHOLD INCOME (CURRENT INCOME, USD $)</th>\n",
              "      <th>RESIDENT POPULATION</th>\n",
              "      <th>POPULATION (25 YEARS OR OLDER)</th>\n",
              "      <th>EDUCATIONAL ATTAINMENT 25 YEARS OLDER (HIGH SCHOOL)</th>\n",
              "      <th>EDUCATIONAL ATTAINMENT 25 YEARS OR OLDER (ASSOCIATES DEGREE)</th>\n",
              "      <th>EDUCATIONAL ATTAINMENT 25 YEARS OR OLDER (BACHELOR DEGREE)</th>\n",
              "    </tr>\n",
              "  </thead>\n",
              "  <tbody>\n",
              "    <tr>\n",
              "      <th>0</th>\n",
              "      <td>Alabama</td>\n",
              "      <td>2012</td>\n",
              "      <td>4820</td>\n",
              "      <td>0</td>\n",
              "      <td>0.0</td>\n",
              "      <td>0</td>\n",
              "      <td>0</td>\n",
              "      <td>0</td>\n",
              "      <td>0</td>\n",
              "      <td>0</td>\n",
              "      <td>0</td>\n",
              "      <td>0</td>\n",
              "    </tr>\n",
              "    <tr>\n",
              "      <th>1</th>\n",
              "      <td>Alabama</td>\n",
              "      <td>2013</td>\n",
              "      <td>4680</td>\n",
              "      <td>2012</td>\n",
              "      <td>25195.4</td>\n",
              "      <td>2012</td>\n",
              "      <td>43464</td>\n",
              "      <td>4815588</td>\n",
              "      <td>3209646</td>\n",
              "      <td>1003543</td>\n",
              "      <td>238555</td>\n",
              "      <td>472037</td>\n",
              "    </tr>\n",
              "  </tbody>\n",
              "</table>\n",
              "</div>"
            ],
            "text/plain": [
              "     STATE  ...  EDUCATIONAL ATTAINMENT 25 YEARS OR OLDER (BACHELOR DEGREE)\n",
              "0  Alabama  ...                                                  0         \n",
              "1  Alabama  ...                                             472037         \n",
              "\n",
              "[2 rows x 12 columns]"
            ]
          },
          "metadata": {},
          "execution_count": 67
        }
      ]
    },
    {
      "cell_type": "markdown",
      "metadata": {
        "id": "sSDb9L-OQWIY"
      },
      "source": [
        "##5.1 Coal historic retirements\n",
        "\n",
        "\n"
      ]
    },
    {
      "cell_type": "markdown",
      "metadata": {
        "id": "CvPjfMRLqb8X"
      },
      "source": [
        "Importing the Coal Retirements Historic (colummn N) and Projected (N+1, N+2, N+3...N+7)"
      ]
    },
    {
      "cell_type": "code",
      "source": [
        "\n",
        "print(pd.get_dummies(data))\n",
        "data = pd.DataFrame({'STATE':['Arizona','California','Colorado','Delaware', 'Florida', 'Georgia', 'Hawaii', \n",
        "        'Illinois', 'Indiana', 'Massachusetts', 'Maryland',\n",
        "       'North Carolina', 'New Jersey', 'New Mexico', 'Nevada', 'New York', 'Ohio',\n",
        "        'Oregon' , 'Pennsylvania', 'Tennessee', 'Texas',\n",
        "       'Utah', 'Vermont', 'Washington',  'Connecticut', 'Minnesota',\n",
        "        'Rhode Island', 'South Carolina', 'Missouri', 'Wisconsin', 'Arkansas', 'Kansas',\n",
        "       'Michigan', 'Oklahoma', 'Alabama', 'Iowa', 'Idaho', 'Kentucky', 'Mississippi',\n",
        "        'Nebraska', 'South Dakota', 'North Dakota', 'Alaska', 'West Virginia',\n",
        "        'Virginia', 'Louisiana','Maine', 'Montana', 'Wyoming', 'District of Columbia', 'New Hampshire']})\n",
        "\n",
        "dummies = pd.get_dummies(data)\n",
        "print(dumies)\n",
        "\n"
      ],
      "metadata": {
        "id": "MdAAfP4fZhOh"
      },
      "execution_count": null,
      "outputs": []
    },
    {
      "cell_type": "code",
      "source": [
        "# Historic retirements coal for colummn N\n",
        "file_id_ret = '1MxZCMRNGvafILlw3ZszcjMC5lH8FH3K9'\n",
        "coalhistoric_ret= drive.CreateFile({'id': file_id_ret})\n",
        "coalhistoric_ret.GetContentFile('coalhistoric_ret.xlsx')\n",
        "coal_historic_retirements = pd.read_excel('coalhistoric_ret.xlsx')\n",
        "\n",
        "# replacen acronyms by state names\n",
        "coal_historic_retirements['STATE'].replace({'AZ':'Arizona', 'CA':'California', 'CO':'Colorado', 'DE':'Delaware', 'FL':'Florida', 'GA':'Georgia', 'HI':'Hawaii', \n",
        "        'IL':'Illinois', 'IN':'Indiana', 'MA':'Massachusetts', 'MD':'Maryland',\n",
        "       'NC':'North Carolina', 'NJ':'New Jersey', 'NM':'New Mexico', 'NV':'Nevada', 'NY':'New York', 'OH':'Ohio',\n",
        "        'OR': 'Oregon' , 'PA':'Pennsylvania', 'TN':'Tennessee', 'TX':'Texas',\n",
        "       'UT':'Utah', 'VT':'Vermont', 'WA':'Washington', 'CT': 'Connecticut', 'MN':'Minnesota',\n",
        "        'RI':'Rhode Island', 'SC': 'South Carolina', 'MO':'Missouri', 'WI':'Wisconsin', 'AR':'Arkansas', 'KS':'Kansas',\n",
        "       'MI':'Michigan', 'OK':'Oklahoma', 'AL':'Alabama', 'IA':'Iowa', 'ID':'Idaho', 'KY':'Kentucky', 'MS':'Mississippi',\n",
        "        'NE':'Nebraska', 'SD':'South Dakota', 'ND':'North Dakota', 'AK':'Alaska', 'WV':'West Virginia',\n",
        "        'VA':'Virginia', 'LA':'Louisiana','ME':'Maine', 'MT':'Montana', 'WY':'Wyoming', 'DC':'District of Columbia', 'NH':'New Hampshire'}, inplace=True)\n"
      ],
      "metadata": {
        "id": "pwtzubMEIVZU"
      },
      "execution_count": null,
      "outputs": []
    },
    {
      "cell_type": "code",
      "source": [
        "coal_historic_retirements.head()"
      ],
      "metadata": {
        "colab": {
          "base_uri": "https://localhost:8080/",
          "height": 258
        },
        "id": "aUsjsK6rI5si",
        "outputId": "43a02453-8ac4-4bd3-f40c-3a10bf24d3be"
      },
      "execution_count": null,
      "outputs": [
        {
          "output_type": "execute_result",
          "data": {
            "text/html": [
              "<div>\n",
              "<style scoped>\n",
              "    .dataframe tbody tr th:only-of-type {\n",
              "        vertical-align: middle;\n",
              "    }\n",
              "\n",
              "    .dataframe tbody tr th {\n",
              "        vertical-align: top;\n",
              "    }\n",
              "\n",
              "    .dataframe thead th {\n",
              "        text-align: right;\n",
              "    }\n",
              "</style>\n",
              "<table border=\"1\" class=\"dataframe\">\n",
              "  <thead>\n",
              "    <tr style=\"text-align: right;\">\n",
              "      <th></th>\n",
              "      <th>YEAR</th>\n",
              "      <th>STATE</th>\n",
              "      <th>NAMEPLATE CAPACITY RETIREMENTS (MW)</th>\n",
              "      <th>PREDICTION YEAR</th>\n",
              "      <th>PREDIC N+1</th>\n",
              "      <th>PREDIC N+2</th>\n",
              "      <th>PREDIC N+3</th>\n",
              "      <th>PREDIC N+4</th>\n",
              "      <th>PREDIC N+5</th>\n",
              "      <th>PREDIC N+6</th>\n",
              "      <th>PREDIC N+7</th>\n",
              "    </tr>\n",
              "  </thead>\n",
              "  <tbody>\n",
              "    <tr>\n",
              "      <th>0</th>\n",
              "      <td>2012</td>\n",
              "      <td>Arizona</td>\n",
              "      <td>70.5</td>\n",
              "      <td>2013</td>\n",
              "      <td>2014</td>\n",
              "      <td>2015</td>\n",
              "      <td>2016</td>\n",
              "      <td>2017</td>\n",
              "      <td>2018</td>\n",
              "      <td>2019</td>\n",
              "      <td>2020</td>\n",
              "    </tr>\n",
              "    <tr>\n",
              "      <th>1</th>\n",
              "      <td>2012</td>\n",
              "      <td>California</td>\n",
              "      <td>60.0</td>\n",
              "      <td>2013</td>\n",
              "      <td>2014</td>\n",
              "      <td>2015</td>\n",
              "      <td>2016</td>\n",
              "      <td>2017</td>\n",
              "      <td>2018</td>\n",
              "      <td>2019</td>\n",
              "      <td>2020</td>\n",
              "    </tr>\n",
              "    <tr>\n",
              "      <th>2</th>\n",
              "      <td>2012</td>\n",
              "      <td>Colorado</td>\n",
              "      <td>125.0</td>\n",
              "      <td>2013</td>\n",
              "      <td>2014</td>\n",
              "      <td>2015</td>\n",
              "      <td>2016</td>\n",
              "      <td>2017</td>\n",
              "      <td>2018</td>\n",
              "      <td>2019</td>\n",
              "      <td>2020</td>\n",
              "    </tr>\n",
              "    <tr>\n",
              "      <th>3</th>\n",
              "      <td>2012</td>\n",
              "      <td>Connecticut</td>\n",
              "      <td>213.9</td>\n",
              "      <td>2013</td>\n",
              "      <td>2014</td>\n",
              "      <td>2015</td>\n",
              "      <td>2016</td>\n",
              "      <td>2017</td>\n",
              "      <td>2018</td>\n",
              "      <td>2019</td>\n",
              "      <td>2020</td>\n",
              "    </tr>\n",
              "    <tr>\n",
              "      <th>4</th>\n",
              "      <td>2012</td>\n",
              "      <td>Georgia</td>\n",
              "      <td>299.2</td>\n",
              "      <td>2013</td>\n",
              "      <td>2014</td>\n",
              "      <td>2015</td>\n",
              "      <td>2016</td>\n",
              "      <td>2017</td>\n",
              "      <td>2018</td>\n",
              "      <td>2019</td>\n",
              "      <td>2020</td>\n",
              "    </tr>\n",
              "  </tbody>\n",
              "</table>\n",
              "</div>"
            ],
            "text/plain": [
              "   YEAR        STATE  ...  PREDIC N+6  PREDIC N+7\n",
              "0  2012      Arizona  ...        2019        2020\n",
              "1  2012   California  ...        2019        2020\n",
              "2  2012     Colorado  ...        2019        2020\n",
              "3  2012  Connecticut  ...        2019        2020\n",
              "4  2012      Georgia  ...        2019        2020\n",
              "\n",
              "[5 rows x 11 columns]"
            ]
          },
          "metadata": {},
          "execution_count": 135
        }
      ]
    },
    {
      "cell_type": "code",
      "source": [
        "#Creating the list of values for retirements in year N\n",
        "\n",
        "coal_ret = []\n",
        "for index, row in coal_jobs_nameplate_demo.iterrows():\n",
        "\n",
        "  found_match = False\n",
        "  for index2, row2 in coal_historic_retirements.iterrows():\n",
        "\n",
        "    if (row['PREDICTION YEAR']== row2['PREDICTION YEAR']) & (row['STATE']== row2['STATE']):\n",
        "          found_match = True\n",
        "          coal_ret.append(row2[\"NAMEPLATE CAPACITY RETIREMENTS (MW)\"])\n",
        "\n",
        "  if not found_match:\n",
        "     coal_ret.append(0)"
      ],
      "metadata": {
        "id": "FPIIPyc1HyhQ"
      },
      "execution_count": null,
      "outputs": []
    },
    {
      "cell_type": "code",
      "source": [
        "#Adding a new colummn \"HISTORIC RETIREMENTS N\" with the list above to the big coal DF\n",
        "\n",
        "coal_jobs_nameplate_demo['HISTORIC RETIREMENTS N'] = coal_ret"
      ],
      "metadata": {
        "id": "Kc5vtlkqJ5fx"
      },
      "execution_count": null,
      "outputs": []
    },
    {
      "cell_type": "code",
      "source": [
        "# Exporting coal_jobs_nameplate_demo (N)\n",
        "from google.colab import drive\n",
        "drive.mount('drive', force_remount=True)\n",
        "\n",
        "coal_jobs_nameplate_demo.to_excel('/content/drive/My Drive/coal_jobs_nameplate_demo_N.xlsx', encoding='utf-8', index=False)"
      ],
      "metadata": {
        "colab": {
          "base_uri": "https://localhost:8080/"
        },
        "id": "5Rj99v8EKPTz",
        "outputId": "9f9a5f76-2c9e-4034-bd04-d62c227ca871"
      },
      "execution_count": null,
      "outputs": [
        {
          "output_type": "stream",
          "name": "stdout",
          "text": [
            "Mounted at drive\n"
          ]
        }
      ]
    },
    {
      "cell_type": "markdown",
      "source": [
        "##5.2 Coal projected retirements "
      ],
      "metadata": {
        "id": "4nIeEXTHK3Pa"
      }
    },
    {
      "cell_type": "code",
      "metadata": {
        "colab": {
          "base_uri": "https://localhost:8080/",
          "height": 112
        },
        "id": "omm2dzasqed5",
        "outputId": "58448bc7-aa23-4774-a17b-e4c63f1e7c92"
      },
      "source": [
        "file_id_coal = '1Grs1BHo_FV8cLzrs_K-LPbKsW7QaZ7RT'\n",
        "retirements= drive.CreateFile({'id': file_id_coal})\n",
        "retirements.GetContentFile('retirements.xlsx')\n",
        "coal_projected_retirements = pd.read_excel('retirements.xlsx')\n",
        "\n",
        "# replacen acronyms by state names\n",
        "coal_projected_retirements['State'].replace({'AZ':'Arizona', 'CA':'California', 'CO':'Colorado', 'DE':'Delaware', 'FL':'Florida', 'GA':'Georgia', 'HI':'Hawaii', \n",
        "        'IL':'Illinois', 'IN':'Indiana', 'MA':'Massachusetts', 'MD':'Maryland',\n",
        "       'NC':'North Carolina', 'NJ':'New Jersey', 'NM':'New Mexico', 'NV':'Nevada', 'NY':'New York', 'OH':'Ohio',\n",
        "        'OR': 'Oregon' , 'PA':'Pennsylvania', 'TN':'Tennessee', 'TX':'Texas',\n",
        "       'UT':'Utah', 'VT':'Vermont', 'WA':'Washington', 'CT': 'Connecticut', 'MN':'Minnesota',\n",
        "        'RI':'Rhode Island', 'SC': 'South Carolina', 'MO':'Missouri', 'WI':'Wisconsin', 'AR':'Arkansas', 'KS':'Kansas',\n",
        "       'MI':'Michigan', 'OK':'Oklahoma', 'AL':'Alabama', 'IA':'Iowa', 'ID':'Idaho', 'KY':'Kentucky', 'MS':'Mississippi',\n",
        "        'NE':'Nebraska', 'SD':'South Dakota', 'ND':'North Dakota', 'AK':'Alaska', 'WV':'West Virginia',\n",
        "        'VA':'Virginia', 'LA':'Louisiana','ME':'Maine', 'MT':'Montana', 'WY':'Wyoming', 'DC':'District of Columbia', 'NH':'New Hampshire'}, inplace=True)\n",
        "\n",
        "\n",
        "coal_projected_retirements.head(2)"
      ],
      "execution_count": null,
      "outputs": [
        {
          "output_type": "execute_result",
          "data": {
            "text/html": [
              "<div>\n",
              "<style scoped>\n",
              "    .dataframe tbody tr th:only-of-type {\n",
              "        vertical-align: middle;\n",
              "    }\n",
              "\n",
              "    .dataframe tbody tr th {\n",
              "        vertical-align: top;\n",
              "    }\n",
              "\n",
              "    .dataframe thead th {\n",
              "        text-align: right;\n",
              "    }\n",
              "</style>\n",
              "<table border=\"1\" class=\"dataframe\">\n",
              "  <thead>\n",
              "    <tr style=\"text-align: right;\">\n",
              "      <th></th>\n",
              "      <th>PREDICTION YEAR</th>\n",
              "      <th>Year of Projection</th>\n",
              "      <th>Projected Retirement Year</th>\n",
              "      <th>State</th>\n",
              "      <th>Nameplate Capacity (MW)</th>\n",
              "    </tr>\n",
              "  </thead>\n",
              "  <tbody>\n",
              "    <tr>\n",
              "      <th>0</th>\n",
              "      <td>2015</td>\n",
              "      <td>2014</td>\n",
              "      <td>2015</td>\n",
              "      <td>California</td>\n",
              "      <td>101.2</td>\n",
              "    </tr>\n",
              "    <tr>\n",
              "      <th>1</th>\n",
              "      <td>2015</td>\n",
              "      <td>2014</td>\n",
              "      <td>2015</td>\n",
              "      <td>Colorado</td>\n",
              "      <td>152.0</td>\n",
              "    </tr>\n",
              "  </tbody>\n",
              "</table>\n",
              "</div>"
            ],
            "text/plain": [
              "   PREDICTION YEAR  Year of Projection  ...       State Nameplate Capacity (MW)\n",
              "0             2015                2014  ...  California                   101.2\n",
              "1             2015                2014  ...    Colorado                   152.0\n",
              "\n",
              "[2 rows x 5 columns]"
            ]
          },
          "metadata": {},
          "execution_count": 141
        }
      ]
    },
    {
      "cell_type": "code",
      "source": [
        "coal_projected_retirements.loc[coal_projected_retirements['State'] == 'Iowa']"
      ],
      "metadata": {
        "colab": {
          "base_uri": "https://localhost:8080/",
          "height": 269
        },
        "id": "DyoPViSliTVi",
        "outputId": "d2e29706-694a-4d23-a5c8-56e30112f189"
      },
      "execution_count": null,
      "outputs": [
        {
          "output_type": "execute_result",
          "data": {
            "text/html": [
              "<div>\n",
              "<style scoped>\n",
              "    .dataframe tbody tr th:only-of-type {\n",
              "        vertical-align: middle;\n",
              "    }\n",
              "\n",
              "    .dataframe tbody tr th {\n",
              "        vertical-align: top;\n",
              "    }\n",
              "\n",
              "    .dataframe thead th {\n",
              "        text-align: right;\n",
              "    }\n",
              "</style>\n",
              "<table border=\"1\" class=\"dataframe\">\n",
              "  <thead>\n",
              "    <tr style=\"text-align: right;\">\n",
              "      <th></th>\n",
              "      <th>PREDICTION YEAR</th>\n",
              "      <th>Year of Projection</th>\n",
              "      <th>Projected Retirement Year</th>\n",
              "      <th>State</th>\n",
              "      <th>Nameplate Capacity (MW)</th>\n",
              "    </tr>\n",
              "  </thead>\n",
              "  <tbody>\n",
              "    <tr>\n",
              "      <th>4</th>\n",
              "      <td>2015</td>\n",
              "      <td>2014</td>\n",
              "      <td>2015</td>\n",
              "      <td>Iowa</td>\n",
              "      <td>536.2</td>\n",
              "    </tr>\n",
              "    <tr>\n",
              "      <th>49</th>\n",
              "      <td>2016</td>\n",
              "      <td>2015</td>\n",
              "      <td>2016</td>\n",
              "      <td>Iowa</td>\n",
              "      <td>418.0</td>\n",
              "    </tr>\n",
              "    <tr>\n",
              "      <th>176</th>\n",
              "      <td>2020</td>\n",
              "      <td>2019</td>\n",
              "      <td>2021</td>\n",
              "      <td>Iowa</td>\n",
              "      <td>197.7</td>\n",
              "    </tr>\n",
              "    <tr>\n",
              "      <th>193</th>\n",
              "      <td>2020</td>\n",
              "      <td>2019</td>\n",
              "      <td>2025</td>\n",
              "      <td>Iowa</td>\n",
              "      <td>30.0</td>\n",
              "    </tr>\n",
              "    <tr>\n",
              "      <th>199</th>\n",
              "      <td>2021</td>\n",
              "      <td>2020</td>\n",
              "      <td>2025</td>\n",
              "      <td>Iowa</td>\n",
              "      <td>28.7</td>\n",
              "    </tr>\n",
              "    <tr>\n",
              "      <th>205</th>\n",
              "      <td>2021</td>\n",
              "      <td>2020</td>\n",
              "      <td>2021</td>\n",
              "      <td>Iowa</td>\n",
              "      <td>205.3</td>\n",
              "    </tr>\n",
              "    <tr>\n",
              "      <th>240</th>\n",
              "      <td>2022</td>\n",
              "      <td>2021</td>\n",
              "      <td>2022</td>\n",
              "      <td>Iowa</td>\n",
              "      <td>241.4</td>\n",
              "    </tr>\n",
              "  </tbody>\n",
              "</table>\n",
              "</div>"
            ],
            "text/plain": [
              "     PREDICTION YEAR  Year of Projection  ...  State Nameplate Capacity (MW)\n",
              "4               2015                2014  ...   Iowa                   536.2\n",
              "49              2016                2015  ...   Iowa                   418.0\n",
              "176             2020                2019  ...   Iowa                   197.7\n",
              "193             2020                2019  ...   Iowa                    30.0\n",
              "199             2021                2020  ...   Iowa                    28.7\n",
              "205             2021                2020  ...   Iowa                   205.3\n",
              "240             2022                2021  ...   Iowa                   241.4\n",
              "\n",
              "[7 rows x 5 columns]"
            ]
          },
          "metadata": {},
          "execution_count": 125
        }
      ]
    },
    {
      "cell_type": "code",
      "metadata": {
        "id": "J8GFntj8HuVA"
      },
      "source": [
        "#Colummn Retiements N+1\n",
        "\n",
        "coal_ret_1 = []\n",
        "for index, row in coal_jobs_nameplate_demo.iterrows():\n",
        "  found_match = False\n",
        "  for index2, row2 in coal_projected_retirements.iterrows():\n",
        "    if (row['PREDICTION YEAR']== row2['PREDICTION YEAR']) & (row['STATE']== row2['State']) & (row['PREDICTION YEAR'] == row2['Projected Retirement Year']):\n",
        "          if found_match == True:\n",
        "              print(\"{} ; {}\".format(row2['PREDICTION YEAR'], row2['State']))\n",
        "          found_match = True\n",
        "          (coal_ret_1.append(row2[\"Nameplate Capacity (MW)\"]))\n",
        "   \n",
        "\n",
        "  if found_match == False:\n",
        "    coal_ret_1.append(0)\n"
      ],
      "execution_count": null,
      "outputs": []
    },
    {
      "cell_type": "code",
      "source": [
        "#Adding a new colummn \"PROJECTED RET N+1\" with the list above to the big coal DF\n",
        "\n",
        "coal_jobs_nameplate_demo['PROYECTED RET N+1'] = coal_ret_1"
      ],
      "metadata": {
        "id": "7LmKK7ylNuyN"
      },
      "execution_count": null,
      "outputs": []
    },
    {
      "cell_type": "code",
      "source": [
        "# Exporting coal_jobs_nameplate_demo (N+1)\n",
        "from google.colab import drive\n",
        "drive.mount('drive', force_remount=True)\n",
        "\n",
        "coal_jobs_nameplate_demo.to_excel('/content/drive/My Drive/coal_jobs_nameplate_demo_N+1.xlsx', encoding='utf-8', index=False)"
      ],
      "metadata": {
        "colab": {
          "base_uri": "https://localhost:8080/"
        },
        "id": "fWRRokXsm7g4",
        "outputId": "17736bc3-780d-461c-dfd9-3aeb3bc35b22"
      },
      "execution_count": null,
      "outputs": [
        {
          "output_type": "stream",
          "name": "stdout",
          "text": [
            "Mounted at drive\n"
          ]
        }
      ]
    },
    {
      "cell_type": "code",
      "source": [
        "#Colummn Retiements N+2\n",
        "\n",
        "coal_ret_2 = []\n",
        "for index, row in coal_jobs_nameplate_demo.iterrows():\n",
        "  found_match = False\n",
        "  for index2, row2 in coal_projected_retirements.iterrows():\n",
        "\n",
        "    if (row['PREDICTION YEAR']== row2['PREDICTION YEAR']) & (row['STATE']== row2['State']) & (row['PREDICTION YEAR']+1 == row2['Projected Retirement Year']):\n",
        "          if found_match == True:\n",
        "              print(\"{} ; {}\".format(row2['PREDICTION YEAR'], row2['State']))\n",
        "          found_match = True\n",
        "          (coal_ret_2.append(row2[\"Nameplate Capacity (MW)\"]))\n",
        "          #continue\n",
        "          \n",
        "\n",
        "  if found_match == False:\n",
        "    coal_ret_2.append(0)"
      ],
      "metadata": {
        "id": "YZgEG60KQGLT"
      },
      "execution_count": null,
      "outputs": []
    },
    {
      "cell_type": "code",
      "source": [
        "#Adding a new colummn \"PROJECTED RET N+2\" with the list above to the big coal DF\n",
        "\n",
        "coal_jobs_nameplate_demo['PROYECTED RET N+2'] = coal_ret_2"
      ],
      "metadata": {
        "id": "bjpZuS6eQGN2"
      },
      "execution_count": null,
      "outputs": []
    },
    {
      "cell_type": "code",
      "source": [
        "# Exporting coal_jobs_nameplate_demo (N+2)\n",
        "from google.colab import drive\n",
        "drive.mount('drive', force_remount=True)\n",
        "\n",
        "coal_jobs_nameplate_demo.to_excel('/content/drive/My Drive/coal_jobs_nameplate_demo_N+2.xlsx', encoding='utf-8', index=False)"
      ],
      "metadata": {
        "colab": {
          "base_uri": "https://localhost:8080/"
        },
        "id": "puQY64txo0s0",
        "outputId": "aac42ea2-8bec-4ee3-dccc-f64888a43b9f"
      },
      "execution_count": null,
      "outputs": [
        {
          "output_type": "stream",
          "name": "stdout",
          "text": [
            "Mounted at drive\n"
          ]
        }
      ]
    },
    {
      "cell_type": "code",
      "source": [
        "#Colummn Retiements N+3\n",
        "\n",
        "coal_ret_3 = []\n",
        "for index, row in coal_jobs_nameplate_demo.iterrows():\n",
        "  found_match = False\n",
        "  for index2, row2 in coal_projected_retirements.iterrows():\n",
        "\n",
        "    if (row['PREDICTION YEAR']== row2['PREDICTION YEAR']) & (row['STATE']== row2['State']) & (row['PREDICTION YEAR']+2 == row2['Projected Retirement Year']):\n",
        "          if found_match == True:\n",
        "              print(\"{} ; {}\".format(row2['PREDICTION YEAR'], row2['State']))\n",
        "          found_match = True\n",
        "          (coal_ret_3.append(row2[\"Nameplate Capacity (MW)\"]))\n",
        "          #continue\n",
        "          \n",
        "\n",
        "  if found_match == False:\n",
        "    coal_ret_3.append(0)"
      ],
      "metadata": {
        "id": "BGSVf5X1QGVG"
      },
      "execution_count": null,
      "outputs": []
    },
    {
      "cell_type": "code",
      "source": [
        "#Adding a new colummn \"PROJECTED RET N+3\" with the list above to the big coal DF\n",
        "\n",
        "coal_jobs_nameplate_demo['PROYECTED RET N+3'] = coal_ret_3"
      ],
      "metadata": {
        "id": "k6dn1GXXQGXU"
      },
      "execution_count": null,
      "outputs": []
    },
    {
      "cell_type": "code",
      "source": [
        "#Colummn Retiements N+4\n",
        "\n",
        "coal_ret_4 = []\n",
        "for index, row in coal_jobs_nameplate_demo.iterrows():\n",
        "  found_match = False\n",
        "  for index2, row2 in coal_projected_retirements.iterrows():\n",
        "\n",
        "    if (row['PREDICTION YEAR']== row2['PREDICTION YEAR']) & (row['STATE']== row2['State']) & (row['PREDICTION YEAR']+3 == row2['Projected Retirement Year']):\n",
        "          if found_match == True:\n",
        "              print(\"{} ; {}\".format(row2['PREDICTION YEAR'], row2['State']))\n",
        "          found_match = True\n",
        "          (coal_ret_4.append(row2[\"Nameplate Capacity (MW)\"]))\n",
        "          #continue\n",
        "          \n",
        "\n",
        "  if found_match == False:\n",
        "    coal_ret_4.append(0)"
      ],
      "metadata": {
        "id": "7JVRiYrzQGb0"
      },
      "execution_count": null,
      "outputs": []
    },
    {
      "cell_type": "code",
      "source": [
        "#Adding a new colummn \"PROJECTED RET N+4\" with the list above to the big coal DF\n",
        "\n",
        "coal_jobs_nameplate_demo['PROYECTED RET N+4'] = coal_ret_4"
      ],
      "metadata": {
        "id": "AaJHuN2zQGeu"
      },
      "execution_count": null,
      "outputs": []
    },
    {
      "cell_type": "code",
      "source": [
        "#Colummn Retiements N+5\n",
        "\n",
        "coal_ret_5 = []\n",
        "for index, row in coal_jobs_nameplate_demo.iterrows():\n",
        "  found_match = False\n",
        "  for index2, row2 in coal_projected_retirements.iterrows():\n",
        "\n",
        "    if (row['PREDICTION YEAR']== row2['PREDICTION YEAR']) & (row['STATE']== row2['State']) & (row['PREDICTION YEAR']+4 == row2['Projected Retirement Year']):\n",
        "          if found_match == True:\n",
        "              print(\"{} ; {}\".format(row2['PREDICTION YEAR'], row2['State']))\n",
        "          found_match = True\n",
        "          (coal_ret_5.append(row2[\"Nameplate Capacity (MW)\"]))\n",
        "          #continue\n",
        "          \n",
        "\n",
        "  if found_match == False:\n",
        "    coal_ret_5.append(0)"
      ],
      "metadata": {
        "id": "jp4IuG4YQGhQ"
      },
      "execution_count": null,
      "outputs": []
    },
    {
      "cell_type": "code",
      "source": [
        "#Adding a new colummn \"PROJECTED RET N+5\" with the list above to the big coal DF\n",
        "\n",
        "coal_jobs_nameplate_demo['PROYECTED RET N+5'] = coal_ret_5"
      ],
      "metadata": {
        "id": "oyGIc9WmQGj3"
      },
      "execution_count": null,
      "outputs": []
    },
    {
      "cell_type": "code",
      "source": [
        "#Colummn Retiements N+6\n",
        "\n",
        "coal_ret_6 = []\n",
        "for index, row in coal_jobs_nameplate_demo.iterrows():\n",
        "  found_match = False\n",
        "  for index2, row2 in coal_projected_retirements.iterrows():\n",
        "\n",
        "    if (row['PREDICTION YEAR']== row2['PREDICTION YEAR']) & (row['STATE']== row2['State']) & (row['PREDICTION YEAR']+5 == row2['Projected Retirement Year']):\n",
        "          if found_match == True:\n",
        "              print(\"{} ; {}\".format(row2['PREDICTION YEAR'], row2['State']))\n",
        "          found_match = True\n",
        "          (coal_ret_6.append(row2[\"Nameplate Capacity (MW)\"]))\n",
        "          #continue\n",
        "          \n",
        "\n",
        "  if found_match == False:\n",
        "    coal_ret_6.append(0)"
      ],
      "metadata": {
        "id": "7_OA4zlFQGmq"
      },
      "execution_count": null,
      "outputs": []
    },
    {
      "cell_type": "code",
      "source": [
        "#Adding a new colummn \"PROJECTED RET N+6\" with the list above to the big coal DF\n",
        "\n",
        "coal_jobs_nameplate_demo['PROYECTED RET N+6'] = coal_ret_6"
      ],
      "metadata": {
        "id": "gdUMiOaTQGpn"
      },
      "execution_count": null,
      "outputs": []
    },
    {
      "cell_type": "code",
      "source": [
        "#Colummn Retiements N+7\n",
        "\n",
        "coal_ret_7 = []\n",
        "for index, row in coal_jobs_nameplate_demo.iterrows():\n",
        "  found_match = False\n",
        "  for index2, row2 in coal_projected_retirements.iterrows():\n",
        "\n",
        "    if (row['PREDICTION YEAR']== row2['PREDICTION YEAR']) & (row['STATE']== row2['State']) & (row['PREDICTION YEAR']+6 == row2['Projected Retirement Year']):\n",
        "          if found_match == True:\n",
        "              print(\"{} ; {}\".format(row2['PREDICTION YEAR'], row2['State']))\n",
        "          found_match = True\n",
        "          (coal_ret_7.append(row2[\"Nameplate Capacity (MW)\"]))\n",
        "          #continue\n",
        "          \n",
        "\n",
        "  if found_match == False:\n",
        "    coal_ret_7.append(0)"
      ],
      "metadata": {
        "id": "Aacwyy1vQGsS"
      },
      "execution_count": null,
      "outputs": []
    },
    {
      "cell_type": "code",
      "source": [
        "#Adding a new colummn \"PROJECTED RET N+7\" with the list above to the big coal DF\n",
        "\n",
        "coal_jobs_nameplate_demo['PROYECTED RET N+7'] = coal_ret_7"
      ],
      "metadata": {
        "id": "5j0jE5x2RJKl"
      },
      "execution_count": null,
      "outputs": []
    },
    {
      "cell_type": "code",
      "source": [
        "# Exporting coal_jobs_nameplate_demo (N, N+1, N+2, ...., N+7)\n",
        "from google.colab import drive\n",
        "drive.mount('drive', force_remount=True)\n",
        "\n",
        "coal_jobs_nameplate_demo.to_excel('/content/drive/My Drive/coal_jobs_nameplate_demo_N+7.xlsx', encoding='utf-8', index=False)"
      ],
      "metadata": {
        "colab": {
          "base_uri": "https://localhost:8080/"
        },
        "id": "RHuY52kpRJNA",
        "outputId": "bd67fe2f-5a9e-4f61-ae92-8b093805e804"
      },
      "execution_count": null,
      "outputs": [
        {
          "output_type": "stream",
          "name": "stdout",
          "text": [
            "Mounted at drive\n"
          ]
        }
      ]
    },
    {
      "cell_type": "code",
      "source": [
        ""
      ],
      "metadata": {
        "id": "VwR3CYiKRJPM"
      },
      "execution_count": null,
      "outputs": []
    },
    {
      "cell_type": "code",
      "source": [
        ""
      ],
      "metadata": {
        "id": "QcRhQjt2RJRv"
      },
      "execution_count": null,
      "outputs": []
    },
    {
      "cell_type": "code",
      "source": [
        ""
      ],
      "metadata": {
        "id": "YEBvirVrRJTo"
      },
      "execution_count": null,
      "outputs": []
    },
    {
      "cell_type": "code",
      "source": [
        ""
      ],
      "metadata": {
        "id": "Ugoml_67RJXR"
      },
      "execution_count": null,
      "outputs": []
    },
    {
      "cell_type": "markdown",
      "metadata": {
        "id": "EpDjp2vPQLWo"
      },
      "source": [
        "##5.3 Coal historic additions "
      ]
    },
    {
      "cell_type": "code",
      "source": [
        "auth.authenticate_user()\n",
        "gauth = GoogleAuth()\n",
        "gauth.credentials = GoogleCredentials.get_application_default()\n",
        "drive = GoogleDrive(gauth)"
      ],
      "metadata": {
        "id": "Wo89r2Pqqb2K"
      },
      "execution_count": 68,
      "outputs": []
    },
    {
      "cell_type": "code",
      "source": [
        "# Historic additions coal for colummn N\n",
        "file_id_add = '1bA189yivbLP-zV-KN4sFQ29qN21Jweqw'\n",
        "coalhistoric_add= drive.CreateFile({'id': file_id_add})\n",
        "coalhistoric_add.GetContentFile('coalhistoric_add.xlsx')\n",
        "coal_historic_additions = pd.read_excel('coalhistoric_add.xlsx')\n",
        "\n",
        "# replacen acronyms by state names\n",
        "coal_historic_additions['STATE'].replace({'AZ':'Arizona', 'CA':'California', 'CO':'Colorado', 'DE':'Delaware', 'FL':'Florida', 'GA':'Georgia', 'HI':'Hawaii', \n",
        "        'IL':'Illinois', 'IN':'Indiana', 'MA':'Massachusetts', 'MD':'Maryland',\n",
        "       'NC':'North Carolina', 'NJ':'New Jersey', 'NM':'New Mexico', 'NV':'Nevada', 'NY':'New York', 'OH':'Ohio',\n",
        "        'OR': 'Oregon' , 'PA':'Pennsylvania', 'TN':'Tennessee', 'TX':'Texas',\n",
        "       'UT':'Utah', 'VT':'Vermont', 'WA':'Washington', 'CT': 'Connecticut', 'MN':'Minnesota',\n",
        "        'RI':'Rhode Island', 'SC': 'South Carolina', 'MO':'Missouri', 'WI':'Wisconsin', 'AR':'Arkansas', 'KS':'Kansas',\n",
        "       'MI':'Michigan', 'OK':'Oklahoma', 'AL':'Alabama', 'IA':'Iowa', 'ID':'Idaho', 'KY':'Kentucky', 'MS':'Mississippi',\n",
        "        'NE':'Nebraska', 'SD':'South Dakota', 'ND':'North Dakota', 'AK':'Alaska', 'WV':'West Virginia',\n",
        "        'VA':'Virginia', 'LA':'Louisiana','ME':'Maine', 'MT':'Montana', 'WY':'Wyoming', 'DC':'District of Columbia', 'NH':'New Hampshire'}, inplace=True)\n"
      ],
      "metadata": {
        "id": "N_6trCojSnND"
      },
      "execution_count": 69,
      "outputs": []
    },
    {
      "cell_type": "code",
      "source": [
        "coal_historic_additions.head()"
      ],
      "metadata": {
        "colab": {
          "base_uri": "https://localhost:8080/",
          "height": 258
        },
        "id": "vFJlPk9USnPz",
        "outputId": "5a77877e-e8d4-4ba5-fefc-7f2dc6528440"
      },
      "execution_count": 73,
      "outputs": [
        {
          "output_type": "execute_result",
          "data": {
            "text/html": [
              "<div>\n",
              "<style scoped>\n",
              "    .dataframe tbody tr th:only-of-type {\n",
              "        vertical-align: middle;\n",
              "    }\n",
              "\n",
              "    .dataframe tbody tr th {\n",
              "        vertical-align: top;\n",
              "    }\n",
              "\n",
              "    .dataframe thead th {\n",
              "        text-align: right;\n",
              "    }\n",
              "</style>\n",
              "<table border=\"1\" class=\"dataframe\">\n",
              "  <thead>\n",
              "    <tr style=\"text-align: right;\">\n",
              "      <th></th>\n",
              "      <th>YEAR</th>\n",
              "      <th>STATE</th>\n",
              "      <th>NAMEPLATE CAPACITY (MW)</th>\n",
              "      <th>PREDICTION YEAR</th>\n",
              "      <th>PREDC N+1</th>\n",
              "      <th>PREDC N+2</th>\n",
              "      <th>PREDC N+3</th>\n",
              "      <th>PREDC N+4</th>\n",
              "      <th>PREDC N+5</th>\n",
              "      <th>PREDC N+6</th>\n",
              "      <th>PREDC N+7</th>\n",
              "    </tr>\n",
              "  </thead>\n",
              "  <tbody>\n",
              "    <tr>\n",
              "      <th>0</th>\n",
              "      <td>2012</td>\n",
              "      <td>Arkansas</td>\n",
              "      <td>609.0</td>\n",
              "      <td>2013</td>\n",
              "      <td>2014</td>\n",
              "      <td>2015</td>\n",
              "      <td>2016</td>\n",
              "      <td>2017</td>\n",
              "      <td>2018</td>\n",
              "      <td>2019</td>\n",
              "      <td>2020</td>\n",
              "    </tr>\n",
              "    <tr>\n",
              "      <th>1</th>\n",
              "      <td>2012</td>\n",
              "      <td>Illinois</td>\n",
              "      <td>3532.0</td>\n",
              "      <td>2013</td>\n",
              "      <td>2014</td>\n",
              "      <td>2015</td>\n",
              "      <td>2016</td>\n",
              "      <td>2017</td>\n",
              "      <td>2018</td>\n",
              "      <td>2019</td>\n",
              "      <td>2020</td>\n",
              "    </tr>\n",
              "    <tr>\n",
              "      <th>2</th>\n",
              "      <td>2012</td>\n",
              "      <td>North Carolina</td>\n",
              "      <td>1819.0</td>\n",
              "      <td>2013</td>\n",
              "      <td>2014</td>\n",
              "      <td>2015</td>\n",
              "      <td>2016</td>\n",
              "      <td>2017</td>\n",
              "      <td>2018</td>\n",
              "      <td>2019</td>\n",
              "      <td>2020</td>\n",
              "    </tr>\n",
              "    <tr>\n",
              "      <th>3</th>\n",
              "      <td>2012</td>\n",
              "      <td>Virginia</td>\n",
              "      <td>668.0</td>\n",
              "      <td>2013</td>\n",
              "      <td>2014</td>\n",
              "      <td>2015</td>\n",
              "      <td>2016</td>\n",
              "      <td>2017</td>\n",
              "      <td>2018</td>\n",
              "      <td>2019</td>\n",
              "      <td>2020</td>\n",
              "    </tr>\n",
              "    <tr>\n",
              "      <th>4</th>\n",
              "      <td>2013</td>\n",
              "      <td>Indiana</td>\n",
              "      <td>236.5</td>\n",
              "      <td>2014</td>\n",
              "      <td>2015</td>\n",
              "      <td>2016</td>\n",
              "      <td>2017</td>\n",
              "      <td>2018</td>\n",
              "      <td>2019</td>\n",
              "      <td>2020</td>\n",
              "      <td>2021</td>\n",
              "    </tr>\n",
              "  </tbody>\n",
              "</table>\n",
              "</div>"
            ],
            "text/plain": [
              "   YEAR           STATE  ...  PREDC N+6  PREDC N+7\n",
              "0  2012        Arkansas  ...       2019       2020\n",
              "1  2012        Illinois  ...       2019       2020\n",
              "2  2012  North Carolina  ...       2019       2020\n",
              "3  2012        Virginia  ...       2019       2020\n",
              "4  2013         Indiana  ...       2020       2021\n",
              "\n",
              "[5 rows x 11 columns]"
            ]
          },
          "metadata": {},
          "execution_count": 73
        }
      ]
    },
    {
      "cell_type": "code",
      "source": [
        "#Creating the list of values for additions in year N\n",
        "\n",
        "coal_add = []\n",
        "for index, row in coal_jobs_nameplate_demo.iterrows():\n",
        "\n",
        "  found_match = False\n",
        "  for index2, row2 in coal_historic_additions.iterrows():\n",
        "\n",
        "    if (row['PREDICTION YEAR']== row2['PREDICTION YEAR']) & (row['STATE']== row2['STATE']):\n",
        "          found_match = True\n",
        "          coal_add.append(row2[\"NAMEPLATE CAPACITY (MW)\"])\n",
        "\n",
        "  if not found_match:\n",
        "     coal_add.append(0)"
      ],
      "metadata": {
        "id": "RtzKcql4SnSn"
      },
      "execution_count": 74,
      "outputs": []
    },
    {
      "cell_type": "code",
      "source": [
        "#Adding a new colummn \"HISTORIC ADDITIONS N\" with the list above to the big coal DF\n",
        "\n",
        "coal_jobs_nameplate_demo['HISTORIC ADDITIONS N'] = coal_add"
      ],
      "metadata": {
        "id": "LhSakTNfSnXZ"
      },
      "execution_count": 75,
      "outputs": []
    },
    {
      "cell_type": "markdown",
      "source": [
        "##5.4 Coal projected additions "
      ],
      "metadata": {
        "id": "BGFxL9Vxqm4s"
      }
    },
    {
      "cell_type": "code",
      "metadata": {
        "colab": {
          "base_uri": "https://localhost:8080/",
          "height": 363
        },
        "id": "YRApnlhdEbTA",
        "outputId": "dc772e98-aac3-4019-fc48-1b7a32b62649"
      },
      "source": [
        "file_id_coal = '1XUckkvLm9lEqqOdgc04-hooN_W9oMra6'\n",
        "additions= drive.CreateFile({'id': file_id_coal})\n",
        "additions.GetContentFile('additions.xlsx')\n",
        "coal_projected_additions = pd.read_excel('additions.xlsx')\n",
        "\n",
        "coal_projected_additions"
      ],
      "execution_count": 76,
      "outputs": [
        {
          "output_type": "execute_result",
          "data": {
            "text/html": [
              "<div>\n",
              "<style scoped>\n",
              "    .dataframe tbody tr th:only-of-type {\n",
              "        vertical-align: middle;\n",
              "    }\n",
              "\n",
              "    .dataframe tbody tr th {\n",
              "        vertical-align: top;\n",
              "    }\n",
              "\n",
              "    .dataframe thead th {\n",
              "        text-align: right;\n",
              "    }\n",
              "</style>\n",
              "<table border=\"1\" class=\"dataframe\">\n",
              "  <thead>\n",
              "    <tr style=\"text-align: right;\">\n",
              "      <th></th>\n",
              "      <th>PREDICTION YEAR</th>\n",
              "      <th>Year of Projection</th>\n",
              "      <th>Projected Retirement Year</th>\n",
              "      <th>State</th>\n",
              "      <th>Nameplate Capacity (MW)</th>\n",
              "    </tr>\n",
              "  </thead>\n",
              "  <tbody>\n",
              "    <tr>\n",
              "      <th>0</th>\n",
              "      <td>2016</td>\n",
              "      <td>2015</td>\n",
              "      <td>2016</td>\n",
              "      <td>PA</td>\n",
              "      <td>5.1</td>\n",
              "    </tr>\n",
              "    <tr>\n",
              "      <th>1</th>\n",
              "      <td>2016</td>\n",
              "      <td>2015</td>\n",
              "      <td>2016</td>\n",
              "      <td>WY</td>\n",
              "      <td>320.0</td>\n",
              "    </tr>\n",
              "    <tr>\n",
              "      <th>2</th>\n",
              "      <td>2016</td>\n",
              "      <td>2015</td>\n",
              "      <td>2018</td>\n",
              "      <td>AK</td>\n",
              "      <td>17.0</td>\n",
              "    </tr>\n",
              "    <tr>\n",
              "      <th>3</th>\n",
              "      <td>2016</td>\n",
              "      <td>2015</td>\n",
              "      <td>2019</td>\n",
              "      <td>WY</td>\n",
              "      <td>350.0</td>\n",
              "    </tr>\n",
              "    <tr>\n",
              "      <th>4</th>\n",
              "      <td>2017</td>\n",
              "      <td>2016</td>\n",
              "      <td>2018</td>\n",
              "      <td>AK</td>\n",
              "      <td>17.0</td>\n",
              "    </tr>\n",
              "    <tr>\n",
              "      <th>5</th>\n",
              "      <td>2017</td>\n",
              "      <td>2016</td>\n",
              "      <td>2018</td>\n",
              "      <td>KY</td>\n",
              "      <td>90.0</td>\n",
              "    </tr>\n",
              "    <tr>\n",
              "      <th>6</th>\n",
              "      <td>2017</td>\n",
              "      <td>2016</td>\n",
              "      <td>2019</td>\n",
              "      <td>WY</td>\n",
              "      <td>350.0</td>\n",
              "    </tr>\n",
              "    <tr>\n",
              "      <th>7</th>\n",
              "      <td>2017</td>\n",
              "      <td>2016</td>\n",
              "      <td>2020</td>\n",
              "      <td>WY</td>\n",
              "      <td>320.0</td>\n",
              "    </tr>\n",
              "    <tr>\n",
              "      <th>8</th>\n",
              "      <td>2019</td>\n",
              "      <td>2018</td>\n",
              "      <td>2020</td>\n",
              "      <td>WY</td>\n",
              "      <td>320.0</td>\n",
              "    </tr>\n",
              "    <tr>\n",
              "      <th>9</th>\n",
              "      <td>2020</td>\n",
              "      <td>2019</td>\n",
              "      <td>2020</td>\n",
              "      <td>AK</td>\n",
              "      <td>17.0</td>\n",
              "    </tr>\n",
              "  </tbody>\n",
              "</table>\n",
              "</div>"
            ],
            "text/plain": [
              "   PREDICTION YEAR  Year of Projection  ...  State Nameplate Capacity (MW)\n",
              "0             2016                2015  ...     PA                     5.1\n",
              "1             2016                2015  ...     WY                   320.0\n",
              "2             2016                2015  ...     AK                    17.0\n",
              "3             2016                2015  ...     WY                   350.0\n",
              "4             2017                2016  ...     AK                    17.0\n",
              "5             2017                2016  ...     KY                    90.0\n",
              "6             2017                2016  ...     WY                   350.0\n",
              "7             2017                2016  ...     WY                   320.0\n",
              "8             2019                2018  ...     WY                   320.0\n",
              "9             2020                2019  ...     AK                    17.0\n",
              "\n",
              "[10 rows x 5 columns]"
            ]
          },
          "metadata": {},
          "execution_count": 76
        }
      ]
    },
    {
      "cell_type": "code",
      "metadata": {
        "id": "E4y8A0NYLMCc"
      },
      "source": [
        "coal_projected_additions['State'].replace({'AZ':'Arizona', 'CA':'California', 'CO':'Colorado', 'DE':'Delaware', 'FL':'Florida', 'GA':'Georgia', 'HI':'Hawaii', \n",
        "        'IL':'Illinois', 'IN':'Indiana', 'MA':'Massachusetts', 'MD':'Maryland',\n",
        "       'NC':'North Carolina', 'NJ':'New Jersey', 'NM':'New Mexico', 'NV':'Nevada', 'NY':'New York', 'OH':'Ohio',\n",
        "        'OR': 'Oregon' , 'PA':'Pennsylvania', 'TN':'Tennessee', 'TX':'Texas',\n",
        "       'UT':'Utah', 'VT':'Vermont', 'WA':'Washington', 'CT': 'Connecticut', 'MN':'Minnesota',\n",
        "        'RI':'Rhode Island', 'SC': 'South Carolina', 'MO':'Missouri', 'WI':'Wisconsin', 'AR':'Arkansas', 'KS':'Kansas',\n",
        "       'MI':'Michigan', 'OK':'Oklahoma', 'AL':'Alabama', 'IA':'Iowa', 'ID':'Idaho', 'KY':'Kentucky', 'MS':'Mississippi',\n",
        "        'NE':'Nebraska', 'SD':'South Dakota', 'ND':'North Dakota', 'AK':'Alaska', 'WV':'West Virginia',\n",
        "        'VA':'Virginia', 'LA':'Louisiana','ME':'Maine', 'MT':'Montana', 'WY':'Wyoming', 'DC':'District of Columbia', 'NH':'New Hampshire'}, inplace=True)\n",
        "\n"
      ],
      "execution_count": 77,
      "outputs": []
    },
    {
      "cell_type": "code",
      "metadata": {
        "id": "AgK_6i-mLUPP"
      },
      "source": [
        "#Colummn Additions N+1\n",
        "\n",
        "coal_add_1 = []\n",
        "for index, row in coal_jobs_nameplate_demo.iterrows():\n",
        "  found_match = False\n",
        "  for index2, row2 in coal_projected_additions.iterrows():\n",
        "\n",
        "    if (row['PREDICTION YEAR']== row2['PREDICTION YEAR']) & (row['STATE']== row2['State']) & (row['PREDICTION YEAR'] == row2['Projected Retirement Year']):\n",
        "          if found_match == True:\n",
        "              print(\"{} ; {}\".format(row2['PREDICTION YEAR'], row2['State']))\n",
        "          found_match = True\n",
        "          (coal_add_1.append(row2[\"Nameplate Capacity (MW)\"]))\n",
        "          \n",
        "          \n",
        "\n",
        "  if found_match == False:\n",
        "    coal_add_1.append(0)"
      ],
      "execution_count": 78,
      "outputs": []
    },
    {
      "cell_type": "code",
      "metadata": {
        "id": "ieXY_g9zdQLI"
      },
      "source": [
        "#Adding a new colummn \"PROJECTED ADD N+1\" with the list above to the big coal DF\n",
        "\n",
        "coal_jobs_nameplate_demo['PROYECTED ADD N+1'] = coal_add_1"
      ],
      "execution_count": 79,
      "outputs": []
    },
    {
      "cell_type": "code",
      "metadata": {
        "id": "RMT0O80WciZk"
      },
      "source": [
        "#Colummn Additions N+2\n",
        "\n",
        "coal_add_2 = []\n",
        "for index, row in coal_jobs_nameplate_demo.iterrows():\n",
        "  found_match = False\n",
        "  for index2, row2 in coal_projected_additions.iterrows():\n",
        "\n",
        "    if (row['PREDICTION YEAR']== row2['PREDICTION YEAR']) & (row['STATE']== row2['State']) & (row['PREDICTION YEAR']+1 == row2['Projected Retirement Year']):\n",
        "          if found_match == True:\n",
        "              print(\"{} ; {}\".format(row2['PREDICTION YEAR'], row2['State']))\n",
        "          found_match = True\n",
        "          (coal_add_2.append(row2[\"Nameplate Capacity (MW)\"]))\n",
        "          \n",
        "          \n",
        "\n",
        "  if found_match == False:\n",
        "    coal_add_2.append(0)"
      ],
      "execution_count": 80,
      "outputs": []
    },
    {
      "cell_type": "code",
      "metadata": {
        "id": "bdcu97WCLcrR"
      },
      "source": [
        "#Adding a new colummn \"PROJECTED ADD N+2\" with the list above to the big coal DF\n",
        "\n",
        "coal_jobs_nameplate_demo['PROYECTED ADD N+2'] = coal_add_2"
      ],
      "execution_count": 81,
      "outputs": []
    },
    {
      "cell_type": "code",
      "source": [
        "#Colummn Additions N+3\n",
        "\n",
        "coal_add_3 = []\n",
        "for index, row in coal_jobs_nameplate_demo.iterrows():\n",
        "  found_match = False\n",
        "  for index2, row2 in coal_projected_additions.iterrows():\n",
        "\n",
        "    if (row['PREDICTION YEAR']== row2['PREDICTION YEAR']) & (row['STATE']== row2['State']) & (row['PREDICTION YEAR']+2 == row2['Projected Retirement Year']):\n",
        "          if found_match == True:\n",
        "              print(\"{} ; {}\".format(row2['PREDICTION YEAR'], row2['State']))\n",
        "          found_match = True\n",
        "          (coal_add_3.append(row2[\"Nameplate Capacity (MW)\"]))\n",
        "          \n",
        "          \n",
        "\n",
        "  if found_match == False:\n",
        "    coal_add_3.append(0)"
      ],
      "metadata": {
        "id": "azPisWMdr_Gp"
      },
      "execution_count": 82,
      "outputs": []
    },
    {
      "cell_type": "code",
      "source": [
        "#Adding a new colummn \"PROJECTED ADD N+3\" with the list above to the big coal DF\n",
        "\n",
        "coal_jobs_nameplate_demo['PROYECTED ADD N+3'] = coal_add_3"
      ],
      "metadata": {
        "id": "qI_4_HcHr_J1"
      },
      "execution_count": 83,
      "outputs": []
    },
    {
      "cell_type": "code",
      "source": [
        "#Colummn Additions N+4\n",
        "\n",
        "coal_add_4 = []\n",
        "for index, row in coal_jobs_nameplate_demo.iterrows():\n",
        "  found_match = False\n",
        "  for index2, row2 in coal_projected_additions.iterrows():\n",
        "\n",
        "    if (row['PREDICTION YEAR']== row2['PREDICTION YEAR']) & (row['STATE']== row2['State']) & (row['PREDICTION YEAR']+3 == row2['Projected Retirement Year']):\n",
        "          if found_match == True:\n",
        "              print(\"{} ; {}\".format(row2['PREDICTION YEAR'], row2['State']))\n",
        "          found_match = True\n",
        "          (coal_add_4.append(row2[\"Nameplate Capacity (MW)\"]))\n",
        "          \n",
        "          \n",
        "\n",
        "  if found_match == False:\n",
        "    coal_add_4.append(0)"
      ],
      "metadata": {
        "id": "gP-dgTz7r_Lu"
      },
      "execution_count": 84,
      "outputs": []
    },
    {
      "cell_type": "code",
      "source": [
        "#Adding a new colummn \"PROJECTED ADD N+4\" with the list above to the big coal DF\n",
        "\n",
        "coal_jobs_nameplate_demo['PROYECTED ADD N+4'] = coal_add_4"
      ],
      "metadata": {
        "id": "0TIny_8Sr_Pe"
      },
      "execution_count": 85,
      "outputs": []
    },
    {
      "cell_type": "code",
      "source": [
        "#Colummn Additions N+5\n",
        "\n",
        "coal_add_5 = []\n",
        "for index, row in coal_jobs_nameplate_demo.iterrows():\n",
        "  found_match = False\n",
        "  for index2, row2 in coal_projected_additions.iterrows():\n",
        "\n",
        "    if (row['PREDICTION YEAR']== row2['PREDICTION YEAR']) & (row['STATE']== row2['State']) & (row['PREDICTION YEAR']+4 == row2['Projected Retirement Year']):\n",
        "          if found_match == True:\n",
        "              print(\"{} ; {}\".format(row2['PREDICTION YEAR'], row2['State']))\n",
        "          found_match = True\n",
        "          (coal_add_5.append(row2[\"Nameplate Capacity (MW)\"]))\n",
        "          \n",
        "          \n",
        "\n",
        "  if found_match == False:\n",
        "    coal_add_5.append(0)"
      ],
      "metadata": {
        "id": "_cnwnt0Pr_R5"
      },
      "execution_count": 86,
      "outputs": []
    },
    {
      "cell_type": "code",
      "source": [
        "#Adding a new colummn \"PROJECTED ADD N+5\" with the list above to the big coal DF\n",
        "\n",
        "coal_jobs_nameplate_demo['PROYECTED ADD N+5'] = coal_add_5"
      ],
      "metadata": {
        "id": "35jmdzYdr_T6"
      },
      "execution_count": 87,
      "outputs": []
    },
    {
      "cell_type": "code",
      "source": [
        "#Colummn Additions N+6\n",
        "\n",
        "coal_add_6 = []\n",
        "for index, row in coal_jobs_nameplate_demo.iterrows():\n",
        "  found_match = False\n",
        "  for index2, row2 in coal_projected_additions.iterrows():\n",
        "\n",
        "    if (row['PREDICTION YEAR']== row2['PREDICTION YEAR']) & (row['STATE']== row2['State']) & (row['PREDICTION YEAR']+5 == row2['Projected Retirement Year']):\n",
        "          if found_match == True:\n",
        "              print(\"{} ; {}\".format(row2['PREDICTION YEAR'], row2['State']))\n",
        "          found_match = True\n",
        "          (coal_add_6.append(row2[\"Nameplate Capacity (MW)\"]))\n",
        "          \n",
        "          \n",
        "\n",
        "  if found_match == False:\n",
        "    coal_add_6.append(0)"
      ],
      "metadata": {
        "id": "HBab909-r_WY"
      },
      "execution_count": 88,
      "outputs": []
    },
    {
      "cell_type": "code",
      "source": [
        "#Adding a new colummn \"PROJECTED ADD N+6\" with the list above to the big coal DF\n",
        "\n",
        "coal_jobs_nameplate_demo['PROYECTED ADD N+6'] = coal_add_6"
      ],
      "metadata": {
        "id": "UBIttyMZr_Yu"
      },
      "execution_count": 89,
      "outputs": []
    },
    {
      "cell_type": "code",
      "source": [
        "#Colummn Additions N+7\n",
        "\n",
        "coal_add_7 = []\n",
        "for index, row in coal_jobs_nameplate_demo.iterrows():\n",
        "  found_match = False\n",
        "  for index2, row2 in coal_projected_additions.iterrows():\n",
        "\n",
        "    if (row['PREDICTION YEAR']== row2['PREDICTION YEAR']) & (row['STATE']== row2['State']) & (row['PREDICTION YEAR']+6 == row2['Projected Retirement Year']):\n",
        "          if found_match == True:\n",
        "              print(\"{} ; {}\".format(row2['PREDICTION YEAR'], row2['State']))\n",
        "          found_match = True\n",
        "          (coal_add_7.append(row2[\"Nameplate Capacity (MW)\"]))\n",
        "          \n",
        "          \n",
        "\n",
        "  if found_match == False:\n",
        "    coal_add_7.append(0)"
      ],
      "metadata": {
        "id": "Y6j9xVf8snEx"
      },
      "execution_count": 90,
      "outputs": []
    },
    {
      "cell_type": "code",
      "source": [
        "# Exporting coal_jobs_nameplate_demo (N, N+1, N+2, ...., N+7)\n",
        "from google.colab import drive\n",
        "drive.mount('drive', force_remount=True)\n",
        "\n",
        "coal_jobs_nameplate_demo.to_excel('/content/drive/My Drive/coal_jobs_nameplate_demo_N+7_add.xlsx', encoding='utf-8', index=False)"
      ],
      "metadata": {
        "colab": {
          "base_uri": "https://localhost:8080/"
        },
        "id": "g5wwo850snHP",
        "outputId": "f5dcc912-c705-4067-ca3e-7abe26dd28da"
      },
      "execution_count": 91,
      "outputs": [
        {
          "output_type": "stream",
          "name": "stdout",
          "text": [
            "Mounted at drive\n"
          ]
        }
      ]
    },
    {
      "cell_type": "markdown",
      "metadata": {
        "id": "fbK46vzlQAMC"
      },
      "source": [
        "#6 Coal levelized cost"
      ]
    },
    {
      "cell_type": "code",
      "source": [
        "auth.authenticate_user()\n",
        "gauth = GoogleAuth()\n",
        "gauth.credentials = GoogleCredentials.get_application_default()\n",
        "drive = GoogleDrive(gauth)"
      ],
      "metadata": {
        "id": "ihsbQZrytNFl"
      },
      "execution_count": 92,
      "outputs": []
    },
    {
      "cell_type": "code",
      "metadata": {
        "colab": {
          "base_uri": "https://localhost:8080/",
          "height": 363
        },
        "id": "xzXoR1wKOoLz",
        "outputId": "613cdbc1-d35c-447e-9c02-6489b34238a3"
      },
      "source": [
        "#Coal\n",
        "file_id_coal_LC = '1ipuM3MDPt0u85nyYLC40EL9uUcJj9JgH'\n",
        "coalLC= drive.CreateFile({'id': file_id_coal_LC})\n",
        "coalLC.GetContentFile('coalLC.xlsx')\n",
        "coal_LCOE = pd.read_excel('coalLC.xlsx')\n",
        "\n",
        "coal_LCOE"
      ],
      "execution_count": 93,
      "outputs": [
        {
          "output_type": "execute_result",
          "data": {
            "text/html": [
              "<div>\n",
              "<style scoped>\n",
              "    .dataframe tbody tr th:only-of-type {\n",
              "        vertical-align: middle;\n",
              "    }\n",
              "\n",
              "    .dataframe tbody tr th {\n",
              "        vertical-align: top;\n",
              "    }\n",
              "\n",
              "    .dataframe thead th {\n",
              "        text-align: right;\n",
              "    }\n",
              "</style>\n",
              "<table border=\"1\" class=\"dataframe\">\n",
              "  <thead>\n",
              "    <tr style=\"text-align: right;\">\n",
              "      <th></th>\n",
              "      <th>PREDICTION YEAR</th>\n",
              "      <th>LCOE ($/MWh)</th>\n",
              "    </tr>\n",
              "  </thead>\n",
              "  <tbody>\n",
              "    <tr>\n",
              "      <th>0</th>\n",
              "      <td>2012</td>\n",
              "      <td>102</td>\n",
              "    </tr>\n",
              "    <tr>\n",
              "      <th>1</th>\n",
              "      <td>2013</td>\n",
              "      <td>105</td>\n",
              "    </tr>\n",
              "    <tr>\n",
              "      <th>2</th>\n",
              "      <td>2014</td>\n",
              "      <td>112</td>\n",
              "    </tr>\n",
              "    <tr>\n",
              "      <th>3</th>\n",
              "      <td>2015</td>\n",
              "      <td>108</td>\n",
              "    </tr>\n",
              "    <tr>\n",
              "      <th>4</th>\n",
              "      <td>2016</td>\n",
              "      <td>102</td>\n",
              "    </tr>\n",
              "    <tr>\n",
              "      <th>5</th>\n",
              "      <td>2017</td>\n",
              "      <td>102</td>\n",
              "    </tr>\n",
              "    <tr>\n",
              "      <th>6</th>\n",
              "      <td>2018</td>\n",
              "      <td>102</td>\n",
              "    </tr>\n",
              "    <tr>\n",
              "      <th>7</th>\n",
              "      <td>2019</td>\n",
              "      <td>109</td>\n",
              "    </tr>\n",
              "    <tr>\n",
              "      <th>8</th>\n",
              "      <td>2020</td>\n",
              "      <td>112</td>\n",
              "    </tr>\n",
              "    <tr>\n",
              "      <th>9</th>\n",
              "      <td>2021</td>\n",
              "      <td>108</td>\n",
              "    </tr>\n",
              "  </tbody>\n",
              "</table>\n",
              "</div>"
            ],
            "text/plain": [
              "   PREDICTION YEAR  LCOE ($/MWh)\n",
              "0             2012           102\n",
              "1             2013           105\n",
              "2             2014           112\n",
              "3             2015           108\n",
              "4             2016           102\n",
              "5             2017           102\n",
              "6             2018           102\n",
              "7             2019           109\n",
              "8             2020           112\n",
              "9             2021           108"
            ]
          },
          "metadata": {},
          "execution_count": 93
        }
      ]
    },
    {
      "cell_type": "code",
      "metadata": {
        "id": "jHOfzLYDO9oc"
      },
      "source": [
        "# Adding LCOE to the big coal dataframe \n",
        "\n",
        "coal= pd.merge(coal_jobs_nameplate_demo, coal_LCOE, how=\"outer\", on=[\"PREDICTION YEAR\"])\n",
        "\n",
        "# filling with 0 all  NA/NaN values\n",
        "coal.fillna(0, inplace=True)"
      ],
      "execution_count": 94,
      "outputs": []
    },
    {
      "cell_type": "markdown",
      "metadata": {
        "id": "gSFZCBBiQD-Y"
      },
      "source": [
        "#7 Exporting coal DF"
      ]
    },
    {
      "cell_type": "code",
      "source": [
        "auth.authenticate_user()\n",
        "gauth = GoogleAuth()\n",
        "gauth.credentials = GoogleCredentials.get_application_default()\n",
        "drive = GoogleDrive(gauth)"
      ],
      "metadata": {
        "id": "6PLMqrrc5W_J"
      },
      "execution_count": null,
      "outputs": []
    },
    {
      "cell_type": "code",
      "metadata": {
        "colab": {
          "base_uri": "https://localhost:8080/",
          "height": 219
        },
        "outputId": "806d89fb-5ef4-47ed-d540-7af630c893ed",
        "id": "v9RhxeZk5W_K"
      },
      "source": [
        "#Importing the big solar dataframe (solar_jobs_nameplate_demo)\n",
        "file_id = '1-qhPLfQbZMqPpemB3Ik8kBF-WqGoZn_f'\n",
        "solar_all= drive.CreateFile({'id': file_id})\n",
        "solar_all.GetContentFile('solar_all.xlsx')\n",
        "solar_jobs_nameplate_demo = pd.read_excel('solar_all.xlsx')\n",
        "\n",
        "solar_jobs_nameplate_demo.head(2)"
      ],
      "execution_count": null,
      "outputs": [
        {
          "output_type": "execute_result",
          "data": {
            "text/html": [
              "<div>\n",
              "<style scoped>\n",
              "    .dataframe tbody tr th:only-of-type {\n",
              "        vertical-align: middle;\n",
              "    }\n",
              "\n",
              "    .dataframe tbody tr th {\n",
              "        vertical-align: top;\n",
              "    }\n",
              "\n",
              "    .dataframe thead th {\n",
              "        text-align: right;\n",
              "    }\n",
              "</style>\n",
              "<table border=\"1\" class=\"dataframe\">\n",
              "  <thead>\n",
              "    <tr style=\"text-align: right;\">\n",
              "      <th></th>\n",
              "      <th>STATE</th>\n",
              "      <th>JOBS</th>\n",
              "      <th>PREDICTION YEAR</th>\n",
              "      <th>YEAR_x</th>\n",
              "      <th>SOLAR NAMEPLATE CAPACITY</th>\n",
              "      <th>YEAR_y</th>\n",
              "      <th>MEDIAN HOUSEHOLD INCOME (CURRENT INCOME, USD $)</th>\n",
              "      <th>RESIDENT POPULATION</th>\n",
              "      <th>POPULATION (25 YEARS OR OLDER)</th>\n",
              "      <th>EDUCATIONAL ATTAINMENT 25 YEARS OLDER (HIGH SCHOOL)</th>\n",
              "      <th>EDUCATIONAL ATTAINMENT 25 YEARS OR OLDER (ASSOCIATES DEGREE)</th>\n",
              "      <th>EDUCATIONAL ATTAINMENT 25 YEARS OR OLDER (BACHELOR DEGREE)</th>\n",
              "    </tr>\n",
              "  </thead>\n",
              "  <tbody>\n",
              "    <tr>\n",
              "      <th>0</th>\n",
              "      <td>Alabama</td>\n",
              "      <td>210.0</td>\n",
              "      <td>2012</td>\n",
              "      <td>0</td>\n",
              "      <td>0.0</td>\n",
              "      <td>0</td>\n",
              "      <td>0</td>\n",
              "      <td>0</td>\n",
              "      <td>0</td>\n",
              "      <td>0</td>\n",
              "      <td>0</td>\n",
              "      <td>0</td>\n",
              "    </tr>\n",
              "    <tr>\n",
              "      <th>1</th>\n",
              "      <td>Alaska</td>\n",
              "      <td>80.0</td>\n",
              "      <td>2012</td>\n",
              "      <td>0</td>\n",
              "      <td>0.0</td>\n",
              "      <td>0</td>\n",
              "      <td>0</td>\n",
              "      <td>0</td>\n",
              "      <td>0</td>\n",
              "      <td>0</td>\n",
              "      <td>0</td>\n",
              "      <td>0</td>\n",
              "    </tr>\n",
              "  </tbody>\n",
              "</table>\n",
              "</div>"
            ],
            "text/plain": [
              "     STATE  ...  EDUCATIONAL ATTAINMENT 25 YEARS OR OLDER (BACHELOR DEGREE)\n",
              "0  Alabama  ...                                                  0         \n",
              "1   Alaska  ...                                                  0         \n",
              "\n",
              "[2 rows x 12 columns]"
            ]
          },
          "metadata": {},
          "execution_count": 4
        }
      ]
    },
    {
      "cell_type": "markdown",
      "source": [
        "#8 Solar retirements and additions"
      ],
      "metadata": {
        "id": "xHvGb-VN5cy3"
      }
    },
    {
      "cell_type": "markdown",
      "metadata": {
        "id": "OKroj9qn5W_K"
      },
      "source": [
        "##8.1 Historic additions solar\n",
        "\n",
        "\n"
      ]
    },
    {
      "cell_type": "code",
      "source": [
        "auth.authenticate_user()\n",
        "gauth = GoogleAuth()\n",
        "gauth.credentials = GoogleCredentials.get_application_default()\n",
        "drive = GoogleDrive(gauth)"
      ],
      "metadata": {
        "id": "SP6SKoce5W_K"
      },
      "execution_count": 96,
      "outputs": []
    },
    {
      "cell_type": "code",
      "source": [
        "# Historic additions solar for colummn N\n",
        "file_id_add = '1pxeSIMDwC3tV3YPbv5z4NQM4WZU-DBeu'\n",
        "solarhistoric_add= drive.CreateFile({'id': file_id_add})\n",
        "solarhistoric_add.GetContentFile('solarhistoric_add.xlsx')\n",
        "solar_historic_additions = pd.read_excel('solarhistoric_add.xlsx')\n",
        "\n",
        "# replacen acronyms by state names\n",
        "solar_historic_additions['STATE'].replace({'AZ':'Arizona', 'CA':'California', 'CO':'Colorado', 'DE':'Delaware', 'FL':'Florida', 'GA':'Georgia', 'HI':'Hawaii', \n",
        "        'IL':'Illinois', 'IN':'Indiana', 'MA':'Massachusetts', 'MD':'Maryland',\n",
        "       'NC':'North Carolina', 'NJ':'New Jersey', 'NM':'New Mexico', 'NV':'Nevada', 'NY':'New York', 'OH':'Ohio',\n",
        "        'OR': 'Oregon' , 'PA':'Pennsylvania', 'TN':'Tennessee', 'TX':'Texas',\n",
        "       'UT':'Utah', 'VT':'Vermont', 'WA':'Washington', 'CT': 'Connecticut', 'MN':'Minnesota',\n",
        "        'RI':'Rhode Island', 'SC': 'South Carolina', 'MO':'Missouri', 'WI':'Wisconsin', 'AR':'Arkansas', 'KS':'Kansas',\n",
        "       'MI':'Michigan', 'OK':'Oklahoma', 'AL':'Alabama', 'IA':'Iowa', 'ID':'Idaho', 'KY':'Kentucky', 'MS':'Mississippi',\n",
        "        'NE':'Nebraska', 'SD':'South Dakota', 'ND':'North Dakota', 'AK':'Alaska', 'WV':'West Virginia',\n",
        "        'VA':'Virginia', 'LA':'Louisiana','ME':'Maine', 'MT':'Montana', 'WY':'Wyoming', 'DC':'District of Columbia', 'NH':'New Hampshire'}, inplace=True)\n"
      ],
      "metadata": {
        "id": "6-6bptca5W_K"
      },
      "execution_count": 97,
      "outputs": []
    },
    {
      "cell_type": "code",
      "source": [
        "solar_historic_additions.head()"
      ],
      "metadata": {
        "colab": {
          "base_uri": "https://localhost:8080/",
          "height": 223
        },
        "outputId": "7263e964-3018-4151-b690-bb4e9071902f",
        "id": "6zeZeyKh5W_L"
      },
      "execution_count": 98,
      "outputs": [
        {
          "output_type": "execute_result",
          "data": {
            "text/html": [
              "<div>\n",
              "<style scoped>\n",
              "    .dataframe tbody tr th:only-of-type {\n",
              "        vertical-align: middle;\n",
              "    }\n",
              "\n",
              "    .dataframe tbody tr th {\n",
              "        vertical-align: top;\n",
              "    }\n",
              "\n",
              "    .dataframe thead th {\n",
              "        text-align: right;\n",
              "    }\n",
              "</style>\n",
              "<table border=\"1\" class=\"dataframe\">\n",
              "  <thead>\n",
              "    <tr style=\"text-align: right;\">\n",
              "      <th></th>\n",
              "      <th>YEAR</th>\n",
              "      <th>STATE</th>\n",
              "      <th>NAMEPLATE CAPACITY</th>\n",
              "      <th>PREDICTION YEAR</th>\n",
              "      <th>PREDIC N+1</th>\n",
              "      <th>PREDIC N+2</th>\n",
              "      <th>PREDIC N+3</th>\n",
              "      <th>PREDIC N+4</th>\n",
              "      <th>PREDIC N+5</th>\n",
              "      <th>PREDIC N+6</th>\n",
              "      <th>PREDIC N+7</th>\n",
              "    </tr>\n",
              "  </thead>\n",
              "  <tbody>\n",
              "    <tr>\n",
              "      <th>0</th>\n",
              "      <td>2012</td>\n",
              "      <td>Arizona</td>\n",
              "      <td>485.9</td>\n",
              "      <td>2013</td>\n",
              "      <td>2014</td>\n",
              "      <td>2015</td>\n",
              "      <td>2016</td>\n",
              "      <td>2017</td>\n",
              "      <td>2018</td>\n",
              "      <td>2019</td>\n",
              "      <td>2020</td>\n",
              "    </tr>\n",
              "    <tr>\n",
              "      <th>1</th>\n",
              "      <td>2012</td>\n",
              "      <td>California</td>\n",
              "      <td>450.7</td>\n",
              "      <td>2013</td>\n",
              "      <td>2014</td>\n",
              "      <td>2015</td>\n",
              "      <td>2016</td>\n",
              "      <td>2017</td>\n",
              "      <td>2018</td>\n",
              "      <td>2019</td>\n",
              "      <td>2020</td>\n",
              "    </tr>\n",
              "    <tr>\n",
              "      <th>2</th>\n",
              "      <td>2012</td>\n",
              "      <td>Colorado</td>\n",
              "      <td>32.8</td>\n",
              "      <td>2013</td>\n",
              "      <td>2014</td>\n",
              "      <td>2015</td>\n",
              "      <td>2016</td>\n",
              "      <td>2017</td>\n",
              "      <td>2018</td>\n",
              "      <td>2019</td>\n",
              "      <td>2020</td>\n",
              "    </tr>\n",
              "    <tr>\n",
              "      <th>3</th>\n",
              "      <td>2012</td>\n",
              "      <td>Connecticut</td>\n",
              "      <td>0.8</td>\n",
              "      <td>2013</td>\n",
              "      <td>2014</td>\n",
              "      <td>2015</td>\n",
              "      <td>2016</td>\n",
              "      <td>2017</td>\n",
              "      <td>2018</td>\n",
              "      <td>2019</td>\n",
              "      <td>2020</td>\n",
              "    </tr>\n",
              "    <tr>\n",
              "      <th>4</th>\n",
              "      <td>2012</td>\n",
              "      <td>Delaware</td>\n",
              "      <td>11.8</td>\n",
              "      <td>2013</td>\n",
              "      <td>2014</td>\n",
              "      <td>2015</td>\n",
              "      <td>2016</td>\n",
              "      <td>2017</td>\n",
              "      <td>2018</td>\n",
              "      <td>2019</td>\n",
              "      <td>2020</td>\n",
              "    </tr>\n",
              "  </tbody>\n",
              "</table>\n",
              "</div>"
            ],
            "text/plain": [
              "   YEAR        STATE  NAMEPLATE CAPACITY  ...  PREDIC N+5  PREDIC N+6  PREDIC N+7\n",
              "0  2012      Arizona               485.9  ...        2018        2019        2020\n",
              "1  2012   California               450.7  ...        2018        2019        2020\n",
              "2  2012     Colorado                32.8  ...        2018        2019        2020\n",
              "3  2012  Connecticut                 0.8  ...        2018        2019        2020\n",
              "4  2012     Delaware                11.8  ...        2018        2019        2020\n",
              "\n",
              "[5 rows x 11 columns]"
            ]
          },
          "metadata": {},
          "execution_count": 98
        }
      ]
    },
    {
      "cell_type": "code",
      "source": [
        "#Creating the list of values for additions in year N\n",
        "\n",
        "solar_add = []\n",
        "for index, row in solar_jobs_nameplate_demo.iterrows():\n",
        "\n",
        "  found_match = False\n",
        "  for index2, row2 in solar_historic_additions.iterrows():\n",
        "\n",
        "    if (row['PREDICTION YEAR']== row2['PREDICTION YEAR']) & (row['STATE']== row2['STATE']):\n",
        "          found_match = True\n",
        "          solar_add.append(row2[\"NAMEPLATE CAPACITY\"])\n",
        "\n",
        "  if not found_match:\n",
        "     solar_add.append(0)"
      ],
      "metadata": {
        "id": "5s2EtGdg5W_L"
      },
      "execution_count": 99,
      "outputs": []
    },
    {
      "cell_type": "code",
      "source": [
        "#Adding a new colummn \"HISTORIC ADDITIONS N\" with the list above to the big solar DF\n",
        "\n",
        "solar_jobs_nameplate_demo['HISTORIC ADDITIONS N'] = solar_add"
      ],
      "metadata": {
        "id": "H2RHRKDb5W_L"
      },
      "execution_count": 100,
      "outputs": []
    },
    {
      "cell_type": "markdown",
      "source": [
        "##8.2 Projected additions solar"
      ],
      "metadata": {
        "id": "amRZlRUw5W_L"
      }
    },
    {
      "cell_type": "code",
      "metadata": {
        "colab": {
          "base_uri": "https://localhost:8080/",
          "height": 423
        },
        "outputId": "394edc99-d3be-4009-9d75-983008c3149d",
        "id": "XTtAw-qZ5W_L"
      },
      "source": [
        "file_id_solar = '13C5R5sIMUC9VpOXdvOK7nJb10QdY8bG_'\n",
        "additions= drive.CreateFile({'id': file_id_solar})\n",
        "additions.GetContentFile('additions.xlsx')\n",
        "solar_projected_additions = pd.read_excel('additions.xlsx')\n",
        "\n",
        "solar_projected_additions"
      ],
      "execution_count": 101,
      "outputs": [
        {
          "output_type": "execute_result",
          "data": {
            "text/html": [
              "<div>\n",
              "<style scoped>\n",
              "    .dataframe tbody tr th:only-of-type {\n",
              "        vertical-align: middle;\n",
              "    }\n",
              "\n",
              "    .dataframe tbody tr th {\n",
              "        vertical-align: top;\n",
              "    }\n",
              "\n",
              "    .dataframe thead th {\n",
              "        text-align: right;\n",
              "    }\n",
              "</style>\n",
              "<table border=\"1\" class=\"dataframe\">\n",
              "  <thead>\n",
              "    <tr style=\"text-align: right;\">\n",
              "      <th></th>\n",
              "      <th>PREDICTION YEAR</th>\n",
              "      <th>Year of Projection</th>\n",
              "      <th>Projected Additions Year</th>\n",
              "      <th>State</th>\n",
              "      <th>Nameplate Capacity (MW)</th>\n",
              "    </tr>\n",
              "  </thead>\n",
              "  <tbody>\n",
              "    <tr>\n",
              "      <th>0</th>\n",
              "      <td>2015</td>\n",
              "      <td>2014</td>\n",
              "      <td>2015</td>\n",
              "      <td>AZ</td>\n",
              "      <td>51.0</td>\n",
              "    </tr>\n",
              "    <tr>\n",
              "      <th>1</th>\n",
              "      <td>2015</td>\n",
              "      <td>2014</td>\n",
              "      <td>2015</td>\n",
              "      <td>CA</td>\n",
              "      <td>2015.8</td>\n",
              "    </tr>\n",
              "    <tr>\n",
              "      <th>2</th>\n",
              "      <td>2015</td>\n",
              "      <td>2014</td>\n",
              "      <td>2015</td>\n",
              "      <td>HI</td>\n",
              "      <td>37.0</td>\n",
              "    </tr>\n",
              "    <tr>\n",
              "      <th>3</th>\n",
              "      <td>2015</td>\n",
              "      <td>2014</td>\n",
              "      <td>2015</td>\n",
              "      <td>IN</td>\n",
              "      <td>5.3</td>\n",
              "    </tr>\n",
              "    <tr>\n",
              "      <th>4</th>\n",
              "      <td>2015</td>\n",
              "      <td>2014</td>\n",
              "      <td>2015</td>\n",
              "      <td>NC</td>\n",
              "      <td>364.2</td>\n",
              "    </tr>\n",
              "    <tr>\n",
              "      <th>...</th>\n",
              "      <td>...</td>\n",
              "      <td>...</td>\n",
              "      <td>...</td>\n",
              "      <td>...</td>\n",
              "      <td>...</td>\n",
              "    </tr>\n",
              "    <tr>\n",
              "      <th>384</th>\n",
              "      <td>2022</td>\n",
              "      <td>2021</td>\n",
              "      <td>2025</td>\n",
              "      <td>AZ</td>\n",
              "      <td>200.0</td>\n",
              "    </tr>\n",
              "    <tr>\n",
              "      <th>385</th>\n",
              "      <td>2022</td>\n",
              "      <td>2021</td>\n",
              "      <td>2025</td>\n",
              "      <td>NC</td>\n",
              "      <td>61.0</td>\n",
              "    </tr>\n",
              "    <tr>\n",
              "      <th>386</th>\n",
              "      <td>2022</td>\n",
              "      <td>2021</td>\n",
              "      <td>2025</td>\n",
              "      <td>OR</td>\n",
              "      <td>250.0</td>\n",
              "    </tr>\n",
              "    <tr>\n",
              "      <th>387</th>\n",
              "      <td>2022</td>\n",
              "      <td>2021</td>\n",
              "      <td>2025</td>\n",
              "      <td>UT</td>\n",
              "      <td>324.0</td>\n",
              "    </tr>\n",
              "    <tr>\n",
              "      <th>388</th>\n",
              "      <td>2022</td>\n",
              "      <td>2021</td>\n",
              "      <td>2026</td>\n",
              "      <td>SC</td>\n",
              "      <td>1052.8</td>\n",
              "    </tr>\n",
              "  </tbody>\n",
              "</table>\n",
              "<p>389 rows × 5 columns</p>\n",
              "</div>"
            ],
            "text/plain": [
              "     PREDICTION YEAR  Year of Projection  ...  State Nameplate Capacity (MW)\n",
              "0               2015                2014  ...     AZ                    51.0\n",
              "1               2015                2014  ...     CA                  2015.8\n",
              "2               2015                2014  ...     HI                    37.0\n",
              "3               2015                2014  ...     IN                     5.3\n",
              "4               2015                2014  ...     NC                   364.2\n",
              "..               ...                 ...  ...    ...                     ...\n",
              "384             2022                2021  ...     AZ                   200.0\n",
              "385             2022                2021  ...     NC                    61.0\n",
              "386             2022                2021  ...     OR                   250.0\n",
              "387             2022                2021  ...     UT                   324.0\n",
              "388             2022                2021  ...     SC                  1052.8\n",
              "\n",
              "[389 rows x 5 columns]"
            ]
          },
          "metadata": {},
          "execution_count": 101
        }
      ]
    },
    {
      "cell_type": "code",
      "metadata": {
        "id": "oQn4SlCi5W_L"
      },
      "source": [
        "solar_projected_additions['State'].replace({'AZ':'Arizona', 'CA':'California', 'CO':'Colorado', 'DE':'Delaware', 'FL':'Florida', 'GA':'Georgia', 'HI':'Hawaii', \n",
        "        'IL':'Illinois', 'IN':'Indiana', 'MA':'Massachusetts', 'MD':'Maryland',\n",
        "       'NC':'North Carolina', 'NJ':'New Jersey', 'NM':'New Mexico', 'NV':'Nevada', 'NY':'New York', 'OH':'Ohio',\n",
        "        'OR': 'Oregon' , 'PA':'Pennsylvania', 'TN':'Tennessee', 'TX':'Texas',\n",
        "       'UT':'Utah', 'VT':'Vermont', 'WA':'Washington', 'CT': 'Connecticut', 'MN':'Minnesota',\n",
        "        'RI':'Rhode Island', 'SC': 'South Carolina', 'MO':'Missouri', 'WI':'Wisconsin', 'AR':'Arkansas', 'KS':'Kansas',\n",
        "       'MI':'Michigan', 'OK':'Oklahoma', 'AL':'Alabama', 'IA':'Iowa', 'ID':'Idaho', 'KY':'Kentucky', 'MS':'Mississippi',\n",
        "        'NE':'Nebraska', 'SD':'South Dakota', 'ND':'North Dakota', 'AK':'Alaska', 'WV':'West Virginia',\n",
        "        'VA':'Virginia', 'LA':'Louisiana','ME':'Maine', 'MT':'Montana', 'WY':'Wyoming', 'DC':'District of Columbia', 'NH':'New Hampshire'}, inplace=True)\n",
        "\n"
      ],
      "execution_count": 102,
      "outputs": []
    },
    {
      "cell_type": "code",
      "metadata": {
        "id": "d91h0yde5W_M"
      },
      "source": [
        "#Colummn Additions N+1\n",
        "\n",
        "solar_add_1 = []\n",
        "for index, row in solar_jobs_nameplate_demo.iterrows():\n",
        "  found_match = False\n",
        "  for index2, row2 in solar_projected_additions.iterrows():\n",
        "\n",
        "    if (row['PREDICTION YEAR']== row2['PREDICTION YEAR']) & (row['STATE']== row2['State']) & (row['PREDICTION YEAR'] == row2['Projected Additions Year']):\n",
        "          if found_match == True:\n",
        "              print(\"{} ; {}\".format(row2['PREDICTION YEAR'], row2['State']))\n",
        "          found_match = True\n",
        "          (solar_add_1.append(row2[\"Nameplate Capacity (MW)\"]))\n",
        "          \n",
        "          \n",
        "\n",
        "  if found_match == False:\n",
        "    solar_add_1.append(0)"
      ],
      "execution_count": 103,
      "outputs": []
    },
    {
      "cell_type": "code",
      "metadata": {
        "id": "ARsMRoEw5W_M"
      },
      "source": [
        "#Adding a new colummn \"PROJECTED ADD N+1\" with the list above to the big solar DF\n",
        "\n",
        "solar_jobs_nameplate_demo['PROYECTED ADD N+1'] = solar_add_1"
      ],
      "execution_count": 104,
      "outputs": []
    },
    {
      "cell_type": "code",
      "metadata": {
        "id": "p1iybGyb5W_M"
      },
      "source": [
        "#Colummn Additions N+2\n",
        "\n",
        "solar_add_2 = []\n",
        "for index, row in solar_jobs_nameplate_demo.iterrows():\n",
        "  found_match = False\n",
        "  for index2, row2 in solar_projected_additions.iterrows():\n",
        "\n",
        "    if (row['PREDICTION YEAR']== row2['PREDICTION YEAR']) & (row['STATE']== row2['State']) & (row['PREDICTION YEAR']+1 == row2['Projected Additions Year']):\n",
        "          if found_match == True:\n",
        "              print(\"{} ; {}\".format(row2['PREDICTION YEAR'], row2['State']))\n",
        "          found_match = True\n",
        "          (solar_add_2.append(row2[\"Nameplate Capacity (MW)\"]))\n",
        "          \n",
        "          \n",
        "\n",
        "  if found_match == False:\n",
        "    solar_add_2.append(0)"
      ],
      "execution_count": 105,
      "outputs": []
    },
    {
      "cell_type": "code",
      "metadata": {
        "id": "Hv7O6ONP5W_M"
      },
      "source": [
        "#Adding a new colummn \"PROJECTED ADD N+2\" with the list above to the big solar DF\n",
        "\n",
        "solar_jobs_nameplate_demo['PROYECTED ADD N+2'] = solar_add_2"
      ],
      "execution_count": 106,
      "outputs": []
    },
    {
      "cell_type": "code",
      "source": [
        "#Colummn Additions N+3\n",
        "\n",
        "solar_add_3 = []\n",
        "for index, row in solar_jobs_nameplate_demo.iterrows():\n",
        "  found_match = False\n",
        "  for index2, row2 in solar_projected_additions.iterrows():\n",
        "\n",
        "    if (row['PREDICTION YEAR']== row2['PREDICTION YEAR']) & (row['STATE']== row2['State']) & (row['PREDICTION YEAR']+2 == row2['Projected Additions Year']):\n",
        "          if found_match == True:\n",
        "              print(\"{} ; {}\".format(row2['PREDICTION YEAR'], row2['State']))\n",
        "          found_match = True\n",
        "          (solar_add_3.append(row2[\"Nameplate Capacity (MW)\"]))\n",
        "          \n",
        "          \n",
        "\n",
        "  if found_match == False:\n",
        "    solar_add_3.append(0)"
      ],
      "metadata": {
        "id": "Fe0tBE8Z5W_M"
      },
      "execution_count": 107,
      "outputs": []
    },
    {
      "cell_type": "code",
      "source": [
        "#Adding a new colummn \"PROJECTED ADD N+3\" with the list above to the big solar DF\n",
        "\n",
        "solar_jobs_nameplate_demo['PROYECTED ADD N+3'] = solar_add_3"
      ],
      "metadata": {
        "id": "HVlbF4ve5W_M"
      },
      "execution_count": 108,
      "outputs": []
    },
    {
      "cell_type": "code",
      "source": [
        "#Colummn Additions N+4\n",
        "\n",
        "solar_add_4 = []\n",
        "for index, row in solar_jobs_nameplate_demo.iterrows():\n",
        "  found_match = False\n",
        "  for index2, row2 in solar_projected_additions.iterrows():\n",
        "\n",
        "    if (row['PREDICTION YEAR']== row2['PREDICTION YEAR']) & (row['STATE']== row2['State']) & (row['PREDICTION YEAR']+3 == row2['Projected Additions Year']):\n",
        "          if found_match == True:\n",
        "              print(\"{} ; {}\".format(row2['PREDICTION YEAR'], row2['State']))\n",
        "          found_match = True\n",
        "          (solar_add_4.append(row2[\"Nameplate Capacity (MW)\"]))\n",
        "          \n",
        "          \n",
        "\n",
        "  if found_match == False:\n",
        "    solar_add_4.append(0)"
      ],
      "metadata": {
        "id": "y7mbH9up5W_M"
      },
      "execution_count": 109,
      "outputs": []
    },
    {
      "cell_type": "code",
      "source": [
        "#Adding a new colummn \"PROJECTED ADD N+4\" with the list above to the big solar DF\n",
        "\n",
        "solar_jobs_nameplate_demo['PROYECTED ADD N+4'] = solar_add_4"
      ],
      "metadata": {
        "id": "Agr0BuvO5W_M"
      },
      "execution_count": 110,
      "outputs": []
    },
    {
      "cell_type": "code",
      "source": [
        "#Colummn Additions N+5\n",
        "\n",
        "solar_add_5 = []\n",
        "for index, row in solar_jobs_nameplate_demo.iterrows():\n",
        "  found_match = False\n",
        "  for index2, row2 in solar_projected_additions.iterrows():\n",
        "\n",
        "    if (row['PREDICTION YEAR']== row2['PREDICTION YEAR']) & (row['STATE']== row2['State']) & (row['PREDICTION YEAR']+4 == row2['Projected Additions Year']):\n",
        "          if found_match == True:\n",
        "              print(\"{} ; {}\".format(row2['PREDICTION YEAR'], row2['State']))\n",
        "          found_match = True\n",
        "          (solar_add_5.append(row2[\"Nameplate Capacity (MW)\"]))\n",
        "          \n",
        "          \n",
        "\n",
        "  if found_match == False:\n",
        "    solar_add_5.append(0)"
      ],
      "metadata": {
        "id": "qkJAd3Pu5W_N"
      },
      "execution_count": 111,
      "outputs": []
    },
    {
      "cell_type": "code",
      "source": [
        "#Adding a new colummn \"PROJECTED ADD N+5\" with the list above to the big solar DF\n",
        "\n",
        "solar_jobs_nameplate_demo['PROYECTED ADD N+5'] = solar_add_5"
      ],
      "metadata": {
        "id": "st1eNsEX5W_N"
      },
      "execution_count": 112,
      "outputs": []
    },
    {
      "cell_type": "code",
      "source": [
        "#Colummn Additions N+6\n",
        "\n",
        "solar_add_6 = []\n",
        "for index, row in solar_jobs_nameplate_demo.iterrows():\n",
        "  found_match = False\n",
        "  for index2, row2 in solar_projected_additions.iterrows():\n",
        "\n",
        "    if (row['PREDICTION YEAR']== row2['PREDICTION YEAR']) & (row['STATE']== row2['State']) & (row['PREDICTION YEAR']+5 == row2['Projected Additions Year']):\n",
        "          if found_match == True:\n",
        "              print(\"{} ; {}\".format(row2['PREDICTION YEAR'], row2['State']))\n",
        "          found_match = True\n",
        "          (solar_add_6.append(row2[\"Nameplate Capacity (MW)\"]))\n",
        "          \n",
        "          \n",
        "\n",
        "  if found_match == False:\n",
        "    solar_add_6.append(0)"
      ],
      "metadata": {
        "id": "YIUOigNX5W_N"
      },
      "execution_count": 113,
      "outputs": []
    },
    {
      "cell_type": "code",
      "source": [
        "#Adding a new colummn \"PROJECTED ADD N+6\" with the list above to the big solar DF\n",
        "\n",
        "solar_jobs_nameplate_demo['PROYECTED ADD N+6'] = solar_add_6"
      ],
      "metadata": {
        "id": "5mNWbI825W_N"
      },
      "execution_count": 114,
      "outputs": []
    },
    {
      "cell_type": "code",
      "source": [
        "#Colummn Additions N+7\n",
        "\n",
        "solar_add_7 = []\n",
        "for index, row in solar_jobs_nameplate_demo.iterrows():\n",
        "  found_match = False\n",
        "  for index2, row2 in solar_projected_additions.iterrows():\n",
        "\n",
        "    if (row['PREDICTION YEAR']== row2['PREDICTION YEAR']) & (row['STATE']== row2['State']) & (row['PREDICTION YEAR']+6 == row2['Projected Additions Year']):\n",
        "          if found_match == True:\n",
        "              print(\"{} ; {}\".format(row2['PREDICTION YEAR'], row2['State']))\n",
        "          found_match = True\n",
        "          (solar_add_7.append(row2[\"Nameplate Capacity (MW)\"]))\n",
        "          \n",
        "          \n",
        "\n",
        "  if found_match == False:\n",
        "    solar_add_7.append(0)"
      ],
      "metadata": {
        "id": "hyQIUSFW5W_N"
      },
      "execution_count": 115,
      "outputs": []
    },
    {
      "cell_type": "code",
      "source": [
        "#Adding a new colummn \"PROJECTED ADD N+7\" with the list above to the big solar DF\n",
        "\n",
        "solar_jobs_nameplate_demo['PROYECTED ADD N+7'] = solar_add_7"
      ],
      "metadata": {
        "id": "RaLhQGTDxxt6"
      },
      "execution_count": 116,
      "outputs": []
    },
    {
      "cell_type": "markdown",
      "metadata": {
        "id": "LnYUOk0z5W_N"
      },
      "source": [
        "#9 Solar levelized cost"
      ]
    },
    {
      "cell_type": "code",
      "source": [
        "auth.authenticate_user()\n",
        "gauth = GoogleAuth()\n",
        "gauth.credentials = GoogleCredentials.get_application_default()\n",
        "drive = GoogleDrive(gauth)"
      ],
      "metadata": {
        "id": "-NKlwyMh5W_O"
      },
      "execution_count": 117,
      "outputs": []
    },
    {
      "cell_type": "code",
      "metadata": {
        "colab": {
          "base_uri": "https://localhost:8080/",
          "height": 363
        },
        "outputId": "15980d9c-c5a3-4bf2-d6db-cc02e9470ba7",
        "id": "oeIWct715W_O"
      },
      "source": [
        "#Solar\n",
        "file_id_solar_LC = '1ZPnF6uXE1zVOr8-Cl2ED5PTsXuj1nOHX'\n",
        "solarLC= drive.CreateFile({'id': file_id_solar_LC})\n",
        "solarLC.GetContentFile('solarLC.xlsx')\n",
        "solar_LCOE = pd.read_excel('solarLC.xlsx')\n",
        "\n",
        "solar_LCOE"
      ],
      "execution_count": 118,
      "outputs": [
        {
          "output_type": "execute_result",
          "data": {
            "text/html": [
              "<div>\n",
              "<style scoped>\n",
              "    .dataframe tbody tr th:only-of-type {\n",
              "        vertical-align: middle;\n",
              "    }\n",
              "\n",
              "    .dataframe tbody tr th {\n",
              "        vertical-align: top;\n",
              "    }\n",
              "\n",
              "    .dataframe thead th {\n",
              "        text-align: right;\n",
              "    }\n",
              "</style>\n",
              "<table border=\"1\" class=\"dataframe\">\n",
              "  <thead>\n",
              "    <tr style=\"text-align: right;\">\n",
              "      <th></th>\n",
              "      <th>PREDICTION YEAR</th>\n",
              "      <th>LCOE ($/MWh)</th>\n",
              "    </tr>\n",
              "  </thead>\n",
              "  <tbody>\n",
              "    <tr>\n",
              "      <th>0</th>\n",
              "      <td>2012</td>\n",
              "      <td>125</td>\n",
              "    </tr>\n",
              "    <tr>\n",
              "      <th>1</th>\n",
              "      <td>2013</td>\n",
              "      <td>104</td>\n",
              "    </tr>\n",
              "    <tr>\n",
              "      <th>2</th>\n",
              "      <td>2014</td>\n",
              "      <td>79</td>\n",
              "    </tr>\n",
              "    <tr>\n",
              "      <th>3</th>\n",
              "      <td>2015</td>\n",
              "      <td>64</td>\n",
              "    </tr>\n",
              "    <tr>\n",
              "      <th>4</th>\n",
              "      <td>2016</td>\n",
              "      <td>55</td>\n",
              "    </tr>\n",
              "    <tr>\n",
              "      <th>5</th>\n",
              "      <td>2017</td>\n",
              "      <td>50</td>\n",
              "    </tr>\n",
              "    <tr>\n",
              "      <th>6</th>\n",
              "      <td>2018</td>\n",
              "      <td>43</td>\n",
              "    </tr>\n",
              "    <tr>\n",
              "      <th>7</th>\n",
              "      <td>2019</td>\n",
              "      <td>41</td>\n",
              "    </tr>\n",
              "    <tr>\n",
              "      <th>8</th>\n",
              "      <td>2020</td>\n",
              "      <td>37</td>\n",
              "    </tr>\n",
              "    <tr>\n",
              "      <th>9</th>\n",
              "      <td>2021</td>\n",
              "      <td>36</td>\n",
              "    </tr>\n",
              "  </tbody>\n",
              "</table>\n",
              "</div>"
            ],
            "text/plain": [
              "   PREDICTION YEAR  LCOE ($/MWh)\n",
              "0             2012           125\n",
              "1             2013           104\n",
              "2             2014            79\n",
              "3             2015            64\n",
              "4             2016            55\n",
              "5             2017            50\n",
              "6             2018            43\n",
              "7             2019            41\n",
              "8             2020            37\n",
              "9             2021            36"
            ]
          },
          "metadata": {},
          "execution_count": 118
        }
      ]
    },
    {
      "cell_type": "code",
      "metadata": {
        "id": "e3e0rJAT5W_O"
      },
      "source": [
        "# Adding LCOE to the big solar dataframe \n",
        "\n",
        "solar= pd.merge(solar_jobs_nameplate_demo, solar_LCOE, how=\"outer\", on=[\"PREDICTION YEAR\"])\n",
        "\n",
        "# filling with 0 all  NA/NaN values\n",
        "solar.fillna(0, inplace=True)"
      ],
      "execution_count": 119,
      "outputs": []
    },
    {
      "cell_type": "markdown",
      "metadata": {
        "id": "FNwbd1hu5W_O"
      },
      "source": [
        "#9 Exporting the solar DF"
      ]
    },
    {
      "cell_type": "code",
      "metadata": {
        "colab": {
          "base_uri": "https://localhost:8080/"
        },
        "outputId": "56fb97a1-bcb0-43ce-f429-e4a5505a35a3",
        "id": "_S4KmTrj5W_O"
      },
      "source": [
        "# Exporting Solar\n",
        "from google.colab import drive\n",
        "drive.mount('drive', force_remount=True)\n",
        "\n",
        "solar.to_excel('/content/drive/My Drive/DF Solar Final.xlsx', encoding='utf-8', index=False)"
      ],
      "execution_count": null,
      "outputs": [
        {
          "output_type": "stream",
          "name": "stdout",
          "text": [
            "Mounted at drive\n"
          ]
        }
      ]
    }
  ]
}